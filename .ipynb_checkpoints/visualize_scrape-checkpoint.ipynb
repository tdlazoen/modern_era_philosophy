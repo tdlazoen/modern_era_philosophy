{
 "cells": [
  {
   "cell_type": "code",
   "execution_count": 260,
   "metadata": {
    "collapsed": true
   },
   "outputs": [],
   "source": [
    "from requests import get\n",
    "from bs4 import BeautifulSoup\n",
    "from unidecode import unidecode\n",
    "from collections import defaultdict\n",
    "import re\n",
    "import string"
   ]
  },
  {
   "cell_type": "code",
   "execution_count": 261,
   "metadata": {
    "collapsed": false
   },
   "outputs": [],
   "source": [
    "r = get('http://www.philosophybasics.com/philosophers_anaximander.html')\n",
    "r2 = get('http://www.philosophybasics.com/philosophers_thales.html')\n",
    "soup = BeautifulSoup(r.content, 'html.parser')\n",
    "soup2 = BeautifulSoup(r2.content, 'html.parser')"
   ]
  },
  {
   "cell_type": "code",
   "execution_count": 262,
   "metadata": {
    "collapsed": false
   },
   "outputs": [],
   "source": [
    "content = soup.select('p b')\n",
    "content2 = soup2.select('p b')"
   ]
  },
  {
   "cell_type": "code",
   "execution_count": 263,
   "metadata": {
    "collapsed": false
   },
   "outputs": [
    {
     "data": {
      "text/plain": [
       "[<b>Thales of Miletus</b>,\n",
       " <b>Greek</b>,\n",
       " <b>Miletus</b>,\n",
       " <b>Ionia</b>,\n",
       " <b>Seven Sages of Greece</b>,\n",
       " <b>first philosopher</b>,\n",
       " <b>founder</b>,\n",
       " <b>teacher</b>,\n",
       " <b>substance</b>,\n",
       " <b>material objects</b>,\n",
       " <b>water</b>,\n",
       " <b>universality</b>,\n",
       " <b>\"first scientist\".</b>,\n",
       " <b>Miletus</b>,\n",
       " <b>Diogenes La\\xebrtius</b>,\n",
       " <b>Examyas</b>,\n",
       " <b>Cleobulina</b>,\n",
       " <b>Thelidae</b>,\n",
       " <b>Agenor</b>,\n",
       " <b>Cadmus</b>,\n",
       " <b>Thebes</b>,\n",
       " <b>Phoenician</b>,\n",
       " <b>sketchy</b>,\n",
       " <b>contradictory</b>,\n",
       " <b>married</b>,\n",
       " <b>Cybisthus</b>,\n",
       " <b>Cybisthon</b>,\n",
       " <b>never married</b>,\n",
       " <b>no writings</b>,\n",
       " <b><i>\"On the Solstice\"</i></b>,\n",
       " <b><i>\"On the Equinox\"</i></b>,\n",
       " <b>business</b>,\n",
       " <b>politics</b>,\n",
       " <b>olive presses</b>,\n",
       " <b>good harvest</b>,\n",
       " <b>demonstrate</b>,\n",
       " <b>could</b>,\n",
       " <b>local politics</b>,\n",
       " <b>Lydians</b>,\n",
       " <b>Medes</b>,\n",
       " <b>Persians</b>,\n",
       " <b>predicted</b>,\n",
       " <b>eclipse</b>,\n",
       " <b>negotiations</b>,\n",
       " <b>favourable terms</b>,\n",
       " <b>died</b>,\n",
       " <b>history</b>,\n",
       " <b>legend</b>,\n",
       " <b>Seven Sages</b>,\n",
       " <b>Seven Wise Men</b>,\n",
       " <b>wisdom</b>,\n",
       " <b>\"Know thyself\"</b>,\n",
       " <b>distorted</b>,\n",
       " <b>no writings</b>,\n",
       " <b><i>\"On the Solstice\"</i></b>,\n",
       " <b><i>\"On the Equinox\"</i></b>,\n",
       " <b>very first</b>,\n",
       " <b>substance</b>,\n",
       " <b>material objects</b>,\n",
       " <b>modern scientists</b>,\n",
       " <b>first scientist</b>,\n",
       " <b>\"physis\"</b>,\n",
       " <b>characteristic way</b>,\n",
       " <b>naturalistic</b>,\n",
       " <b>supernatural</b>,\n",
       " <b>mythological</b>,\n",
       " <b>anthropomorphic</b>,\n",
       " <b>earthquakes</b>,\n",
       " <b>water</b>,\n",
       " <b>waves</b>,\n",
       " <b>cosmological doctrine</b>,\n",
       " <b>first principle</b>,\n",
       " <b>air</b>,\n",
       " <b>origin</b>,\n",
       " <b>emerge</b>,\n",
       " <b>return</b>,\n",
       " <b>are</b>,\n",
       " <b>moist substances</b>,\n",
       " <b>Earth</b>,\n",
       " <b>solidifying</b>,\n",
       " <b>floated</b>,\n",
       " <b>magnetism</b>,\n",
       " <b>static electricity</b>,\n",
       " <b>power to move</b>,\n",
       " <b>\"life\"</b>,\n",
       " <b>animation</b>,\n",
       " <b>power to act</b>,\n",
       " <b>no difference</b>,\n",
       " <b>living</b>,\n",
       " <b>dead</b>,\n",
       " <b>souls</b>,\n",
       " <b>mind</b>,\n",
       " <b>substance</b>,\n",
       " <b>non-divine principle of action</b>,\n",
       " <b>transcendental God</b>,\n",
       " <b>justice</b>,\n",
       " <b>letter of the law</b>,\n",
       " <b>spirit of the law</b>,\n",
       " <b>equally bad</b>,\n",
       " <b>moral advice</b>,\n",
       " <b>children</b>,\n",
       " <b>parents</b>,\n",
       " <b>talk</b>,\n",
       " <b>trust</b>,\n",
       " <b>ourselves</b>,\n",
       " <b>blame others</b>,\n",
       " <b>happy</b>,\n",
       " <b>healthy</b>,\n",
       " <b>resourceful</b>,\n",
       " <b>teachable</b>,\n",
       " <b>political views</b>,\n",
       " <b>benign tyranny</b>,\n",
       " <b>geometry</b>,\n",
       " <b>triangles</b>,\n",
       " <b>Thales' Theorem</b>,\n",
       " <b>within a circle</b>,\n",
       " <b>diameter</b>,\n",
       " <b>opposite angle</b>,\n",
       " <b>right angle</b>,\n",
       " <b>astronomy</b>,\n",
       " <b>path of the sun</b>,\n",
       " <b>solar eclipse</b>,\n",
       " <b>seasons</b>,\n",
       " <b>365-day year</b>,\n",
       " <b>questioning approach</b>,\n",
       " <b>Greek astronomy</b>]"
      ]
     },
     "execution_count": 263,
     "metadata": {},
     "output_type": "execute_result"
    }
   ],
   "source": [
    "content\n",
    "content2"
   ]
  },
  {
   "cell_type": "code",
   "execution_count": 264,
   "metadata": {
    "collapsed": false
   },
   "outputs": [
    {
     "name": "stdout",
     "output_type": "stream",
     "text": [
      "Anaximander\n",
      "Thales of Miletus\n"
     ]
    }
   ],
   "source": [
    "print content[0].string\n",
    "print content2[0].string"
   ]
  },
  {
   "cell_type": "code",
   "execution_count": 265,
   "metadata": {
    "collapsed": false
   },
   "outputs": [],
   "source": [
    "def add_philosopher(url, name, phil_dict, time_period, birth='BC', death='BC', western=True):\n",
    "    r = get(url)\n",
    "    soup = BeautifulSoup(r.content, 'html.parser')\n",
    "\n",
    "    # Unidecode first paragraph\n",
    "    par = unidecode(soup.select('p')[0].get_text())\n",
    "    sentences = par.split('.')\n",
    "    \n",
    "    # Calculate lifespan of philosopher\n",
    "    all=string.maketrans('','')\n",
    "    nodigs=all.translate(all, string.digits)\n",
    "    \n",
    "    # Check for sentence that contains years person lived\n",
    "    for sentence in sentences:\n",
    "        lifespan = sentence.translate(all, nodigs)\n",
    "        if len(lifespan) > 2:\n",
    "            break\n",
    "            \n",
    "    # Check if there were extra numbers in the sentence\n",
    "    if len(lifespan) > 8:\n",
    "        lifespan = lifespan[:8]\n",
    "        \n",
    "    # Set Philosopher information (Make year negative if BC)\n",
    "    middle = len(lifespan) / 2\n",
    "    try:\n",
    "        phil_dict[name]['year_born'] = -1 * int(lifespan[:middle]) if birth == 'BC' else int(lifespan[:middle])\n",
    "        phil_dict[name]['year_died'] = -1 * int(lifespan[middle:]) if death == 'BC' else int(lifespan[middle:])\n",
    "        \n",
    "    # Fill in with null values if can't be read in\n",
    "    except ValueError:\n",
    "        phil_dict[name]['year_born'] = float('NaN')\n",
    "        phil_dict[name]['year_died'] = float('NaN')\n",
    "        \n",
    "    phil_dict[name]['time_period'] = time_period\n",
    "    phil_dict[name]['Western?'] = western\n",
    "    \n",
    "    return phil_dict"
   ]
  },
  {
   "cell_type": "code",
   "execution_count": 266,
   "metadata": {
    "collapsed": false
   },
   "outputs": [],
   "source": [
    "# Obtain Name, birth year, and death year for philosophers of given time period\n",
    "def ancient_time_period(time_period):\n",
    "    # Make Request to page of specific time period\n",
    "    r = get('http://www.philosophybasics.com/historical_' + time_period + '.html')\n",
    "    soup = BeautifulSoup(r.content, 'html.parser')\n",
    "    \n",
    "    # Get names of each philosopher from specified time period\n",
    "    philosophers = soup.select('a')\n",
    "    if time_period == 'presocratic':\n",
    "        min_slice, max_slice = 11, 23\n",
    "        \n",
    "    elif time_period == 'socratic':\n",
    "        min_slice, max_slice = 10, 14\n",
    "    \n",
    "    elif time_period == 'hellenistic':\n",
    "        min_slice, max_slice = 10, 15\n",
    "    \n",
    "    else: # time_period == 'roman'\n",
    "        min_slice, max_slice = 9, 14 \n",
    "    \n",
    "    philosophers = [unidecode(x.string) for x in philosophers[min_slice:max_slice]]\n",
    "    \n",
    "    # Base url for web pages\n",
    "    base_url = 'http://www.philosophybasics.com/philosophers_'\n",
    "    phil_dict = defaultdict(dict)\n",
    "    \n",
    "    # Determine url to get request from\n",
    "    if time_period == 'presocratic':\n",
    "        for name in philosophers:\n",
    "                \n",
    "            if name == 'Zeno of Elea':\n",
    "                name = 'Zeno_Elea'\n",
    "                \n",
    "            else:\n",
    "                # Split name into needed part only\n",
    "                name = name.split()[0]\n",
    "                \n",
    "            \n",
    "            url = base_url + name.lower() + '.html'\n",
    "            \n",
    "            phil_dict = add_philosopher(url, name, phil_dict, time_period)\n",
    "                \n",
    "    elif time_period == 'socratic':\n",
    "        for name in philosophers:\n",
    "            name = name.split()[0]\n",
    "                \n",
    "            url = base_url + name.lower() + '.html'\n",
    "                \n",
    "                \n",
    "            phil_dict = add_philosopher(url, name, phil_dict, time_period)\n",
    "    \n",
    "    elif time_period == 'hellenistic':\n",
    "        for name in philosophers:\n",
    "            if name == 'Zeno of Citium':\n",
    "                name = 'Zeno'\n",
    "                birth, death = 'BC', 'BC'\n",
    "                url = base_url + 'zeno_citium.html'\n",
    "                \n",
    "            elif name == 'Philo of Alexandria':\n",
    "                name = 'Philo'\n",
    "                birth, death = 'BC', 'AC'\n",
    "                url = base_url + name.lower() + '.html'\n",
    "                \n",
    "            else:\n",
    "                birth, death = 'BC', 'BC'\n",
    "                url = base_url + name.lower() + '.html'\n",
    "            \n",
    "            if name == 'Plotinus':\n",
    "                birth, death = 'AC', 'AC'\n",
    "            \n",
    "            phil_dict = add_philosopher(url, name, phil_dict, time_period, birth=birth, death=death)\n",
    "            \n",
    "    else: # time_period == 'roman'\n",
    "        for name in philosophers:\n",
    "            if name == 'Cicero, Marcus Tullius':\n",
    "                name = 'Cicero'\n",
    "                birth, death = 'BC', 'BC'\n",
    "                url = base_url + name.lower() + '.html'\n",
    "            \n",
    "            elif name == 'St. Augustine of Hippo':\n",
    "                name = 'Augustine'\n",
    "                birth, death = 'AD', 'AD'\n",
    "                url = base_url + name.lower() + '.html'\n",
    "                \n",
    "            else:\n",
    "                name = name.split(r'[, \\. ' ']')[0]\n",
    "                birth, death = 'AD', 'AD'\n",
    "                url = base_url + name.lower() + '.html'\n",
    "            \n",
    "            phil_dict = add_philosopher(url, name, phil_dict, time_period, birth=birth, death=death)\n",
    "        \n",
    "    return phil_dict"
   ]
  },
  {
   "cell_type": "code",
   "execution_count": 267,
   "metadata": {
    "collapsed": false
   },
   "outputs": [],
   "source": [
    "pre_socratic = ancient_time_period('presocratic')"
   ]
  },
  {
   "cell_type": "code",
   "execution_count": 268,
   "metadata": {
    "collapsed": false
   },
   "outputs": [
    {
     "name": "stdout",
     "output_type": "stream",
     "text": [
      "{'year_died': -450, 'year_born': -515, 'time_period': 'presocratic', 'Western?': True}\n",
      "\n",
      "['Parmenides', 'Empedocles', 'Pythagoras', 'Gorgias', 'Thales', 'Zeno_Elea', 'Anaxagoras', 'Anaximenes', 'Anaximander', 'Heraclitus', 'Protagoras', 'Democritus']\n"
     ]
    }
   ],
   "source": [
    "print pre_socratic['Parmenides']\n",
    "print '\\n', pre_socratic.keys()"
   ]
  },
  {
   "cell_type": "code",
   "execution_count": 269,
   "metadata": {
    "collapsed": false
   },
   "outputs": [],
   "source": [
    "socratic = ancient_time_period('socratic')"
   ]
  },
  {
   "cell_type": "code",
   "execution_count": 270,
   "metadata": {
    "collapsed": false
   },
   "outputs": [
    {
     "name": "stdout",
     "output_type": "stream",
     "text": [
      "{'year_died': -399, 'year_born': -469, 'time_period': 'socratic', 'Western?': True}\n",
      "\n",
      "['Socrates', 'Plato', 'Aristotle', 'Diogenes']\n"
     ]
    }
   ],
   "source": [
    "print socratic['Socrates']\n",
    "print '\\n', socratic.keys()"
   ]
  },
  {
   "cell_type": "code",
   "execution_count": 271,
   "metadata": {
    "collapsed": false
   },
   "outputs": [],
   "source": [
    "hellenistic = ancient_time_period('hellenistic')"
   ]
  },
  {
   "cell_type": "code",
   "execution_count": 272,
   "metadata": {
    "collapsed": false
   },
   "outputs": [
    {
     "name": "stdout",
     "output_type": "stream",
     "text": [
      "{'year_died': -270, 'year_born': -360, 'time_period': 'hellenistic', 'Western?': True}\n",
      "\n",
      "['Pyrrho', 'Plotinus', 'Epicurus', 'Zeno', 'Philo']\n"
     ]
    }
   ],
   "source": [
    "print hellenistic['Pyrrho']\n",
    "print '\\n', hellenistic.keys()"
   ]
  },
  {
   "cell_type": "code",
   "execution_count": 273,
   "metadata": {
    "collapsed": false
   },
   "outputs": [],
   "source": [
    "roman = ancient_time_period('roman')"
   ]
  },
  {
   "cell_type": "code",
   "execution_count": 274,
   "metadata": {
    "collapsed": false
   },
   "outputs": [
    {
     "name": "stdout",
     "output_type": "stream",
     "text": [
      "{'year_died': 135, 'year_born': 55, 'time_period': 'roman', 'Western?': True}\n",
      "\n",
      "['Marcus Aurelius', 'Cicero', 'Boethius', 'Augustine', 'Epictetus']\n"
     ]
    }
   ],
   "source": [
    "print roman['Epictetus']\n",
    "print '\\n', roman.keys()"
   ]
  },
  {
   "cell_type": "code",
   "execution_count": 275,
   "metadata": {
    "collapsed": false
   },
   "outputs": [],
   "source": [
    "def ancient_philosophers():\n",
    "    pre_socratic = ancient_time_period('presocratic')\n",
    "    socratic = ancient_time_period('socratic')\n",
    "    hellenistic = ancient_time_period('hellenistic')\n",
    "    roman = ancient_time_period('roman')\n",
    "    \n",
    "    ancient = pre_socratic\n",
    "    ancient.update(socratic)\n",
    "    ancient.update(hellenistic)\n",
    "    ancient.update(roman)\n",
    "    \n",
    "    return ancient"
   ]
  },
  {
   "cell_type": "code",
   "execution_count": 276,
   "metadata": {
    "collapsed": false
   },
   "outputs": [],
   "source": [
    "ancient = ancient_philosophers()"
   ]
  },
  {
   "cell_type": "code",
   "execution_count": 277,
   "metadata": {
    "collapsed": false
   },
   "outputs": [
    {
     "name": "stdout",
     "output_type": "stream",
     "text": [
      "{'year_died': -322, 'year_born': -384, 'time_period': 'socratic', 'Western?': True}\n",
      "\n",
      "['Empedocles', 'Boethius', 'Diogenes', 'Philo', 'Thales', 'Cicero', 'Epictetus', 'Anaxagoras', 'Socrates', 'Marcus Aurelius', 'Anaximander', 'Heraclitus', 'Plotinus', 'Protagoras', 'Parmenides', 'Pythagoras', 'Augustine', 'Zeno', 'Gorgias', 'Plato', 'Zeno_Elea', 'Democritus', 'Pyrrho', 'Anaximenes', 'Aristotle', 'Epicurus']\n"
     ]
    }
   ],
   "source": [
    "print ancient['Aristotle']\n",
    "print '\\n', ancient.keys()"
   ]
  },
  {
   "cell_type": "code",
   "execution_count": 278,
   "metadata": {
    "collapsed": false
   },
   "outputs": [],
   "source": [
    "def medieval_time_period(time_period):\n",
    "    # Make Request to page of specific time period\n",
    "    r = get('http://www.philosophybasics.com/historical_' + time_period + '.html')\n",
    "    soup = BeautifulSoup(r.content, 'html.parser')\n",
    "    \n",
    "    # Get names of each philosopher from specified time period\n",
    "    philosophers = soup.select('a')\n",
    "    \n",
    "    if time_period == 'medieval':\n",
    "        min_slice, max_slice = 8, 18\n",
    "\n",
    "    else: # time_period == 'renaissance'\n",
    "        min_slice, max_slice = 12, 16\n",
    "        \n",
    "    philosophers = [unidecode(x.string) for x in philosophers[min_slice:max_slice]]\n",
    "    \n",
    "    base_url = 'http://www.philosophybasics.com/philosophers_'\n",
    "    phil_dict = defaultdict(dict)\n",
    "    \n",
    "    if time_period == 'medieval':\n",
    "        \n",
    "        for name in philosophers:\n",
    "            \n",
    "            if name == 'Bacon, Roger':\n",
    "                url = base_url + 'bacon_roger.html'\n",
    "            \n",
    "            else:\n",
    "                name = name.split(r'[, ' ']')[0]\n",
    "                url = base_url + name.lower() + '.html'\n",
    "                \n",
    "            birth, death = 'AD', 'AD'\n",
    "            \n",
    "            phil_dict = add_philosopher(url, name, phil_dict, time_period, birth=birth, death=death)\n",
    "        \n",
    "    else: # time_period == 'Renaissance'\n",
    "        \n",
    "        for name in philosophers:\n",
    "            \n",
    "            if name == 'Bacon, Sir Francis':\n",
    "                name = 'Sir_Francis_Bacon'\n",
    "                url = base_url + 'bacon_francis.html'\n",
    "            \n",
    "            else:\n",
    "                name = name.split(',')[0]\n",
    "                url = base_url + name.lower() + '.html'\n",
    "            \n",
    "            birth, death = 'AD', 'AD'\n",
    "            \n",
    "            phil_dict = add_philosopher(url, name, phil_dict, time_period, birth=birth, death=death)\n",
    "    \n",
    "    return phil_dict"
   ]
  },
  {
   "cell_type": "code",
   "execution_count": 279,
   "metadata": {
    "collapsed": false
   },
   "outputs": [],
   "source": [
    "medieval_time = medieval_time_period('medieval')"
   ]
  },
  {
   "cell_type": "code",
   "execution_count": 280,
   "metadata": {
    "collapsed": false
   },
   "outputs": [
    {
     "name": "stdout",
     "output_type": "stream",
     "text": [
      "{'year_died': 1294, 'year_born': 1214, 'time_period': 'medieval', 'Western?': True}\n",
      "\n",
      "['Aquinas, St. Thomas', 'Bacon, Roger', 'Avicenna (Ibn Sina)', 'Scotus, John Duns', 'Abelard, Peter', 'Anselm, St.', 'Ockham (Occam), William of', 'Averroes (Ibn Rushd)', 'Albertus Magnus', 'Maimonides']\n"
     ]
    }
   ],
   "source": [
    "print medieval_time['Bacon, Roger']\n",
    "print '\\n', medieval_time.keys()"
   ]
  },
  {
   "cell_type": "code",
   "execution_count": 281,
   "metadata": {
    "collapsed": false
   },
   "outputs": [],
   "source": [
    "renaissance = medieval_time_period('renaissance')"
   ]
  },
  {
   "cell_type": "code",
   "execution_count": 282,
   "metadata": {
    "collapsed": false
   },
   "outputs": [
    {
     "name": "stdout",
     "output_type": "stream",
     "text": [
      "{'year_died': 1527, 'year_born': 1469, 'time_period': 'renaissance', 'Western?': True}\n",
      "\n",
      "['Erasmus', 'Machiavelli', 'Sir_Francis_Bacon', 'More']\n"
     ]
    }
   ],
   "source": [
    "print renaissance['Machiavelli']\n",
    "print '\\n', renaissance.keys()"
   ]
  },
  {
   "cell_type": "code",
   "execution_count": 283,
   "metadata": {
    "collapsed": false
   },
   "outputs": [],
   "source": [
    "def medieval_philosophers():\n",
    "    medieval = medieval_time_period('medieval')\n",
    "    renaissance = medieval_time_period('renaissance')\n",
    "    \n",
    "    medieval = medieval\n",
    "    medieval.update(renaissance)\n",
    "    \n",
    "    return medieval"
   ]
  },
  {
   "cell_type": "code",
   "execution_count": 284,
   "metadata": {
    "collapsed": false
   },
   "outputs": [],
   "source": [
    "medieval = medieval_philosophers()"
   ]
  },
  {
   "cell_type": "code",
   "execution_count": 285,
   "metadata": {
    "collapsed": false
   },
   "outputs": [
    {
     "name": "stdout",
     "output_type": "stream",
     "text": [
      "{'year_died': 1536, 'year_born': 1466, 'time_period': 'renaissance', 'Western?': True}\n",
      "\n",
      "['Aquinas, St. Thomas', 'Sir_Francis_Bacon', 'Bacon, Roger', 'Avicenna (Ibn Sina)', 'Scotus, John Duns', 'Machiavelli', 'Abelard, Peter', 'Erasmus', 'Anselm, St.', 'Ockham (Occam), William of', 'Averroes (Ibn Rushd)', 'Albertus Magnus', 'Maimonides', 'More']\n"
     ]
    }
   ],
   "source": [
    "print medieval['Erasmus']\n",
    "print '\\n', medieval.keys()"
   ]
  },
  {
   "cell_type": "code",
   "execution_count": 286,
   "metadata": {
    "collapsed": true
   },
   "outputs": [],
   "source": [
    "def modern_time_period(time_period):\n",
    "    # Make Request to page of specific time period\n",
    "    r = get('http://www.philosophybasics.com/historical_' + time_period + '.html')\n",
    "    soup = BeautifulSoup(r.content, 'html.parser')\n",
    "    \n",
    "    # Get names of each philosopher from specified time period\n",
    "    philosophers = soup.select('a')\n",
    "    \n",
    "    if time_period == 'reason' or time_period == 'enlightenment':\n",
    "        min_slice, max_slice = 9, 16\n",
    "\n",
    "    else: # time_period == 'modern'\n",
    "        min_slice, max_slice = 8, 36\n",
    "        \n",
    "    philosophers = [unidecode(x.string) for x in philosophers[min_slice:max_slice]]\n",
    "    \n",
    "    base_url = 'http://www.philosophybasics.com/philosophers_'\n",
    "    phil_dict = defaultdict(dict)\n",
    "    \n",
    "    if time_period == 'reason':\n",
    "        for name in philosophers:\n",
    "            \n",
    "            name_temp = name.split(',')[0]\n",
    "            \n",
    "            url = base_url + name_temp.lower() + '.html'\n",
    "            birth, death = 'AD', 'AD'\n",
    "            \n",
    "            phil_dict = add_philosopher(url, name, phil_dict, time_period, birth=birth, death=death)\n",
    "    \n",
    "    elif time_period == 'enlightenment':\n",
    "        for  name in philosophers:\n",
    "            \n",
    "            name_temp = name.split(',')[0]\n",
    "            \n",
    "            url = base_url + name_temp.lower() + '.html'\n",
    "            birth, death = 'AD', 'AD'\n",
    "            \n",
    "            phil_dict = add_philosopher(url, name, phil_dict, time_period, birth=birth, death=death)\n",
    "            \n",
    "    else: # time_period == 'modern'\n",
    "        for name in philosophers:\n",
    "            \n",
    "            if name == 'Friedrich Schelling':\n",
    "                name_temp = 'Schelling'\n",
    "            \n",
    "            else:\n",
    "                name_temp = name.split(',')[0]\n",
    "            \n",
    "            url = base_url + name_temp.lower() + '.html'\n",
    "            birth, death = 'AD', 'AD'\n",
    "            \n",
    "            phil_dict = add_philosopher(url, name, phil_dict, time_period, birth=birth, death=death)\n",
    "            \n",
    "    return phil_dict"
   ]
  },
  {
   "cell_type": "code",
   "execution_count": 287,
   "metadata": {
    "collapsed": false
   },
   "outputs": [],
   "source": [
    "reason = modern_time_period('reason')"
   ]
  },
  {
   "cell_type": "code",
   "execution_count": 288,
   "metadata": {
    "collapsed": false
   },
   "outputs": [
    {
     "name": "stdout",
     "output_type": "stream",
     "text": [
      "{'year_died': 1704, 'year_born': 1632, 'time_period': 'reason', 'Western?': True}\n",
      "\n",
      "['Descartes, Rene', 'Leibniz, Gottfried Wilhelm', 'Pascal, Blaise', 'Malebranche, Nicolas', 'Spinoza, Baruch (Benedict)', 'Hobbes, Thomas', 'Locke, John']\n"
     ]
    }
   ],
   "source": [
    "print reason['Locke, John']\n",
    "print '\\n', reason.keys()"
   ]
  },
  {
   "cell_type": "code",
   "execution_count": 289,
   "metadata": {
    "collapsed": false
   },
   "outputs": [],
   "source": [
    "enlightenment = modern_time_period('enlightenment')"
   ]
  },
  {
   "cell_type": "code",
   "execution_count": 290,
   "metadata": {
    "collapsed": false
   },
   "outputs": [
    {
     "name": "stdout",
     "output_type": "stream",
     "text": [
      "{'year_died': 1790, 'year_born': 1723, 'time_period': 'enlightenment', 'Western?': True}\n",
      "\n",
      "['Berkeley, Bishop George', 'Hume, David', 'Smith, Adam', 'Voltaire (Francois Marie Arouet)', 'Burke, Edmund', 'Kant, Immanuel', 'Rousseau, Jean-Jacques']\n"
     ]
    }
   ],
   "source": [
    "print enlightenment['Smith, Adam']\n",
    "print '\\n', enlightenment.keys()"
   ]
  },
  {
   "cell_type": "code",
   "execution_count": 291,
   "metadata": {
    "collapsed": false
   },
   "outputs": [],
   "source": [
    "modern_time = modern_time_period('modern')"
   ]
  },
  {
   "cell_type": "code",
   "execution_count": 292,
   "metadata": {
    "collapsed": false
   },
   "outputs": [
    {
     "name": "stdout",
     "output_type": "stream",
     "text": [
      "{'year_died': 1900, 'year_born': 1844, 'time_period': 'modern', 'Western?': True}\n",
      "\n",
      "['Husserl, Edmund', 'Quine, Willard Van Orman', 'Heidegger, Martin', 'Peirce, Charles Sanders', 'Hegel, G.W.F.', 'Sartre, Jean-Paul', 'James, William', 'Derrida, Jacques', 'Foucault, Michel', 'Nietzsche, Friedrich', 'Emerson, Ralph Waldo', 'Kierkegaard, Soren', 'Marx, Karl', 'Mill, John Stuart', 'Ryle, Gilbert', 'Comte, Auguste', 'Wittgenstein, Ludwig', 'Dewey, John', 'Bentham, Jeremy', 'Moore, George Edward', 'Russell, Bertrand', 'Schopenhauer, Arthur', 'Thoreau, Henry David', 'Fichte, Johann Gottlieb', 'Ayer, Alfred', 'Friedrich Schelling', 'Whitehead, Alfred North', 'Frege, Gottlob']\n"
     ]
    }
   ],
   "source": [
    "print modern_time['Nietzsche, Friedrich']\n",
    "print '\\n', modern_time.keys()"
   ]
  },
  {
   "cell_type": "code",
   "execution_count": 293,
   "metadata": {
    "collapsed": true
   },
   "outputs": [],
   "source": [
    "def modern_philosophers():\n",
    "    reason = modern_time_period('reason')\n",
    "    enlightenment = modern_time_period('enlightenment')\n",
    "    modern = modern_time_period('modern')\n",
    "    \n",
    "    modern_phil = reason\n",
    "    modern_phil.update(enlightenment)\n",
    "    modern_phil.update(modern)\n",
    "    \n",
    "    return modern_phil"
   ]
  },
  {
   "cell_type": "code",
   "execution_count": 294,
   "metadata": {
    "collapsed": true
   },
   "outputs": [],
   "source": [
    "modern = modern_philosophers()"
   ]
  },
  {
   "cell_type": "code",
   "execution_count": 295,
   "metadata": {
    "collapsed": false
   },
   "outputs": [
    {
     "name": "stdout",
     "output_type": "stream",
     "text": [
      "{'year_died': 1804, 'year_born': 1724, 'time_period': 'enlightenment', 'Western?': True}\n",
      "\n",
      "['Smith, Adam', 'Husserl, Edmund', 'Quine, Willard Van Orman', 'Kant, Immanuel', 'Bentham, Jeremy', 'Heidegger, Martin', 'Peirce, Charles Sanders', 'Hegel, G.W.F.', 'Locke, John', 'Sartre, Jean-Paul', 'James, William', 'Hume, David', 'Derrida, Jacques', 'Foucault, Michel', 'Mill, John Stuart', 'Nietzsche, Friedrich', 'Emerson, Ralph Waldo', 'Pascal, Blaise', 'Malebranche, Nicolas', 'Rousseau, Jean-Jacques', 'Kierkegaard, Soren', 'Ryle, Gilbert', 'Berkeley, Bishop George', 'Marx, Karl', 'Leibniz, Gottfried Wilhelm', 'Voltaire (Francois Marie Arouet)', 'Comte, Auguste', 'Burke, Edmund', 'Wittgenstein, Ludwig', 'Dewey, John', 'Spinoza, Baruch (Benedict)', 'Descartes, Rene', 'Moore, George Edward', 'Russell, Bertrand', 'Schopenhauer, Arthur', 'Thoreau, Henry David', 'Fichte, Johann Gottlieb', 'Ayer, Alfred', 'Friedrich Schelling', 'Whitehead, Alfred North', 'Hobbes, Thomas', 'Frege, Gottlob']\n"
     ]
    }
   ],
   "source": [
    "print modern['Kant, Immanuel']\n",
    "print '\\n', modern.keys()"
   ]
  },
  {
   "cell_type": "code",
   "execution_count": 349,
   "metadata": {
    "collapsed": true
   },
   "outputs": [],
   "source": [
    "def western_philosophers():\n",
    "    ancient = ancient_philosophers()\n",
    "    medieval = medieval_philosophers()\n",
    "    modern = modern_philosophers()\n",
    "    \n",
    "    western = ancient\n",
    "    western.update(medieval)\n",
    "    western.update(modern)\n",
    "    \n",
    "    return western"
   ]
  },
  {
   "cell_type": "code",
   "execution_count": 350,
   "metadata": {
    "collapsed": false
   },
   "outputs": [],
   "source": [
    "western = western_philosophers()"
   ]
  },
  {
   "cell_type": "code",
   "execution_count": 351,
   "metadata": {
    "collapsed": false
   },
   "outputs": [
    {
     "name": "stdout",
     "output_type": "stream",
     "text": [
      "['Aquinas, St. Thomas', 'Bacon, Roger', 'Smith, Adam', 'Husserl, Edmund', 'Zeno_Elea', 'Quine, Willard Van Orman', 'Kant, Immanuel', 'Bentham, Jeremy', 'Heidegger, Martin', 'Peirce, Charles Sanders', 'Hegel, G.W.F.', 'Erasmus', 'Locke, John', 'Sartre, Jean-Paul', 'Pythagoras', 'Derrida, Jacques', 'Sir_Francis_Bacon', 'Plato', 'Emerson, Ralph Waldo', 'Abelard, Peter', 'Ockham (Occam), William of', 'Epicurus', 'Berkeley, Bishop George', 'Empedocles', 'Ryle, Gilbert', 'Comte, Auguste', 'Burke, Edmund', 'Mill, John Stuart', 'Rousseau, Jean-Jacques', 'Socrates', 'Anaximander', 'Descartes, Rene', 'Maimonides', 'Parmenides', 'Zeno', 'Spinoza, Baruch (Benedict)', 'Russell, Bertrand', 'Thoreau, Henry David', 'Gorgias', 'Ayer, Alfred', 'Pyrrho', 'Anaximenes', 'Anselm, St.', 'Whitehead, Alfred North', 'Hobbes, Thomas', 'Albertus Magnus', 'Leibniz, Gottfried Wilhelm', 'Diogenes', 'Scotus, John Duns', 'Anaxagoras', 'Heraclitus', 'Frege, Gottlob', 'More', 'James, William', 'Foucault, Michel', 'Epictetus', 'Democritus', 'Boethius', 'Pascal, Blaise', 'Malebranche, Nicolas', 'Nietzsche, Friedrich', 'Kierkegaard, Soren', 'Voltaire (Francois Marie Arouet)', 'Marx, Karl', 'Aristotle', 'Philo', 'Thales', 'Cicero', 'Wittgenstein, Ludwig', 'Machiavelli', 'Plotinus', 'Hume, David', 'Protagoras', 'Dewey, John', 'Augustine', 'Avicenna (Ibn Sina)', 'Schopenhauer, Arthur', 'Fichte, Johann Gottlieb', 'Marcus Aurelius', 'Friedrich Schelling', 'Averroes (Ibn Rushd)', 'Moore, George Edward']\n"
     ]
    }
   ],
   "source": [
    "print western.keys()"
   ]
  },
  {
   "cell_type": "code",
   "execution_count": 352,
   "metadata": {
    "collapsed": false
   },
   "outputs": [
    {
     "data": {
      "text/plain": [
       "{'Abelard, Peter': {'Western?': True,\n",
       "  'time_period': 'medieval',\n",
       "  'year_born': nan,\n",
       "  'year_died': nan},\n",
       " 'Albertus Magnus': {'Western?': True,\n",
       "  'time_period': 'medieval',\n",
       "  'year_born': nan,\n",
       "  'year_died': nan},\n",
       " 'Anaxagoras': {'Western?': True,\n",
       "  'time_period': 'presocratic',\n",
       "  'year_born': -500,\n",
       "  'year_died': -428},\n",
       " 'Anaximander': {'Western?': True,\n",
       "  'time_period': 'presocratic',\n",
       "  'year_born': -610,\n",
       "  'year_died': -546},\n",
       " 'Anaximenes': {'Western?': True,\n",
       "  'time_period': 'presocratic',\n",
       "  'year_born': -585,\n",
       "  'year_died': -525},\n",
       " 'Anselm, St.': {'Western?': True,\n",
       "  'time_period': 'medieval',\n",
       "  'year_born': nan,\n",
       "  'year_died': nan},\n",
       " 'Aquinas, St. Thomas': {'Western?': True,\n",
       "  'time_period': 'medieval',\n",
       "  'year_born': nan,\n",
       "  'year_died': nan},\n",
       " 'Aristotle': {'Western?': True,\n",
       "  'time_period': 'socratic',\n",
       "  'year_born': -384,\n",
       "  'year_died': -322},\n",
       " 'Augustine': {'Western?': True,\n",
       "  'time_period': 'roman',\n",
       "  'year_born': 354,\n",
       "  'year_died': 430},\n",
       " 'Averroes (Ibn Rushd)': {'Western?': True,\n",
       "  'time_period': 'medieval',\n",
       "  'year_born': nan,\n",
       "  'year_died': nan},\n",
       " 'Avicenna (Ibn Sina)': {'Western?': True,\n",
       "  'time_period': 'medieval',\n",
       "  'year_born': nan,\n",
       "  'year_died': nan},\n",
       " 'Ayer, Alfred': {'Western?': True,\n",
       "  'time_period': 'modern',\n",
       "  'year_born': 1910,\n",
       "  'year_died': 1989},\n",
       " 'Bacon, Roger': {'Western?': True,\n",
       "  'time_period': 'medieval',\n",
       "  'year_born': 1214,\n",
       "  'year_died': 1294},\n",
       " 'Bentham, Jeremy': {'Western?': True,\n",
       "  'time_period': 'modern',\n",
       "  'year_born': 1748,\n",
       "  'year_died': 1832},\n",
       " 'Berkeley, Bishop George': {'Western?': True,\n",
       "  'time_period': 'enlightenment',\n",
       "  'year_born': 1685,\n",
       "  'year_died': 1753},\n",
       " 'Boethius': {'Western?': True,\n",
       "  'time_period': 'roman',\n",
       "  'year_born': 480,\n",
       "  'year_died': 5256},\n",
       " 'Burke, Edmund': {'Western?': True,\n",
       "  'time_period': 'enlightenment',\n",
       "  'year_born': 1729,\n",
       "  'year_died': 1797},\n",
       " 'Cicero': {'Western?': True,\n",
       "  'time_period': 'roman',\n",
       "  'year_born': -10,\n",
       "  'year_died': -643},\n",
       " 'Comte, Auguste': {'Western?': True,\n",
       "  'time_period': 'modern',\n",
       "  'year_born': 1798,\n",
       "  'year_died': 1857},\n",
       " 'Democritus': {'Western?': True,\n",
       "  'time_period': 'presocratic',\n",
       "  'year_born': -460,\n",
       "  'year_died': -370},\n",
       " 'Derrida, Jacques': {'Western?': True,\n",
       "  'time_period': 'modern',\n",
       "  'year_born': 1930,\n",
       "  'year_died': 2004},\n",
       " 'Descartes, Rene': {'Western?': True,\n",
       "  'time_period': 'reason',\n",
       "  'year_born': 1596,\n",
       "  'year_died': 1650},\n",
       " 'Dewey, John': {'Western?': True,\n",
       "  'time_period': 'modern',\n",
       "  'year_born': 1859,\n",
       "  'year_died': 1952},\n",
       " 'Diogenes': {'Western?': True,\n",
       "  'time_period': 'socratic',\n",
       "  'year_born': -412,\n",
       "  'year_died': -323},\n",
       " 'Emerson, Ralph Waldo': {'Western?': True,\n",
       "  'time_period': 'modern',\n",
       "  'year_born': 1803,\n",
       "  'year_died': 1882},\n",
       " 'Empedocles': {'Western?': True,\n",
       "  'time_period': 'presocratic',\n",
       "  'year_born': -490,\n",
       "  'year_died': -430},\n",
       " 'Epictetus': {'Western?': True,\n",
       "  'time_period': 'roman',\n",
       "  'year_born': 55,\n",
       "  'year_died': 135},\n",
       " 'Epicurus': {'Western?': True,\n",
       "  'time_period': 'hellenistic',\n",
       "  'year_born': -341,\n",
       "  'year_died': -270},\n",
       " 'Erasmus': {'Western?': True,\n",
       "  'time_period': 'renaissance',\n",
       "  'year_born': 1466,\n",
       "  'year_died': 1536},\n",
       " 'Fichte, Johann Gottlieb': {'Western?': True,\n",
       "  'time_period': 'modern',\n",
       "  'year_born': 1762,\n",
       "  'year_died': 1814},\n",
       " 'Foucault, Michel': {'Western?': True,\n",
       "  'time_period': 'modern',\n",
       "  'year_born': 1926,\n",
       "  'year_died': 1984},\n",
       " 'Frege, Gottlob': {'Western?': True,\n",
       "  'time_period': 'modern',\n",
       "  'year_born': 1848,\n",
       "  'year_died': 1925},\n",
       " 'Friedrich Schelling': {'Western?': True,\n",
       "  'time_period': 'modern',\n",
       "  'year_born': 1775,\n",
       "  'year_died': 1854},\n",
       " 'Gorgias': {'Western?': True,\n",
       "  'time_period': 'presocratic',\n",
       "  'year_born': -487,\n",
       "  'year_died': -376},\n",
       " 'Hegel, G.W.F.': {'Western?': True,\n",
       "  'time_period': 'modern',\n",
       "  'year_born': 1770,\n",
       "  'year_died': 1831},\n",
       " 'Heidegger, Martin': {'Western?': True,\n",
       "  'time_period': 'modern',\n",
       "  'year_born': 1889,\n",
       "  'year_died': 1976},\n",
       " 'Heraclitus': {'Western?': True,\n",
       "  'time_period': 'presocratic',\n",
       "  'year_born': -535,\n",
       "  'year_died': -475},\n",
       " 'Hobbes, Thomas': {'Western?': True,\n",
       "  'time_period': 'reason',\n",
       "  'year_born': 1588,\n",
       "  'year_died': 1679},\n",
       " 'Hume, David': {'Western?': True,\n",
       "  'time_period': 'enlightenment',\n",
       "  'year_born': 1711,\n",
       "  'year_died': 1776},\n",
       " 'Husserl, Edmund': {'Western?': True,\n",
       "  'time_period': 'modern',\n",
       "  'year_born': 1859,\n",
       "  'year_died': 1938},\n",
       " 'James, William': {'Western?': True,\n",
       "  'time_period': 'modern',\n",
       "  'year_born': 1842,\n",
       "  'year_died': 1910},\n",
       " 'Kant, Immanuel': {'Western?': True,\n",
       "  'time_period': 'enlightenment',\n",
       "  'year_born': 1724,\n",
       "  'year_died': 1804},\n",
       " 'Kierkegaard, Soren': {'Western?': True,\n",
       "  'time_period': 'modern',\n",
       "  'year_born': 1813,\n",
       "  'year_died': 1855},\n",
       " 'Leibniz, Gottfried Wilhelm': {'Western?': True,\n",
       "  'time_period': 'reason',\n",
       "  'year_born': 1646,\n",
       "  'year_died': 1716},\n",
       " 'Locke, John': {'Western?': True,\n",
       "  'time_period': 'reason',\n",
       "  'year_born': 1632,\n",
       "  'year_died': 1704},\n",
       " 'Machiavelli': {'Western?': True,\n",
       "  'time_period': 'renaissance',\n",
       "  'year_born': 1469,\n",
       "  'year_died': 1527},\n",
       " 'Maimonides': {'Western?': True,\n",
       "  'time_period': 'medieval',\n",
       "  'year_born': nan,\n",
       "  'year_died': nan},\n",
       " 'Malebranche, Nicolas': {'Western?': True,\n",
       "  'time_period': 'reason',\n",
       "  'year_born': 1638,\n",
       "  'year_died': 1715},\n",
       " 'Marcus Aurelius': {'Western?': True,\n",
       "  'time_period': 'roman',\n",
       "  'year_born': nan,\n",
       "  'year_died': nan},\n",
       " 'Marx, Karl': {'Western?': True,\n",
       "  'time_period': 'modern',\n",
       "  'year_born': 1818,\n",
       "  'year_died': 1883},\n",
       " 'Mill, John Stuart': {'Western?': True,\n",
       "  'time_period': 'modern',\n",
       "  'year_born': 1806,\n",
       "  'year_died': 1873},\n",
       " 'Moore, George Edward': {'Western?': True,\n",
       "  'time_period': 'modern',\n",
       "  'year_born': 1873,\n",
       "  'year_died': 1958},\n",
       " 'More': {'Western?': True,\n",
       "  'time_period': 'renaissance',\n",
       "  'year_born': 1478,\n",
       "  'year_died': 1535},\n",
       " 'Nietzsche, Friedrich': {'Western?': True,\n",
       "  'time_period': 'modern',\n",
       "  'year_born': 1844,\n",
       "  'year_died': 1900},\n",
       " 'Ockham (Occam), William of': {'Western?': True,\n",
       "  'time_period': 'medieval',\n",
       "  'year_born': nan,\n",
       "  'year_died': nan},\n",
       " 'Parmenides': {'Western?': True,\n",
       "  'time_period': 'presocratic',\n",
       "  'year_born': -515,\n",
       "  'year_died': -450},\n",
       " 'Pascal, Blaise': {'Western?': True,\n",
       "  'time_period': 'reason',\n",
       "  'year_born': 1623,\n",
       "  'year_died': 1662},\n",
       " 'Peirce, Charles Sanders': {'Western?': True,\n",
       "  'time_period': 'modern',\n",
       "  'year_born': 1839,\n",
       "  'year_died': 1914},\n",
       " 'Philo': {'Western?': True,\n",
       "  'time_period': 'hellenistic',\n",
       "  'year_born': nan,\n",
       "  'year_died': nan},\n",
       " 'Plato': {'Western?': True,\n",
       "  'time_period': 'socratic',\n",
       "  'year_born': -428,\n",
       "  'year_died': -348},\n",
       " 'Plotinus': {'Western?': True,\n",
       "  'time_period': 'hellenistic',\n",
       "  'year_born': 204,\n",
       "  'year_died': 270},\n",
       " 'Protagoras': {'Western?': True,\n",
       "  'time_period': 'presocratic',\n",
       "  'year_born': -490,\n",
       "  'year_died': -420},\n",
       " 'Pyrrho': {'Western?': True,\n",
       "  'time_period': 'hellenistic',\n",
       "  'year_born': -360,\n",
       "  'year_died': -270},\n",
       " 'Pythagoras': {'Western?': True,\n",
       "  'time_period': 'presocratic',\n",
       "  'year_born': -570,\n",
       "  'year_died': -490},\n",
       " 'Quine, Willard Van Orman': {'Western?': True,\n",
       "  'time_period': 'modern',\n",
       "  'year_born': 1908,\n",
       "  'year_died': 2000},\n",
       " 'Rousseau, Jean-Jacques': {'Western?': True,\n",
       "  'time_period': 'enlightenment',\n",
       "  'year_born': 1712,\n",
       "  'year_died': 1778},\n",
       " 'Russell, Bertrand': {'Western?': True,\n",
       "  'time_period': 'modern',\n",
       "  'year_born': 3187,\n",
       "  'year_died': 2197},\n",
       " 'Ryle, Gilbert': {'Western?': True,\n",
       "  'time_period': 'modern',\n",
       "  'year_born': 1900,\n",
       "  'year_died': 1976},\n",
       " 'Sartre, Jean-Paul': {'Western?': True,\n",
       "  'time_period': 'modern',\n",
       "  'year_born': 1905,\n",
       "  'year_died': 1980},\n",
       " 'Schopenhauer, Arthur': {'Western?': True,\n",
       "  'time_period': 'modern',\n",
       "  'year_born': 1788,\n",
       "  'year_died': 1860},\n",
       " 'Scotus, John Duns': {'Western?': True,\n",
       "  'time_period': 'medieval',\n",
       "  'year_born': nan,\n",
       "  'year_died': nan},\n",
       " 'Sir_Francis_Bacon': {'Western?': True,\n",
       "  'time_period': 'renaissance',\n",
       "  'year_born': 1156,\n",
       "  'year_died': 1162},\n",
       " 'Smith, Adam': {'Western?': True,\n",
       "  'time_period': 'enlightenment',\n",
       "  'year_born': 1723,\n",
       "  'year_died': 1790},\n",
       " 'Socrates': {'Western?': True,\n",
       "  'time_period': 'socratic',\n",
       "  'year_born': -469,\n",
       "  'year_died': -399},\n",
       " 'Spinoza, Baruch (Benedict)': {'Western?': True,\n",
       "  'time_period': 'reason',\n",
       "  'year_born': 1623,\n",
       "  'year_died': 1677},\n",
       " 'Thales': {'Western?': True,\n",
       "  'time_period': 'presocratic',\n",
       "  'year_born': -624,\n",
       "  'year_died': -546},\n",
       " 'Thoreau, Henry David': {'Western?': True,\n",
       "  'time_period': 'modern',\n",
       "  'year_born': 1817,\n",
       "  'year_died': 1862},\n",
       " 'Voltaire (Francois Marie Arouet)': {'Western?': True,\n",
       "  'time_period': 'enlightenment',\n",
       "  'year_born': nan,\n",
       "  'year_died': nan},\n",
       " 'Whitehead, Alfred North': {'Western?': True,\n",
       "  'time_period': 'modern',\n",
       "  'year_born': 1861,\n",
       "  'year_died': 1947},\n",
       " 'Wittgenstein, Ludwig': {'Western?': True,\n",
       "  'time_period': 'modern',\n",
       "  'year_born': 1889,\n",
       "  'year_died': 1951},\n",
       " 'Zeno': {'Western?': True,\n",
       "  'time_period': 'hellenistic',\n",
       "  'year_born': -334,\n",
       "  'year_died': -262},\n",
       " 'Zeno_Elea': {'Western?': True,\n",
       "  'time_period': 'presocratic',\n",
       "  'year_born': -490,\n",
       "  'year_died': -430}}"
      ]
     },
     "execution_count": 352,
     "metadata": {},
     "output_type": "execute_result"
    }
   ],
   "source": []
  },
  {
   "cell_type": "code",
   "execution_count": null,
   "metadata": {
    "collapsed": true
   },
   "outputs": [],
   "source": []
  }
 ],
 "metadata": {
  "anaconda-cloud": {},
  "kernelspec": {
   "display_name": "Python [Root]",
   "language": "python",
   "name": "Python [Root]"
  },
  "language_info": {
   "codemirror_mode": {
    "name": "ipython",
    "version": 2
   },
   "file_extension": ".py",
   "mimetype": "text/x-python",
   "name": "python",
   "nbconvert_exporter": "python",
   "pygments_lexer": "ipython2",
   "version": "2.7.12"
  }
 },
 "nbformat": 4,
 "nbformat_minor": 0
}
