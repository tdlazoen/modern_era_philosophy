{
 "cells": [
  {
   "cell_type": "code",
   "execution_count": 98,
   "metadata": {
    "collapsed": true
   },
   "outputs": [],
   "source": [
    "from requests import get\n",
    "from bs4 import BeautifulSoup\n",
    "from unidecode import unidecode\n",
    "from collections import defaultdict\n",
    "from default_ordered_dict import DefaultOrderedDict\n",
    "import re\n",
    "import string\n",
    "import urllib"
   ]
  },
  {
   "cell_type": "code",
   "execution_count": 2,
   "metadata": {
    "collapsed": false
   },
   "outputs": [],
   "source": [
    "r = get('http://www.philosophybasics.com/philosophers_anaximander.html')\n",
    "r2 = get('http://www.philosophybasics.com/philosophers_thales.html')\n",
    "soup = BeautifulSoup(r.content, 'html.parser')\n",
    "soup2 = BeautifulSoup(r2.content, 'html.parser')"
   ]
  },
  {
   "cell_type": "code",
   "execution_count": 3,
   "metadata": {
    "collapsed": false
   },
   "outputs": [],
   "source": [
    "content = soup.select('p b')\n",
    "content2 = soup2.select('p b')"
   ]
  },
  {
   "cell_type": "code",
   "execution_count": 4,
   "metadata": {
    "collapsed": false
   },
   "outputs": [
    {
     "data": {
      "text/plain": [
       "[<b>Thales of Miletus</b>,\n",
       " <b>Greek</b>,\n",
       " <b>Miletus</b>,\n",
       " <b>Ionia</b>,\n",
       " <b>Seven Sages of Greece</b>,\n",
       " <b>first philosopher</b>,\n",
       " <b>founder</b>,\n",
       " <b>teacher</b>,\n",
       " <b>substance</b>,\n",
       " <b>material objects</b>,\n",
       " <b>water</b>,\n",
       " <b>universality</b>,\n",
       " <b>\"first scientist\".</b>,\n",
       " <b>Miletus</b>,\n",
       " <b>Diogenes La\\xebrtius</b>,\n",
       " <b>Examyas</b>,\n",
       " <b>Cleobulina</b>,\n",
       " <b>Thelidae</b>,\n",
       " <b>Agenor</b>,\n",
       " <b>Cadmus</b>,\n",
       " <b>Thebes</b>,\n",
       " <b>Phoenician</b>,\n",
       " <b>sketchy</b>,\n",
       " <b>contradictory</b>,\n",
       " <b>married</b>,\n",
       " <b>Cybisthus</b>,\n",
       " <b>Cybisthon</b>,\n",
       " <b>never married</b>,\n",
       " <b>no writings</b>,\n",
       " <b><i>\"On the Solstice\"</i></b>,\n",
       " <b><i>\"On the Equinox\"</i></b>,\n",
       " <b>business</b>,\n",
       " <b>politics</b>,\n",
       " <b>olive presses</b>,\n",
       " <b>good harvest</b>,\n",
       " <b>demonstrate</b>,\n",
       " <b>could</b>,\n",
       " <b>local politics</b>,\n",
       " <b>Lydians</b>,\n",
       " <b>Medes</b>,\n",
       " <b>Persians</b>,\n",
       " <b>predicted</b>,\n",
       " <b>eclipse</b>,\n",
       " <b>negotiations</b>,\n",
       " <b>favourable terms</b>,\n",
       " <b>died</b>,\n",
       " <b>history</b>,\n",
       " <b>legend</b>,\n",
       " <b>Seven Sages</b>,\n",
       " <b>Seven Wise Men</b>,\n",
       " <b>wisdom</b>,\n",
       " <b>\"Know thyself\"</b>,\n",
       " <b>distorted</b>,\n",
       " <b>no writings</b>,\n",
       " <b><i>\"On the Solstice\"</i></b>,\n",
       " <b><i>\"On the Equinox\"</i></b>,\n",
       " <b>very first</b>,\n",
       " <b>substance</b>,\n",
       " <b>material objects</b>,\n",
       " <b>modern scientists</b>,\n",
       " <b>first scientist</b>,\n",
       " <b>\"physis\"</b>,\n",
       " <b>characteristic way</b>,\n",
       " <b>naturalistic</b>,\n",
       " <b>supernatural</b>,\n",
       " <b>mythological</b>,\n",
       " <b>anthropomorphic</b>,\n",
       " <b>earthquakes</b>,\n",
       " <b>water</b>,\n",
       " <b>waves</b>,\n",
       " <b>cosmological doctrine</b>,\n",
       " <b>first principle</b>,\n",
       " <b>air</b>,\n",
       " <b>origin</b>,\n",
       " <b>emerge</b>,\n",
       " <b>return</b>,\n",
       " <b>are</b>,\n",
       " <b>moist substances</b>,\n",
       " <b>Earth</b>,\n",
       " <b>solidifying</b>,\n",
       " <b>floated</b>,\n",
       " <b>magnetism</b>,\n",
       " <b>static electricity</b>,\n",
       " <b>power to move</b>,\n",
       " <b>\"life\"</b>,\n",
       " <b>animation</b>,\n",
       " <b>power to act</b>,\n",
       " <b>no difference</b>,\n",
       " <b>living</b>,\n",
       " <b>dead</b>,\n",
       " <b>souls</b>,\n",
       " <b>mind</b>,\n",
       " <b>substance</b>,\n",
       " <b>non-divine principle of action</b>,\n",
       " <b>transcendental God</b>,\n",
       " <b>justice</b>,\n",
       " <b>letter of the law</b>,\n",
       " <b>spirit of the law</b>,\n",
       " <b>equally bad</b>,\n",
       " <b>moral advice</b>,\n",
       " <b>children</b>,\n",
       " <b>parents</b>,\n",
       " <b>talk</b>,\n",
       " <b>trust</b>,\n",
       " <b>ourselves</b>,\n",
       " <b>blame others</b>,\n",
       " <b>happy</b>,\n",
       " <b>healthy</b>,\n",
       " <b>resourceful</b>,\n",
       " <b>teachable</b>,\n",
       " <b>political views</b>,\n",
       " <b>benign tyranny</b>,\n",
       " <b>geometry</b>,\n",
       " <b>triangles</b>,\n",
       " <b>Thales' Theorem</b>,\n",
       " <b>within a circle</b>,\n",
       " <b>diameter</b>,\n",
       " <b>opposite angle</b>,\n",
       " <b>right angle</b>,\n",
       " <b>astronomy</b>,\n",
       " <b>path of the sun</b>,\n",
       " <b>solar eclipse</b>,\n",
       " <b>seasons</b>,\n",
       " <b>365-day year</b>,\n",
       " <b>questioning approach</b>,\n",
       " <b>Greek astronomy</b>]"
      ]
     },
     "execution_count": 4,
     "metadata": {},
     "output_type": "execute_result"
    }
   ],
   "source": [
    "content\n",
    "content2"
   ]
  },
  {
   "cell_type": "code",
   "execution_count": 5,
   "metadata": {
    "collapsed": false
   },
   "outputs": [
    {
     "name": "stdout",
     "output_type": "stream",
     "text": [
      "Anaximander\n",
      "Thales of Miletus\n"
     ]
    }
   ],
   "source": [
    "print content[0].string\n",
    "print content2[0].string"
   ]
  },
  {
   "cell_type": "code",
   "execution_count": 6,
   "metadata": {
    "collapsed": false
   },
   "outputs": [],
   "source": [
    "def add_philosopher(url, name, phil_dict, time_period, birth='BC', death='BC', western=True):\n",
    "    r = get(url)\n",
    "    soup = BeautifulSoup(r.content, 'html.parser')\n",
    "\n",
    "    # Unidecode first paragraph\n",
    "    par = unidecode(soup.select('p')[0].get_text())\n",
    "    sentences = par.split('.')\n",
    "    \n",
    "    # Calculate lifespan of philosopher\n",
    "    all=string.maketrans('','')\n",
    "    nodigs=all.translate(all, string.digits)\n",
    "    \n",
    "    # Check for sentence that contains years person lived\n",
    "    for sentence in sentences:\n",
    "        lifespan = sentence.translate(all, nodigs)\n",
    "        if len(lifespan) > 2:\n",
    "            break\n",
    "            \n",
    "    # Check if there were extra numbers in the sentence\n",
    "    if len(lifespan) > 8:\n",
    "        lifespan = lifespan[:8]\n",
    "        \n",
    "    # Set Philosopher information (Make year negative if BC)\n",
    "    middle = len(lifespan) / 2\n",
    "    try:\n",
    "        phil_dict[name]['year_born'] = -1 * int(lifespan[:middle]) if birth == 'BC' else int(lifespan[:middle])\n",
    "        phil_dict[name]['year_died'] = -1 * int(lifespan[middle:]) if death == 'BC' else int(lifespan[middle:])\n",
    "        \n",
    "    # Fill in with null values if can't be read in\n",
    "    except ValueError:\n",
    "        phil_dict[name]['year_born'] = float('NaN')\n",
    "        phil_dict[name]['year_died'] = float('NaN')\n",
    "        \n",
    "    phil_dict[name]['time_period'] = time_period\n",
    "    phil_dict[name]['Western?'] = western\n",
    "    \n",
    "    return phil_dict"
   ]
  },
  {
   "cell_type": "code",
   "execution_count": null,
   "metadata": {
    "collapsed": true
   },
   "outputs": [],
   "source": [
    "def get_image(name, phil_dict):\n",
    "    img_base = 'http://www.philosophybasics.com/photos/'\n",
    "    img_url = img_base + name.lower() + '.jpg'\n",
    "    filepath = 'images/' + name.lower() + '.jpg'\n",
    "    urllib.urlretrieve(img_url, filepath)\n",
    "    phil_dict[name]['Image'] = filepath\n",
    "    \n",
    "    return phil_dict"
   ]
  },
  {
   "cell_type": "code",
   "execution_count": 7,
   "metadata": {
    "collapsed": false
   },
   "outputs": [],
   "source": [
    "# Obtain Name, birth year, and death year for philosophers of given time period\n",
    "def ancient_time_period(time_period):\n",
    "    # Make Request to page of specific time period\n",
    "    r = get('http://www.philosophybasics.com/historical_' + time_period + '.html')\n",
    "    soup = BeautifulSoup(r.content, 'html.parser')\n",
    "    \n",
    "    # Get names of each philosopher from specified time period\n",
    "    philosophers = soup.select('a')\n",
    "    if time_period == 'presocratic':\n",
    "        min_slice, max_slice = 11, 23\n",
    "        \n",
    "    elif time_period == 'socratic':\n",
    "        min_slice, max_slice = 10, 14\n",
    "    \n",
    "    elif time_period == 'hellenistic':\n",
    "        min_slice, max_slice = 10, 15\n",
    "    \n",
    "    else: # time_period == 'roman'\n",
    "        min_slice, max_slice = 9, 14 \n",
    "    \n",
    "    philosophers = [unidecode(x.string) for x in philosophers[min_slice:max_slice]]\n",
    "    \n",
    "    # Base url for web pages\n",
    "    base_url = 'http://www.philosophybasics.com/philosophers_'\n",
    "    phil_dict = DefaultOrderedDict(dict)\n",
    "    \n",
    "    # Determine url to get request from\n",
    "    if time_period == 'presocratic':\n",
    "        for name in philosophers:\n",
    "                \n",
    "            if name == 'Zeno of Elea':\n",
    "                name = 'Zeno_Elea'\n",
    "                \n",
    "            else:\n",
    "                # Split name into needed part only\n",
    "                name = name.split()[0]\n",
    "                \n",
    "            \n",
    "            url = base_url + name.lower() + '.html'\n",
    "            \n",
    "            phil_dict = get_image(name, phil_dict)\n",
    "            \n",
    "            phil_dict = add_philosopher(url, name, phil_dict, time_period)\n",
    "                \n",
    "    elif time_period == 'socratic':\n",
    "        for name in philosophers:\n",
    "            name = name.split()[0]\n",
    "                \n",
    "            url = base_url + name.lower() + '.html'\n",
    "                \n",
    "                \n",
    "            phil_dict = add_philosopher(url, name, phil_dict, time_period)\n",
    "    \n",
    "    elif time_period == 'hellenistic':\n",
    "        for name in philosophers:\n",
    "            if name == 'Zeno of Citium':\n",
    "                name = 'Zeno'\n",
    "                birth, death = 'BC', 'BC'\n",
    "                url = base_url + 'zeno_citium.html'\n",
    "                \n",
    "            elif name == 'Philo of Alexandria':\n",
    "                name = 'Philo'\n",
    "                birth, death = 'BC', 'AC'\n",
    "                url = base_url + name.lower() + '.html'\n",
    "                \n",
    "            else:\n",
    "                birth, death = 'BC', 'BC'\n",
    "                url = base_url + name.lower() + '.html'\n",
    "            \n",
    "            if name == 'Plotinus':\n",
    "                birth, death = 'AC', 'AC'\n",
    "            \n",
    "            phil_dict = add_philosopher(url, name, phil_dict, time_period, birth=birth, death=death)\n",
    "            \n",
    "    else: # time_period == 'roman'\n",
    "        for name in philosophers:\n",
    "            if name == 'Cicero, Marcus Tullius':\n",
    "                name = 'Cicero'\n",
    "                birth, death = 'BC', 'BC'\n",
    "                url = base_url + name.lower() + '.html'\n",
    "            \n",
    "            elif name == 'St. Augustine of Hippo':\n",
    "                name = 'Augustine'\n",
    "                birth, death = 'AD', 'AD'\n",
    "                url = base_url + name.lower() + '.html'\n",
    "                \n",
    "            else:\n",
    "                name = name.split(r'[, \\. ' ']')[0]\n",
    "                birth, death = 'AD', 'AD'\n",
    "                url = base_url + name.lower() + '.html'\n",
    "            \n",
    "            phil_dict = add_philosopher(url, name, phil_dict, time_period, birth=birth, death=death)\n",
    "        \n",
    "    return phil_dict"
   ]
  },
  {
   "cell_type": "code",
   "execution_count": 8,
   "metadata": {
    "collapsed": false
   },
   "outputs": [],
   "source": [
    "pre_socratic = ancient_time_period('presocratic')"
   ]
  },
  {
   "cell_type": "code",
   "execution_count": 9,
   "metadata": {
    "collapsed": false
   },
   "outputs": [
    {
     "name": "stdout",
     "output_type": "stream",
     "text": [
      "{'year_died': -450, 'year_born': -515, 'time_period': 'presocratic', 'Western?': True}\n",
      "\n",
      "['Thales', 'Anaximander', 'Anaximenes', 'Pythagoras', 'Heraclitus', 'Parmenides', 'Anaxagoras', 'Empedocles', 'Zeno_Elea', 'Protagoras', 'Gorgias', 'Democritus']\n"
     ]
    }
   ],
   "source": [
    "print pre_socratic['Parmenides']\n",
    "print '\\n', pre_socratic.keys()"
   ]
  },
  {
   "cell_type": "code",
   "execution_count": 10,
   "metadata": {
    "collapsed": false
   },
   "outputs": [],
   "source": [
    "socratic = ancient_time_period('socratic')"
   ]
  },
  {
   "cell_type": "code",
   "execution_count": 11,
   "metadata": {
    "collapsed": false
   },
   "outputs": [
    {
     "name": "stdout",
     "output_type": "stream",
     "text": [
      "{'year_died': -399, 'year_born': -469, 'time_period': 'socratic', 'Western?': True}\n",
      "\n",
      "['Socrates', 'Plato', 'Diogenes', 'Aristotle']\n"
     ]
    }
   ],
   "source": [
    "print socratic['Socrates']\n",
    "print '\\n', socratic.keys()"
   ]
  },
  {
   "cell_type": "code",
   "execution_count": 12,
   "metadata": {
    "collapsed": false
   },
   "outputs": [],
   "source": [
    "hellenistic = ancient_time_period('hellenistic')"
   ]
  },
  {
   "cell_type": "code",
   "execution_count": 13,
   "metadata": {
    "collapsed": false
   },
   "outputs": [
    {
     "name": "stdout",
     "output_type": "stream",
     "text": [
      "{'year_died': -270, 'year_born': -360, 'time_period': 'hellenistic', 'Western?': True}\n",
      "\n",
      "['Pyrrho', 'Epicurus', 'Zeno', 'Philo', 'Plotinus']\n"
     ]
    }
   ],
   "source": [
    "print hellenistic['Pyrrho']\n",
    "print '\\n', hellenistic.keys()"
   ]
  },
  {
   "cell_type": "code",
   "execution_count": 14,
   "metadata": {
    "collapsed": false
   },
   "outputs": [],
   "source": [
    "roman = ancient_time_period('roman')"
   ]
  },
  {
   "cell_type": "code",
   "execution_count": 15,
   "metadata": {
    "collapsed": false
   },
   "outputs": [
    {
     "name": "stdout",
     "output_type": "stream",
     "text": [
      "{'year_died': 135, 'year_born': 55, 'time_period': 'roman', 'Western?': True}\n",
      "\n",
      "['Cicero', 'Epictetus', 'Marcus Aurelius', 'Augustine', 'Boethius']\n"
     ]
    }
   ],
   "source": [
    "print roman['Epictetus']\n",
    "print '\\n', roman.keys()"
   ]
  },
  {
   "cell_type": "code",
   "execution_count": 16,
   "metadata": {
    "collapsed": false
   },
   "outputs": [],
   "source": [
    "def ancient_philosophers():\n",
    "    pre_socratic = ancient_time_period('presocratic')\n",
    "    socratic = ancient_time_period('socratic')\n",
    "    hellenistic = ancient_time_period('hellenistic')\n",
    "    roman = ancient_time_period('roman')\n",
    "    \n",
    "    ancient = pre_socratic\n",
    "    ancient.update(socratic)\n",
    "    ancient.update(hellenistic)\n",
    "    ancient.update(roman)\n",
    "    \n",
    "    return ancient"
   ]
  },
  {
   "cell_type": "code",
   "execution_count": 17,
   "metadata": {
    "collapsed": false
   },
   "outputs": [],
   "source": [
    "ancient = ancient_philosophers()"
   ]
  },
  {
   "cell_type": "code",
   "execution_count": 18,
   "metadata": {
    "collapsed": false
   },
   "outputs": [
    {
     "name": "stdout",
     "output_type": "stream",
     "text": [
      "{'year_died': -322, 'year_born': -384, 'time_period': 'socratic', 'Western?': True}\n",
      "\n",
      "['Thales', 'Anaximander', 'Anaximenes', 'Pythagoras', 'Heraclitus', 'Parmenides', 'Anaxagoras', 'Empedocles', 'Zeno_Elea', 'Protagoras', 'Gorgias', 'Democritus', 'Socrates', 'Plato', 'Diogenes', 'Aristotle', 'Pyrrho', 'Epicurus', 'Zeno', 'Philo', 'Plotinus', 'Cicero', 'Epictetus', 'Marcus Aurelius', 'Augustine', 'Boethius']\n"
     ]
    }
   ],
   "source": [
    "print ancient['Aristotle']\n",
    "print '\\n', ancient.keys()"
   ]
  },
  {
   "cell_type": "code",
   "execution_count": 19,
   "metadata": {
    "collapsed": false
   },
   "outputs": [],
   "source": [
    "def medieval_time_period(time_period):\n",
    "    # Make Request to page of specific time period\n",
    "    r = get('http://www.philosophybasics.com/historical_' + time_period + '.html')\n",
    "    soup = BeautifulSoup(r.content, 'html.parser')\n",
    "    \n",
    "    # Get names of each philosopher from specified time period\n",
    "    philosophers = soup.select('a')\n",
    "    \n",
    "    if time_period == 'medieval':\n",
    "        min_slice, max_slice = 8, 18\n",
    "\n",
    "    else: # time_period == 'renaissance'\n",
    "        min_slice, max_slice = 12, 16\n",
    "        \n",
    "    philosophers = [unidecode(x.string) for x in philosophers[min_slice:max_slice]]\n",
    "    \n",
    "    base_url = 'http://www.philosophybasics.com/philosophers_'\n",
    "    phil_dict = DefaultOrderedDict(dict)\n",
    "    \n",
    "    if time_period == 'medieval':\n",
    "        \n",
    "        for name in philosophers:\n",
    "            \n",
    "            if name == 'Bacon, Roger':\n",
    "                url = base_url + 'bacon_roger.html'\n",
    "            \n",
    "            else:\n",
    "                name = name.split(r'[, ' ']')[0]\n",
    "                url = base_url + name.lower() + '.html'\n",
    "                \n",
    "            birth, death = 'AD', 'AD'\n",
    "            \n",
    "            phil_dict = add_philosopher(url, name, phil_dict, time_period, birth=birth, death=death)\n",
    "        \n",
    "    else: # time_period == 'Renaissance'\n",
    "        \n",
    "        for name in philosophers:\n",
    "            \n",
    "            if name == 'Bacon, Sir Francis':\n",
    "                name = 'Sir_Francis_Bacon'\n",
    "                url = base_url + 'bacon_francis.html'\n",
    "            \n",
    "            else:\n",
    "                name = name.split(',')[0]\n",
    "                url = base_url + name.lower() + '.html'\n",
    "            \n",
    "            birth, death = 'AD', 'AD'\n",
    "            \n",
    "            phil_dict = add_philosopher(url, name, phil_dict, time_period, birth=birth, death=death)\n",
    "    \n",
    "    return phil_dict"
   ]
  },
  {
   "cell_type": "code",
   "execution_count": 20,
   "metadata": {
    "collapsed": false
   },
   "outputs": [],
   "source": [
    "medieval_time = medieval_time_period('medieval')"
   ]
  },
  {
   "cell_type": "code",
   "execution_count": 21,
   "metadata": {
    "collapsed": false
   },
   "outputs": [
    {
     "name": "stdout",
     "output_type": "stream",
     "text": [
      "{'year_died': 1294, 'year_born': 1214, 'time_period': 'medieval', 'Western?': True}\n",
      "\n",
      "['Avicenna (Ibn Sina)', 'Anselm, St.', 'Abelard, Peter', 'Averroes (Ibn Rushd)', 'Maimonides', 'Albertus Magnus', 'Bacon, Roger', 'Aquinas, St. Thomas', 'Scotus, John Duns', 'Ockham (Occam), William of']\n"
     ]
    }
   ],
   "source": [
    "print medieval_time['Bacon, Roger']\n",
    "print '\\n', medieval_time.keys()"
   ]
  },
  {
   "cell_type": "code",
   "execution_count": 22,
   "metadata": {
    "collapsed": false
   },
   "outputs": [],
   "source": [
    "renaissance = medieval_time_period('renaissance')"
   ]
  },
  {
   "cell_type": "code",
   "execution_count": 23,
   "metadata": {
    "collapsed": false
   },
   "outputs": [
    {
     "name": "stdout",
     "output_type": "stream",
     "text": [
      "{'year_died': 1527, 'year_born': 1469, 'time_period': 'renaissance', 'Western?': True}\n",
      "\n",
      "['Erasmus', 'Machiavelli', 'More', 'Sir_Francis_Bacon']\n"
     ]
    }
   ],
   "source": [
    "print renaissance['Machiavelli']\n",
    "print '\\n', renaissance.keys()"
   ]
  },
  {
   "cell_type": "code",
   "execution_count": 24,
   "metadata": {
    "collapsed": false
   },
   "outputs": [],
   "source": [
    "def medieval_philosophers():\n",
    "    medieval = medieval_time_period('medieval')\n",
    "    renaissance = medieval_time_period('renaissance')\n",
    "    \n",
    "    medieval = medieval\n",
    "    medieval.update(renaissance)\n",
    "    \n",
    "    return medieval"
   ]
  },
  {
   "cell_type": "code",
   "execution_count": 25,
   "metadata": {
    "collapsed": false
   },
   "outputs": [],
   "source": [
    "medieval = medieval_philosophers()"
   ]
  },
  {
   "cell_type": "code",
   "execution_count": 26,
   "metadata": {
    "collapsed": false
   },
   "outputs": [
    {
     "name": "stdout",
     "output_type": "stream",
     "text": [
      "{'year_died': 1536, 'year_born': 1466, 'time_period': 'renaissance', 'Western?': True}\n",
      "\n",
      "['Avicenna (Ibn Sina)', 'Anselm, St.', 'Abelard, Peter', 'Averroes (Ibn Rushd)', 'Maimonides', 'Albertus Magnus', 'Bacon, Roger', 'Aquinas, St. Thomas', 'Scotus, John Duns', 'Ockham (Occam), William of', 'Erasmus', 'Machiavelli', 'More', 'Sir_Francis_Bacon']\n"
     ]
    }
   ],
   "source": [
    "print medieval['Erasmus']\n",
    "print '\\n', medieval.keys()"
   ]
  },
  {
   "cell_type": "code",
   "execution_count": 27,
   "metadata": {
    "collapsed": true
   },
   "outputs": [],
   "source": [
    "def modern_time_period(time_period):\n",
    "    # Make Request to page of specific time period\n",
    "    r = get('http://www.philosophybasics.com/historical_' + time_period + '.html')\n",
    "    soup = BeautifulSoup(r.content, 'html.parser')\n",
    "    \n",
    "    # Get names of each philosopher from specified time period\n",
    "    philosophers = soup.select('a')\n",
    "    \n",
    "    if time_period == 'reason' or time_period == 'enlightenment':\n",
    "        min_slice, max_slice = 9, 16\n",
    "\n",
    "    else: # time_period == 'modern'\n",
    "        min_slice, max_slice = 8, 36\n",
    "        \n",
    "    philosophers = [unidecode(x.string) for x in philosophers[min_slice:max_slice]]\n",
    "    \n",
    "    base_url = 'http://www.philosophybasics.com/philosophers_'\n",
    "    phil_dict = DefaultOrderedDict(dict)\n",
    "    \n",
    "    if time_period == 'reason':\n",
    "        for name in philosophers:\n",
    "            \n",
    "            name_temp = name.split(',')[0]\n",
    "            \n",
    "            url = base_url + name_temp.lower() + '.html'\n",
    "            birth, death = 'AD', 'AD'\n",
    "            \n",
    "            phil_dict = add_philosopher(url, name, phil_dict, time_period, birth=birth, death=death)\n",
    "    \n",
    "    elif time_period == 'enlightenment':\n",
    "        for  name in philosophers:\n",
    "            \n",
    "            name_temp = name.split(',')[0]\n",
    "            \n",
    "            url = base_url + name_temp.lower() + '.html'\n",
    "            birth, death = 'AD', 'AD'\n",
    "            \n",
    "            phil_dict = add_philosopher(url, name, phil_dict, time_period, birth=birth, death=death)\n",
    "            \n",
    "    else: # time_period == 'modern'\n",
    "        for name in philosophers:\n",
    "            \n",
    "            if name == 'Friedrich Schelling':\n",
    "                name_temp = 'Schelling'\n",
    "            \n",
    "            else:\n",
    "                name_temp = name.split(',')[0]\n",
    "            \n",
    "            url = base_url + name_temp.lower() + '.html'\n",
    "            birth, death = 'AD', 'AD'\n",
    "            \n",
    "            phil_dict = add_philosopher(url, name, phil_dict, time_period, birth=birth, death=death)\n",
    "            \n",
    "    return phil_dict"
   ]
  },
  {
   "cell_type": "code",
   "execution_count": 28,
   "metadata": {
    "collapsed": false
   },
   "outputs": [],
   "source": [
    "reason = modern_time_period('reason')"
   ]
  },
  {
   "cell_type": "code",
   "execution_count": 29,
   "metadata": {
    "collapsed": false
   },
   "outputs": [
    {
     "name": "stdout",
     "output_type": "stream",
     "text": [
      "{'year_died': 1704, 'year_born': 1632, 'time_period': 'reason', 'Western?': True}\n",
      "\n",
      "['Hobbes, Thomas', 'Descartes, Rene', 'Pascal, Blaise', 'Spinoza, Baruch (Benedict)', 'Locke, John', 'Malebranche, Nicolas', 'Leibniz, Gottfried Wilhelm']\n"
     ]
    }
   ],
   "source": [
    "print reason['Locke, John']\n",
    "print '\\n', reason.keys()"
   ]
  },
  {
   "cell_type": "code",
   "execution_count": 30,
   "metadata": {
    "collapsed": false
   },
   "outputs": [],
   "source": [
    "enlightenment = modern_time_period('enlightenment')"
   ]
  },
  {
   "cell_type": "code",
   "execution_count": 31,
   "metadata": {
    "collapsed": false
   },
   "outputs": [
    {
     "name": "stdout",
     "output_type": "stream",
     "text": [
      "{'year_died': 1790, 'year_born': 1723, 'time_period': 'enlightenment', 'Western?': True}\n",
      "\n",
      "['Berkeley, Bishop George', 'Voltaire (Francois Marie Arouet)', 'Hume, David', 'Rousseau, Jean-Jacques', 'Smith, Adam', 'Kant, Immanuel', 'Burke, Edmund']\n"
     ]
    }
   ],
   "source": [
    "print enlightenment['Smith, Adam']\n",
    "print '\\n', enlightenment.keys()"
   ]
  },
  {
   "cell_type": "code",
   "execution_count": 32,
   "metadata": {
    "collapsed": false
   },
   "outputs": [],
   "source": [
    "modern_time = modern_time_period('modern')"
   ]
  },
  {
   "cell_type": "code",
   "execution_count": 33,
   "metadata": {
    "collapsed": false
   },
   "outputs": [
    {
     "name": "stdout",
     "output_type": "stream",
     "text": [
      "{'year_died': 1900, 'year_born': 1844, 'time_period': 'modern', 'Western?': True}\n",
      "\n",
      "['Bentham, Jeremy', 'Fichte, Johann Gottlieb', 'Hegel, G.W.F.', 'Friedrich Schelling', 'Schopenhauer, Arthur', 'Comte, Auguste', 'Emerson, Ralph Waldo', 'Mill, John Stuart', 'Kierkegaard, Soren', 'Thoreau, Henry David', 'Marx, Karl', 'Peirce, Charles Sanders', 'James, William', 'Nietzsche, Friedrich', 'Frege, Gottlob', 'Dewey, John', 'Husserl, Edmund', 'Whitehead, Alfred North', 'Russell, Bertrand', 'Moore, George Edward', 'Wittgenstein, Ludwig', 'Heidegger, Martin', 'Ryle, Gilbert', 'Sartre, Jean-Paul', 'Quine, Willard Van Orman', 'Ayer, Alfred', 'Foucault, Michel', 'Derrida, Jacques']\n"
     ]
    }
   ],
   "source": [
    "print modern_time['Nietzsche, Friedrich']\n",
    "print '\\n', modern_time.keys()"
   ]
  },
  {
   "cell_type": "code",
   "execution_count": 34,
   "metadata": {
    "collapsed": true
   },
   "outputs": [],
   "source": [
    "def modern_philosophers():\n",
    "    reason = modern_time_period('reason')\n",
    "    enlightenment = modern_time_period('enlightenment')\n",
    "    modern = modern_time_period('modern')\n",
    "    \n",
    "    modern_phil = reason\n",
    "    modern_phil.update(enlightenment)\n",
    "    modern_phil.update(modern)\n",
    "    \n",
    "    return modern_phil"
   ]
  },
  {
   "cell_type": "code",
   "execution_count": 35,
   "metadata": {
    "collapsed": true
   },
   "outputs": [],
   "source": [
    "modern = modern_philosophers()"
   ]
  },
  {
   "cell_type": "code",
   "execution_count": 36,
   "metadata": {
    "collapsed": false
   },
   "outputs": [
    {
     "name": "stdout",
     "output_type": "stream",
     "text": [
      "{'year_died': 1804, 'year_born': 1724, 'time_period': 'enlightenment', 'Western?': True}\n",
      "\n",
      "['Hobbes, Thomas', 'Descartes, Rene', 'Pascal, Blaise', 'Spinoza, Baruch (Benedict)', 'Locke, John', 'Malebranche, Nicolas', 'Leibniz, Gottfried Wilhelm', 'Berkeley, Bishop George', 'Voltaire (Francois Marie Arouet)', 'Hume, David', 'Rousseau, Jean-Jacques', 'Smith, Adam', 'Kant, Immanuel', 'Burke, Edmund', 'Bentham, Jeremy', 'Fichte, Johann Gottlieb', 'Hegel, G.W.F.', 'Friedrich Schelling', 'Schopenhauer, Arthur', 'Comte, Auguste', 'Emerson, Ralph Waldo', 'Mill, John Stuart', 'Kierkegaard, Soren', 'Thoreau, Henry David', 'Marx, Karl', 'Peirce, Charles Sanders', 'James, William', 'Nietzsche, Friedrich', 'Frege, Gottlob', 'Dewey, John', 'Husserl, Edmund', 'Whitehead, Alfred North', 'Russell, Bertrand', 'Moore, George Edward', 'Wittgenstein, Ludwig', 'Heidegger, Martin', 'Ryle, Gilbert', 'Sartre, Jean-Paul', 'Quine, Willard Van Orman', 'Ayer, Alfred', 'Foucault, Michel', 'Derrida, Jacques']\n"
     ]
    }
   ],
   "source": [
    "print modern['Kant, Immanuel']\n",
    "print '\\n', modern.keys()"
   ]
  },
  {
   "cell_type": "code",
   "execution_count": 37,
   "metadata": {
    "collapsed": true
   },
   "outputs": [],
   "source": [
    "def western_philosophers():\n",
    "    ancient = ancient_philosophers()\n",
    "    medieval = medieval_philosophers()\n",
    "    modern = modern_philosophers()\n",
    "    \n",
    "    western = ancient\n",
    "    western.update(medieval)\n",
    "    western.update(modern)\n",
    "    \n",
    "    return western"
   ]
  },
  {
   "cell_type": "code",
   "execution_count": 38,
   "metadata": {
    "collapsed": false
   },
   "outputs": [],
   "source": [
    "western = western_philosophers()"
   ]
  },
  {
   "cell_type": "code",
   "execution_count": 68,
   "metadata": {
    "collapsed": false
   },
   "outputs": [
    {
     "name": "stdout",
     "output_type": "stream",
     "text": [
      "['Thales', 'Anaximander', 'Anaximenes', 'Pythagoras', 'Heraclitus', 'Parmenides', 'Anaxagoras', 'Empedocles', 'Zeno_Elea', 'Protagoras', 'Gorgias', 'Democritus', 'Socrates', 'Plato', 'Diogenes', 'Aristotle', 'Pyrrho', 'Epicurus', 'Zeno', 'Philo', 'Plotinus', 'Cicero', 'Epictetus', 'Marcus Aurelius', 'Augustine', 'Boethius', 'Avicenna (Ibn Sina)', 'Anselm, St.', 'Abelard, Peter', 'Averroes (Ibn Rushd)', 'Maimonides', 'Albertus Magnus', 'Bacon, Roger', 'Aquinas, St. Thomas', 'Scotus, John Duns', 'Ockham (Occam), William of', 'Erasmus', 'Machiavelli', 'More', 'Sir_Francis_Bacon', 'Hobbes, Thomas', 'Descartes, Rene', 'Pascal, Blaise', 'Spinoza, Baruch (Benedict)', 'Locke, John', 'Malebranche, Nicolas', 'Leibniz, Gottfried Wilhelm', 'Berkeley, Bishop George', 'Voltaire (Francois Marie Arouet)', 'Hume, David', 'Rousseau, Jean-Jacques', 'Smith, Adam', 'Kant, Immanuel', 'Burke, Edmund', 'Bentham, Jeremy', 'Fichte, Johann Gottlieb', 'Hegel, G.W.F.', 'Friedrich Schelling', 'Schopenhauer, Arthur', 'Comte, Auguste', 'Emerson, Ralph Waldo', 'Mill, John Stuart', 'Kierkegaard, Soren', 'Thoreau, Henry David', 'Marx, Karl', 'Peirce, Charles Sanders', 'James, William', 'Nietzsche, Friedrich', 'Frege, Gottlob', 'Dewey, John', 'Husserl, Edmund', 'Whitehead, Alfred North', 'Russell, Bertrand', 'Moore, George Edward', 'Wittgenstein, Ludwig', 'Heidegger, Martin', 'Ryle, Gilbert', 'Sartre, Jean-Paul', 'Quine, Willard Van Orman', 'Ayer, Alfred', 'Foucault, Michel', 'Derrida, Jacques']\n"
     ]
    }
   ],
   "source": [
    "print western.keys()"
   ]
  },
  {
   "cell_type": "code",
   "execution_count": 65,
   "metadata": {
    "collapsed": false
   },
   "outputs": [],
   "source": [
    "def find_nationality(d):\n",
    "    time_periods = ['presocratic', 'socratic', 'hellenistic', 'roman', 'medieval', 'renaissance', 'reason', \\\n",
    "                   'enlightenment', 'modern']\n",
    "    for time_period in time_periods:\n",
    "        url = 'http://www.philosophybasics.com/historical_' + time_period + '.html'\n",
    "        r = get(url)\n",
    "        soup = BeautifulSoup(r.content, 'html.parser')\n",
    "        content = soup.select('font font')\n",
    "        \n",
    "        nationals = []\n",
    "        for i in xrange(len(content)):\n",
    "            lst_words = [unidecode(x) for x in content[i].get_text().strip().split('\\n')]\n",
    "            if len(lst_words) > 1:\n",
    "                nationals.append(lst_words)\n",
    "        \n",
    "        nationals = [item for lst in nationals for item in lst]\n",
    "        \n",
    "        i = 0\n",
    "        for name in d.iterkeys():\n",
    "            if d[name]['time_period'] == time_period:\n",
    "                \n",
    "                components = re.split(r'\\)', nationals[i])\n",
    "            \n",
    "                d[name]['Nationality'] = components[-1].strip()\n",
    "                \n",
    "                i += 1\n",
    "\n",
    "    return d"
   ]
  },
  {
   "cell_type": "code",
   "execution_count": 66,
   "metadata": {
    "collapsed": false
   },
   "outputs": [
    {
     "data": {
      "text/plain": [
       "DefaultOrderedDict([('Thales',\n",
       "                     {'Nationality': 'Greek',\n",
       "                      'Western?': True,\n",
       "                      'time_period': 'presocratic',\n",
       "                      'year_born': -624,\n",
       "                      'year_died': -546}),\n",
       "                    ('Anaximander',\n",
       "                     {'Nationality': 'Greek',\n",
       "                      'Western?': True,\n",
       "                      'time_period': 'presocratic',\n",
       "                      'year_born': -610,\n",
       "                      'year_died': -546}),\n",
       "                    ('Anaximenes',\n",
       "                     {'Nationality': 'Greek',\n",
       "                      'Western?': True,\n",
       "                      'time_period': 'presocratic',\n",
       "                      'year_born': -585,\n",
       "                      'year_died': -525}),\n",
       "                    ('Pythagoras',\n",
       "                     {'Nationality': 'Greek',\n",
       "                      'Western?': True,\n",
       "                      'time_period': 'presocratic',\n",
       "                      'year_born': -570,\n",
       "                      'year_died': -490}),\n",
       "                    ('Heraclitus',\n",
       "                     {'Nationality': 'Greek',\n",
       "                      'Western?': True,\n",
       "                      'time_period': 'presocratic',\n",
       "                      'year_born': -535,\n",
       "                      'year_died': -475}),\n",
       "                    ('Parmenides',\n",
       "                     {'Nationality': 'Greek',\n",
       "                      'Western?': True,\n",
       "                      'time_period': 'presocratic',\n",
       "                      'year_born': -515,\n",
       "                      'year_died': -450}),\n",
       "                    ('Anaxagoras',\n",
       "                     {'Nationality': 'Greek',\n",
       "                      'Western?': True,\n",
       "                      'time_period': 'presocratic',\n",
       "                      'year_born': -500,\n",
       "                      'year_died': -428}),\n",
       "                    ('Empedocles',\n",
       "                     {'Nationality': 'Greek',\n",
       "                      'Western?': True,\n",
       "                      'time_period': 'presocratic',\n",
       "                      'year_born': -490,\n",
       "                      'year_died': -430}),\n",
       "                    ('Zeno_Elea',\n",
       "                     {'Nationality': 'Greek',\n",
       "                      'Western?': True,\n",
       "                      'time_period': 'presocratic',\n",
       "                      'year_born': -490,\n",
       "                      'year_died': -430}),\n",
       "                    ('Protagoras',\n",
       "                     {'Nationality': 'Greek',\n",
       "                      'Western?': True,\n",
       "                      'time_period': 'presocratic',\n",
       "                      'year_born': -490,\n",
       "                      'year_died': -420}),\n",
       "                    ('Gorgias',\n",
       "                     {'Nationality': 'Greek',\n",
       "                      'Western?': True,\n",
       "                      'time_period': 'presocratic',\n",
       "                      'year_born': -487,\n",
       "                      'year_died': -376}),\n",
       "                    ('Democritus',\n",
       "                     {'Nationality': 'Greek',\n",
       "                      'Western?': True,\n",
       "                      'time_period': 'presocratic',\n",
       "                      'year_born': -460,\n",
       "                      'year_died': -370}),\n",
       "                    ('Socrates',\n",
       "                     {'Nationality': 'Greek',\n",
       "                      'Western?': True,\n",
       "                      'time_period': 'socratic',\n",
       "                      'year_born': -469,\n",
       "                      'year_died': -399}),\n",
       "                    ('Plato',\n",
       "                     {'Nationality': 'Greek',\n",
       "                      'Western?': True,\n",
       "                      'time_period': 'socratic',\n",
       "                      'year_born': -428,\n",
       "                      'year_died': -348}),\n",
       "                    ('Diogenes',\n",
       "                     {'Nationality': 'Greek',\n",
       "                      'Western?': True,\n",
       "                      'time_period': 'socratic',\n",
       "                      'year_born': -412,\n",
       "                      'year_died': -323}),\n",
       "                    ('Aristotle',\n",
       "                     {'Nationality': 'Greek',\n",
       "                      'Western?': True,\n",
       "                      'time_period': 'socratic',\n",
       "                      'year_born': -384,\n",
       "                      'year_died': -322}),\n",
       "                    ('Pyrrho',\n",
       "                     {'Nationality': 'Greek',\n",
       "                      'Western?': True,\n",
       "                      'time_period': 'hellenistic',\n",
       "                      'year_born': -360,\n",
       "                      'year_died': -270}),\n",
       "                    ('Epicurus',\n",
       "                     {'Nationality': 'Greek',\n",
       "                      'Western?': True,\n",
       "                      'time_period': 'hellenistic',\n",
       "                      'year_born': -341,\n",
       "                      'year_died': -270}),\n",
       "                    ('Zeno',\n",
       "                     {'Nationality': 'Greek',\n",
       "                      'Western?': True,\n",
       "                      'time_period': 'hellenistic',\n",
       "                      'year_born': -334,\n",
       "                      'year_died': -262}),\n",
       "                    ('Philo',\n",
       "                     {'Nationality': 'Egyptian-Jewish',\n",
       "                      'Western?': True,\n",
       "                      'time_period': 'hellenistic',\n",
       "                      'year_born': nan,\n",
       "                      'year_died': nan}),\n",
       "                    ('Plotinus',\n",
       "                     {'Nationality': 'Egyptian-Greek',\n",
       "                      'Western?': True,\n",
       "                      'time_period': 'hellenistic',\n",
       "                      'year_born': 204,\n",
       "                      'year_died': 270}),\n",
       "                    ('Cicero',\n",
       "                     {'Nationality': 'Roman',\n",
       "                      'Western?': True,\n",
       "                      'time_period': 'roman',\n",
       "                      'year_born': -10,\n",
       "                      'year_died': -643}),\n",
       "                    ('Epictetus',\n",
       "                     {'Nationality': 'Greek-Roman',\n",
       "                      'Western?': True,\n",
       "                      'time_period': 'roman',\n",
       "                      'year_born': 55,\n",
       "                      'year_died': 135}),\n",
       "                    ('Marcus Aurelius',\n",
       "                     {'Nationality': 'Roman',\n",
       "                      'Western?': True,\n",
       "                      'time_period': 'roman',\n",
       "                      'year_born': nan,\n",
       "                      'year_died': nan}),\n",
       "                    ('Augustine',\n",
       "                     {'Nationality': 'Roman',\n",
       "                      'Western?': True,\n",
       "                      'time_period': 'roman',\n",
       "                      'year_born': 354,\n",
       "                      'year_died': 430}),\n",
       "                    ('Boethius',\n",
       "                     {'Nationality': 'Roman',\n",
       "                      'Western?': True,\n",
       "                      'time_period': 'roman',\n",
       "                      'year_born': 480,\n",
       "                      'year_died': 5256}),\n",
       "                    ('Avicenna (Ibn Sina)',\n",
       "                     {'Nationality': 'Persian',\n",
       "                      'Western?': True,\n",
       "                      'time_period': 'medieval',\n",
       "                      'year_born': nan,\n",
       "                      'year_died': nan}),\n",
       "                    ('Anselm, St.',\n",
       "                     {'Nationality': 'Italian',\n",
       "                      'Western?': True,\n",
       "                      'time_period': 'medieval',\n",
       "                      'year_born': nan,\n",
       "                      'year_died': nan}),\n",
       "                    ('Abelard, Peter',\n",
       "                     {'Nationality': 'French',\n",
       "                      'Western?': True,\n",
       "                      'time_period': 'medieval',\n",
       "                      'year_born': nan,\n",
       "                      'year_died': nan}),\n",
       "                    ('Averroes (Ibn Rushd)',\n",
       "                     {'Nationality': 'Spanish-Arabic',\n",
       "                      'Western?': True,\n",
       "                      'time_period': 'medieval',\n",
       "                      'year_born': nan,\n",
       "                      'year_died': nan}),\n",
       "                    ('Maimonides',\n",
       "                     {'Nationality': 'Spanish-Jewish',\n",
       "                      'Western?': True,\n",
       "                      'time_period': 'medieval',\n",
       "                      'year_born': nan,\n",
       "                      'year_died': nan}),\n",
       "                    ('Albertus Magnus',\n",
       "                     {'Nationality': 'German',\n",
       "                      'Western?': True,\n",
       "                      'time_period': 'medieval',\n",
       "                      'year_born': nan,\n",
       "                      'year_died': nan}),\n",
       "                    ('Bacon, Roger',\n",
       "                     {'Nationality': 'English',\n",
       "                      'Western?': True,\n",
       "                      'time_period': 'medieval',\n",
       "                      'year_born': 1214,\n",
       "                      'year_died': 1294}),\n",
       "                    ('Aquinas, St. Thomas',\n",
       "                     {'Nationality': 'Italian',\n",
       "                      'Western?': True,\n",
       "                      'time_period': 'medieval',\n",
       "                      'year_born': nan,\n",
       "                      'year_died': nan}),\n",
       "                    ('Scotus, John Duns',\n",
       "                     {'Nationality': 'Scottish',\n",
       "                      'Western?': True,\n",
       "                      'time_period': 'medieval',\n",
       "                      'year_born': nan,\n",
       "                      'year_died': nan}),\n",
       "                    ('Ockham (Occam), William of',\n",
       "                     {'Nationality': 'English',\n",
       "                      'Western?': True,\n",
       "                      'time_period': 'medieval',\n",
       "                      'year_born': nan,\n",
       "                      'year_died': nan}),\n",
       "                    ('Erasmus',\n",
       "                     {'Nationality': 'Dutch',\n",
       "                      'Western?': True,\n",
       "                      'time_period': 'renaissance',\n",
       "                      'year_born': 1466,\n",
       "                      'year_died': 1536}),\n",
       "                    ('Machiavelli',\n",
       "                     {'Nationality': 'Italian',\n",
       "                      'Western?': True,\n",
       "                      'time_period': 'renaissance',\n",
       "                      'year_born': 1469,\n",
       "                      'year_died': 1527}),\n",
       "                    ('More',\n",
       "                     {'Nationality': 'English',\n",
       "                      'Western?': True,\n",
       "                      'time_period': 'renaissance',\n",
       "                      'year_born': 1478,\n",
       "                      'year_died': 1535}),\n",
       "                    ('Sir_Francis_Bacon',\n",
       "                     {'Nationality': 'English',\n",
       "                      'Western?': True,\n",
       "                      'time_period': 'renaissance',\n",
       "                      'year_born': 1156,\n",
       "                      'year_died': 1162}),\n",
       "                    ('Hobbes, Thomas',\n",
       "                     {'Nationality': 'English',\n",
       "                      'Western?': True,\n",
       "                      'time_period': 'reason',\n",
       "                      'year_born': 1588,\n",
       "                      'year_died': 1679}),\n",
       "                    ('Descartes, Rene',\n",
       "                     {'Nationality': 'French',\n",
       "                      'Western?': True,\n",
       "                      'time_period': 'reason',\n",
       "                      'year_born': 1596,\n",
       "                      'year_died': 1650}),\n",
       "                    ('Pascal, Blaise',\n",
       "                     {'Nationality': 'French',\n",
       "                      'Western?': True,\n",
       "                      'time_period': 'reason',\n",
       "                      'year_born': 1623,\n",
       "                      'year_died': 1662}),\n",
       "                    ('Spinoza, Baruch (Benedict)',\n",
       "                     {'Nationality': 'Dutch-Jewish',\n",
       "                      'Western?': True,\n",
       "                      'time_period': 'reason',\n",
       "                      'year_born': 1623,\n",
       "                      'year_died': 1677}),\n",
       "                    ('Locke, John',\n",
       "                     {'Nationality': 'English',\n",
       "                      'Western?': True,\n",
       "                      'time_period': 'reason',\n",
       "                      'year_born': 1632,\n",
       "                      'year_died': 1704}),\n",
       "                    ('Malebranche, Nicolas',\n",
       "                     {'Nationality': 'French',\n",
       "                      'Western?': True,\n",
       "                      'time_period': 'reason',\n",
       "                      'year_born': 1638,\n",
       "                      'year_died': 1715}),\n",
       "                    ('Leibniz, Gottfried Wilhelm',\n",
       "                     {'Nationality': 'German',\n",
       "                      'Western?': True,\n",
       "                      'time_period': 'reason',\n",
       "                      'year_born': 1646,\n",
       "                      'year_died': 1716}),\n",
       "                    ('Berkeley, Bishop George',\n",
       "                     {'Nationality': 'Irish',\n",
       "                      'Western?': True,\n",
       "                      'time_period': 'enlightenment',\n",
       "                      'year_born': 1685,\n",
       "                      'year_died': 1753}),\n",
       "                    ('Voltaire (Francois Marie Arouet)',\n",
       "                     {'Nationality': 'French',\n",
       "                      'Western?': True,\n",
       "                      'time_period': 'enlightenment',\n",
       "                      'year_born': nan,\n",
       "                      'year_died': nan}),\n",
       "                    ('Hume, David',\n",
       "                     {'Nationality': 'Scottish',\n",
       "                      'Western?': True,\n",
       "                      'time_period': 'enlightenment',\n",
       "                      'year_born': 1711,\n",
       "                      'year_died': 1776}),\n",
       "                    ('Rousseau, Jean-Jacques',\n",
       "                     {'Nationality': 'Swiss-French',\n",
       "                      'Western?': True,\n",
       "                      'time_period': 'enlightenment',\n",
       "                      'year_born': 1712,\n",
       "                      'year_died': 1778}),\n",
       "                    ('Smith, Adam',\n",
       "                     {'Nationality': 'Scottish',\n",
       "                      'Western?': True,\n",
       "                      'time_period': 'enlightenment',\n",
       "                      'year_born': 1723,\n",
       "                      'year_died': 1790}),\n",
       "                    ('Kant, Immanuel',\n",
       "                     {'Nationality': 'German',\n",
       "                      'Western?': True,\n",
       "                      'time_period': 'enlightenment',\n",
       "                      'year_born': 1724,\n",
       "                      'year_died': 1804}),\n",
       "                    ('Burke, Edmund',\n",
       "                     {'Nationality': 'Irish',\n",
       "                      'Western?': True,\n",
       "                      'time_period': 'enlightenment',\n",
       "                      'year_born': 1729,\n",
       "                      'year_died': 1797}),\n",
       "                    ('Bentham, Jeremy',\n",
       "                     {'Nationality': 'English',\n",
       "                      'Western?': True,\n",
       "                      'time_period': 'modern',\n",
       "                      'year_born': 1748,\n",
       "                      'year_died': 1832}),\n",
       "                    ('Fichte, Johann Gottlieb',\n",
       "                     {'Nationality': 'German',\n",
       "                      'Western?': True,\n",
       "                      'time_period': 'modern',\n",
       "                      'year_born': 1762,\n",
       "                      'year_died': 1814}),\n",
       "                    ('Hegel, G.W.F.',\n",
       "                     {'Nationality': 'German',\n",
       "                      'Western?': True,\n",
       "                      'time_period': 'modern',\n",
       "                      'year_born': 1770,\n",
       "                      'year_died': 1831}),\n",
       "                    ('Friedrich Schelling',\n",
       "                     {'Nationality': 'German',\n",
       "                      'Western?': True,\n",
       "                      'time_period': 'modern',\n",
       "                      'year_born': 1775,\n",
       "                      'year_died': 1854}),\n",
       "                    ('Schopenhauer, Arthur',\n",
       "                     {'Nationality': 'German',\n",
       "                      'Western?': True,\n",
       "                      'time_period': 'modern',\n",
       "                      'year_born': 1788,\n",
       "                      'year_died': 1860}),\n",
       "                    ('Comte, Auguste',\n",
       "                     {'Nationality': 'French',\n",
       "                      'Western?': True,\n",
       "                      'time_period': 'modern',\n",
       "                      'year_born': 1798,\n",
       "                      'year_died': 1857}),\n",
       "                    ('Emerson, Ralph Waldo',\n",
       "                     {'Nationality': 'American',\n",
       "                      'Western?': True,\n",
       "                      'time_period': 'modern',\n",
       "                      'year_born': 1803,\n",
       "                      'year_died': 1882}),\n",
       "                    ('Mill, John Stuart',\n",
       "                     {'Nationality': 'English',\n",
       "                      'Western?': True,\n",
       "                      'time_period': 'modern',\n",
       "                      'year_born': 1806,\n",
       "                      'year_died': 1873}),\n",
       "                    ('Kierkegaard, Soren',\n",
       "                     {'Nationality': 'Danish',\n",
       "                      'Western?': True,\n",
       "                      'time_period': 'modern',\n",
       "                      'year_born': 1813,\n",
       "                      'year_died': 1855}),\n",
       "                    ('Thoreau, Henry David',\n",
       "                     {'Nationality': 'American',\n",
       "                      'Western?': True,\n",
       "                      'time_period': 'modern',\n",
       "                      'year_born': 1817,\n",
       "                      'year_died': 1862}),\n",
       "                    ('Marx, Karl',\n",
       "                     {'Nationality': 'German',\n",
       "                      'Western?': True,\n",
       "                      'time_period': 'modern',\n",
       "                      'year_born': 1818,\n",
       "                      'year_died': 1883}),\n",
       "                    ('Peirce, Charles Sanders',\n",
       "                     {'Nationality': 'American',\n",
       "                      'Western?': True,\n",
       "                      'time_period': 'modern',\n",
       "                      'year_born': 1839,\n",
       "                      'year_died': 1914}),\n",
       "                    ('James, William',\n",
       "                     {'Nationality': 'American',\n",
       "                      'Western?': True,\n",
       "                      'time_period': 'modern',\n",
       "                      'year_born': 1842,\n",
       "                      'year_died': 1910}),\n",
       "                    ('Nietzsche, Friedrich',\n",
       "                     {'Nationality': 'German',\n",
       "                      'Western?': True,\n",
       "                      'time_period': 'modern',\n",
       "                      'year_born': 1844,\n",
       "                      'year_died': 1900}),\n",
       "                    ('Frege, Gottlob',\n",
       "                     {'Nationality': 'German',\n",
       "                      'Western?': True,\n",
       "                      'time_period': 'modern',\n",
       "                      'year_born': 1848,\n",
       "                      'year_died': 1925}),\n",
       "                    ('Dewey, John',\n",
       "                     {'Nationality': 'American',\n",
       "                      'Western?': True,\n",
       "                      'time_period': 'modern',\n",
       "                      'year_born': 1859,\n",
       "                      'year_died': 1952}),\n",
       "                    ('Husserl, Edmund',\n",
       "                     {'Nationality': 'German',\n",
       "                      'Western?': True,\n",
       "                      'time_period': 'modern',\n",
       "                      'year_born': 1859,\n",
       "                      'year_died': 1938}),\n",
       "                    ('Whitehead, Alfred North',\n",
       "                     {'Nationality': 'English',\n",
       "                      'Western?': True,\n",
       "                      'time_period': 'modern',\n",
       "                      'year_born': 1861,\n",
       "                      'year_died': 1947}),\n",
       "                    ('Russell, Bertrand',\n",
       "                     {'Nationality': 'English',\n",
       "                      'Western?': True,\n",
       "                      'time_period': 'modern',\n",
       "                      'year_born': 3187,\n",
       "                      'year_died': 2197}),\n",
       "                    ('Moore, George Edward',\n",
       "                     {'Nationality': 'English',\n",
       "                      'Western?': True,\n",
       "                      'time_period': 'modern',\n",
       "                      'year_born': 1873,\n",
       "                      'year_died': 1958}),\n",
       "                    ('Wittgenstein, Ludwig',\n",
       "                     {'Nationality': 'Austrian',\n",
       "                      'Western?': True,\n",
       "                      'time_period': 'modern',\n",
       "                      'year_born': 1889,\n",
       "                      'year_died': 1951}),\n",
       "                    ('Heidegger, Martin',\n",
       "                     {'Nationality': 'German',\n",
       "                      'Western?': True,\n",
       "                      'time_period': 'modern',\n",
       "                      'year_born': 1889,\n",
       "                      'year_died': 1976}),\n",
       "                    ('Ryle, Gilbert',\n",
       "                     {'Nationality': 'English',\n",
       "                      'Western?': True,\n",
       "                      'time_period': 'modern',\n",
       "                      'year_born': 1900,\n",
       "                      'year_died': 1976}),\n",
       "                    ('Sartre, Jean-Paul',\n",
       "                     {'Nationality': 'French',\n",
       "                      'Western?': True,\n",
       "                      'time_period': 'modern',\n",
       "                      'year_born': 1905,\n",
       "                      'year_died': 1980}),\n",
       "                    ('Quine, Willard Van Orman',\n",
       "                     {'Nationality': 'American',\n",
       "                      'Western?': True,\n",
       "                      'time_period': 'modern',\n",
       "                      'year_born': 1908,\n",
       "                      'year_died': 2000}),\n",
       "                    ('Ayer, Alfred',\n",
       "                     {'Nationality': 'English',\n",
       "                      'Western?': True,\n",
       "                      'time_period': 'modern',\n",
       "                      'year_born': 1910,\n",
       "                      'year_died': 1989}),\n",
       "                    ('Foucault, Michel',\n",
       "                     {'Nationality': 'French',\n",
       "                      'Western?': True,\n",
       "                      'time_period': 'modern',\n",
       "                      'year_born': 1926,\n",
       "                      'year_died': 1984}),\n",
       "                    ('Derrida, Jacques',\n",
       "                     {'Nationality': 'French',\n",
       "                      'Western?': True,\n",
       "                      'time_period': 'modern',\n",
       "                      'year_born': 1930,\n",
       "                      'year_died': 2004})])"
      ]
     },
     "execution_count": 66,
     "metadata": {},
     "output_type": "execute_result"
    }
   ],
   "source": [
    "find_nationality(western)"
   ]
  },
  {
   "cell_type": "code",
   "execution_count": 84,
   "metadata": {
    "collapsed": true
   },
   "outputs": [],
   "source": [
    "def standardize_names(d):\n",
    "    new_d = DefaultOrderedDict(dict)\n",
    "    for key, value in d.iteritems():\n",
    "        components = re.split(r',', key)\n",
    "        new_key = ' '.join(x for x in components[::-1])\n",
    "        print components\n",
    "        print new_key\n",
    "        \n",
    "        new_d[new_key.strip()] = value\n",
    "    \n",
    "    return new_d"
   ]
  },
  {
   "cell_type": "code",
   "execution_count": 85,
   "metadata": {
    "collapsed": false
   },
   "outputs": [
    {
     "name": "stdout",
     "output_type": "stream",
     "text": [
      "['Thales']\n",
      "Thales\n",
      "['Anaximander']\n",
      "Anaximander\n",
      "['Anaximenes']\n",
      "Anaximenes\n",
      "['Pythagoras']\n",
      "Pythagoras\n",
      "['Heraclitus']\n",
      "Heraclitus\n",
      "['Parmenides']\n",
      "Parmenides\n",
      "['Anaxagoras']\n",
      "Anaxagoras\n",
      "['Empedocles']\n",
      "Empedocles\n",
      "['Zeno_Elea']\n",
      "Zeno_Elea\n",
      "['Protagoras']\n",
      "Protagoras\n",
      "['Gorgias']\n",
      "Gorgias\n",
      "['Democritus']\n",
      "Democritus\n",
      "['Socrates']\n",
      "Socrates\n",
      "['Plato']\n",
      "Plato\n",
      "['Diogenes']\n",
      "Diogenes\n",
      "['Aristotle']\n",
      "Aristotle\n",
      "['Pyrrho']\n",
      "Pyrrho\n",
      "['Epicurus']\n",
      "Epicurus\n",
      "['Zeno']\n",
      "Zeno\n",
      "['Philo']\n",
      "Philo\n",
      "['Plotinus']\n",
      "Plotinus\n",
      "['Cicero']\n",
      "Cicero\n",
      "['Epictetus']\n",
      "Epictetus\n",
      "['Marcus Aurelius']\n",
      "Marcus Aurelius\n",
      "['Augustine']\n",
      "Augustine\n",
      "['Boethius']\n",
      "Boethius\n",
      "['Avicenna (Ibn Sina)']\n",
      "Avicenna (Ibn Sina)\n",
      "['St. Anselm']\n",
      "St. Anselm\n",
      "['Peter Abelard']\n",
      "Peter Abelard\n",
      "['Averroes (Ibn Rushd)']\n",
      "Averroes (Ibn Rushd)\n",
      "['Maimonides']\n",
      "Maimonides\n",
      "['Albertus Magnus']\n",
      "Albertus Magnus\n",
      "['Roger Bacon']\n",
      "Roger Bacon\n",
      "['St. Thomas Aquinas']\n",
      "St. Thomas Aquinas\n",
      "['John Duns Scotus']\n",
      "John Duns Scotus\n",
      "['William of Ockham (Occam)']\n",
      "William of Ockham (Occam)\n",
      "['Erasmus']\n",
      "Erasmus\n",
      "['Machiavelli']\n",
      "Machiavelli\n",
      "['More']\n",
      "More\n",
      "['Sir_Francis_Bacon']\n",
      "Sir_Francis_Bacon\n",
      "['Thomas Hobbes']\n",
      "Thomas Hobbes\n",
      "['Rene Descartes']\n",
      "Rene Descartes\n",
      "['Blaise Pascal']\n",
      "Blaise Pascal\n",
      "['Baruch (Benedict) Spinoza']\n",
      "Baruch (Benedict) Spinoza\n",
      "['John Locke']\n",
      "John Locke\n",
      "['Nicolas Malebranche']\n",
      "Nicolas Malebranche\n",
      "['Gottfried Wilhelm Leibniz']\n",
      "Gottfried Wilhelm Leibniz\n",
      "['Bishop George Berkeley']\n",
      "Bishop George Berkeley\n",
      "['Voltaire (Francois Marie Arouet)']\n",
      "Voltaire (Francois Marie Arouet)\n",
      "['David Hume']\n",
      "David Hume\n",
      "['Jean-Jacques Rousseau']\n",
      "Jean-Jacques Rousseau\n",
      "['Adam Smith']\n",
      "Adam Smith\n",
      "['Immanuel Kant']\n",
      "Immanuel Kant\n",
      "['Edmund Burke']\n",
      "Edmund Burke\n",
      "['Jeremy Bentham']\n",
      "Jeremy Bentham\n",
      "['Johann Gottlieb Fichte']\n",
      "Johann Gottlieb Fichte\n",
      "['G.W.F. Hegel']\n",
      "G.W.F. Hegel\n",
      "['Friedrich Schelling']\n",
      "Friedrich Schelling\n",
      "['Arthur Schopenhauer']\n",
      "Arthur Schopenhauer\n",
      "['Auguste Comte']\n",
      "Auguste Comte\n",
      "['Ralph Waldo Emerson']\n",
      "Ralph Waldo Emerson\n",
      "['John Stuart Mill']\n",
      "John Stuart Mill\n",
      "['Soren Kierkegaard']\n",
      "Soren Kierkegaard\n",
      "['Henry David Thoreau']\n",
      "Henry David Thoreau\n",
      "['Karl Marx']\n",
      "Karl Marx\n",
      "['Charles Sanders Peirce']\n",
      "Charles Sanders Peirce\n",
      "['William James']\n",
      "William James\n",
      "['Friedrich Nietzsche']\n",
      "Friedrich Nietzsche\n",
      "['Gottlob Frege']\n",
      "Gottlob Frege\n",
      "['John Dewey']\n",
      "John Dewey\n",
      "['Edmund Husserl']\n",
      "Edmund Husserl\n",
      "['Alfred North Whitehead']\n",
      "Alfred North Whitehead\n",
      "['Bertrand Russell']\n",
      "Bertrand Russell\n",
      "['George Edward Moore']\n",
      "George Edward Moore\n",
      "['Ludwig Wittgenstein']\n",
      "Ludwig Wittgenstein\n",
      "['Martin Heidegger']\n",
      "Martin Heidegger\n",
      "['Gilbert Ryle']\n",
      "Gilbert Ryle\n",
      "['Jean-Paul Sartre']\n",
      "Jean-Paul Sartre\n",
      "['Willard Van Orman Quine']\n",
      "Willard Van Orman Quine\n",
      "['Alfred Ayer']\n",
      "Alfred Ayer\n",
      "['Michel Foucault']\n",
      "Michel Foucault\n",
      "['Jacques Derrida']\n",
      "Jacques Derrida\n"
     ]
    }
   ],
   "source": [
    "western = standardize_names(western)"
   ]
  },
  {
   "cell_type": "code",
   "execution_count": null,
   "metadata": {
    "collapsed": false
   },
   "outputs": [],
   "source": []
  },
  {
   "cell_type": "code",
   "execution_count": 99,
   "metadata": {
    "collapsed": false
   },
   "outputs": [
    {
     "data": {
      "text/plain": [
       "('philo.jpg', <httplib.HTTPMessage instance at 0x109873d40>)"
      ]
     },
     "execution_count": 99,
     "metadata": {},
     "output_type": "execute_result"
    }
   ],
   "source": [
    "base_url = 'https://en.wikipedia.org/wiki/'\n",
    "url = 'http://www.philosophybasics.com/photos/philo.jpg'\n",
    "urllib.urlretrieve(url, 'philo.jpg')"
   ]
  },
  {
   "cell_type": "code",
   "execution_count": null,
   "metadata": {
    "collapsed": true
   },
   "outputs": [],
   "source": []
  }
 ],
 "metadata": {
  "anaconda-cloud": {},
  "kernelspec": {
   "display_name": "Python [Root]",
   "language": "python",
   "name": "Python [Root]"
  },
  "language_info": {
   "codemirror_mode": {
    "name": "ipython",
    "version": 2
   },
   "file_extension": ".py",
   "mimetype": "text/x-python",
   "name": "python",
   "nbconvert_exporter": "python",
   "pygments_lexer": "ipython2",
   "version": "2.7.12"
  }
 },
 "nbformat": 4,
 "nbformat_minor": 0
}
