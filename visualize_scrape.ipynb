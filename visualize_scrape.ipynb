{
 "cells": [
  {
   "cell_type": "code",
   "execution_count": 81,
   "metadata": {
    "collapsed": true
   },
   "outputs": [],
   "source": [
    "from requests import get\n",
    "from bs4 import BeautifulSoup\n",
    "from unidecode import unidecode\n",
    "from collections import defaultdict\n",
    "import re\n",
    "import string"
   ]
  },
  {
   "cell_type": "code",
   "execution_count": 82,
   "metadata": {
    "collapsed": false
   },
   "outputs": [],
   "source": [
    "r = get('http://www.philosophybasics.com/philosophers_anaximander.html')\n",
    "r2 = get('http://www.philosophybasics.com/philosophers_thales.html')\n",
    "soup = BeautifulSoup(r.content, 'html.parser')\n",
    "soup2 = BeautifulSoup(r2.content, 'html.parser')"
   ]
  },
  {
   "cell_type": "code",
   "execution_count": 83,
   "metadata": {
    "collapsed": false
   },
   "outputs": [],
   "source": [
    "content = soup.select('p b')\n",
    "content2 = soup2.select('p b')"
   ]
  },
  {
   "cell_type": "code",
   "execution_count": 84,
   "metadata": {
    "collapsed": false
   },
   "outputs": [
    {
     "data": {
      "text/plain": [
       "[<b>Thales of Miletus</b>,\n",
       " <b>Greek</b>,\n",
       " <b>Miletus</b>,\n",
       " <b>Ionia</b>,\n",
       " <b>Seven Sages of Greece</b>,\n",
       " <b>first philosopher</b>,\n",
       " <b>founder</b>,\n",
       " <b>teacher</b>,\n",
       " <b>substance</b>,\n",
       " <b>material objects</b>,\n",
       " <b>water</b>,\n",
       " <b>universality</b>,\n",
       " <b>\"first scientist\".</b>,\n",
       " <b>Miletus</b>,\n",
       " <b>Diogenes La\\xebrtius</b>,\n",
       " <b>Examyas</b>,\n",
       " <b>Cleobulina</b>,\n",
       " <b>Thelidae</b>,\n",
       " <b>Agenor</b>,\n",
       " <b>Cadmus</b>,\n",
       " <b>Thebes</b>,\n",
       " <b>Phoenician</b>,\n",
       " <b>sketchy</b>,\n",
       " <b>contradictory</b>,\n",
       " <b>married</b>,\n",
       " <b>Cybisthus</b>,\n",
       " <b>Cybisthon</b>,\n",
       " <b>never married</b>,\n",
       " <b>no writings</b>,\n",
       " <b><i>\"On the Solstice\"</i></b>,\n",
       " <b><i>\"On the Equinox\"</i></b>,\n",
       " <b>business</b>,\n",
       " <b>politics</b>,\n",
       " <b>olive presses</b>,\n",
       " <b>good harvest</b>,\n",
       " <b>demonstrate</b>,\n",
       " <b>could</b>,\n",
       " <b>local politics</b>,\n",
       " <b>Lydians</b>,\n",
       " <b>Medes</b>,\n",
       " <b>Persians</b>,\n",
       " <b>predicted</b>,\n",
       " <b>eclipse</b>,\n",
       " <b>negotiations</b>,\n",
       " <b>favourable terms</b>,\n",
       " <b>died</b>,\n",
       " <b>history</b>,\n",
       " <b>legend</b>,\n",
       " <b>Seven Sages</b>,\n",
       " <b>Seven Wise Men</b>,\n",
       " <b>wisdom</b>,\n",
       " <b>\"Know thyself\"</b>,\n",
       " <b>distorted</b>,\n",
       " <b>no writings</b>,\n",
       " <b><i>\"On the Solstice\"</i></b>,\n",
       " <b><i>\"On the Equinox\"</i></b>,\n",
       " <b>very first</b>,\n",
       " <b>substance</b>,\n",
       " <b>material objects</b>,\n",
       " <b>modern scientists</b>,\n",
       " <b>first scientist</b>,\n",
       " <b>\"physis\"</b>,\n",
       " <b>characteristic way</b>,\n",
       " <b>naturalistic</b>,\n",
       " <b>supernatural</b>,\n",
       " <b>mythological</b>,\n",
       " <b>anthropomorphic</b>,\n",
       " <b>earthquakes</b>,\n",
       " <b>water</b>,\n",
       " <b>waves</b>,\n",
       " <b>cosmological doctrine</b>,\n",
       " <b>first principle</b>,\n",
       " <b>air</b>,\n",
       " <b>origin</b>,\n",
       " <b>emerge</b>,\n",
       " <b>return</b>,\n",
       " <b>are</b>,\n",
       " <b>moist substances</b>,\n",
       " <b>Earth</b>,\n",
       " <b>solidifying</b>,\n",
       " <b>floated</b>,\n",
       " <b>magnetism</b>,\n",
       " <b>static electricity</b>,\n",
       " <b>power to move</b>,\n",
       " <b>\"life\"</b>,\n",
       " <b>animation</b>,\n",
       " <b>power to act</b>,\n",
       " <b>no difference</b>,\n",
       " <b>living</b>,\n",
       " <b>dead</b>,\n",
       " <b>souls</b>,\n",
       " <b>mind</b>,\n",
       " <b>substance</b>,\n",
       " <b>non-divine principle of action</b>,\n",
       " <b>transcendental God</b>,\n",
       " <b>justice</b>,\n",
       " <b>letter of the law</b>,\n",
       " <b>spirit of the law</b>,\n",
       " <b>equally bad</b>,\n",
       " <b>moral advice</b>,\n",
       " <b>children</b>,\n",
       " <b>parents</b>,\n",
       " <b>talk</b>,\n",
       " <b>trust</b>,\n",
       " <b>ourselves</b>,\n",
       " <b>blame others</b>,\n",
       " <b>happy</b>,\n",
       " <b>healthy</b>,\n",
       " <b>resourceful</b>,\n",
       " <b>teachable</b>,\n",
       " <b>political views</b>,\n",
       " <b>benign tyranny</b>,\n",
       " <b>geometry</b>,\n",
       " <b>triangles</b>,\n",
       " <b>Thales' Theorem</b>,\n",
       " <b>within a circle</b>,\n",
       " <b>diameter</b>,\n",
       " <b>opposite angle</b>,\n",
       " <b>right angle</b>,\n",
       " <b>astronomy</b>,\n",
       " <b>path of the sun</b>,\n",
       " <b>solar eclipse</b>,\n",
       " <b>seasons</b>,\n",
       " <b>365-day year</b>,\n",
       " <b>questioning approach</b>,\n",
       " <b>Greek astronomy</b>]"
      ]
     },
     "execution_count": 84,
     "metadata": {},
     "output_type": "execute_result"
    }
   ],
   "source": [
    "content\n",
    "content2"
   ]
  },
  {
   "cell_type": "code",
   "execution_count": 85,
   "metadata": {
    "collapsed": false
   },
   "outputs": [
    {
     "name": "stdout",
     "output_type": "stream",
     "text": [
      "Anaximander\n",
      "Thales of Miletus\n"
     ]
    }
   ],
   "source": [
    "print content[0].string\n",
    "print content2[0].string"
   ]
  },
  {
   "cell_type": "code",
   "execution_count": 86,
   "metadata": {
    "collapsed": false
   },
   "outputs": [],
   "source": [
    "def add_philosopher(url, name, phil_dict, time_period, birth='BC', death='BC', western=True):\n",
    "    r = get(url)\n",
    "    soup = BeautifulSoup(r.content, 'html.parser')\n",
    "\n",
    "    # Unidecode first paragraph\n",
    "    par = unidecode(soup.select('p')[0].get_text())\n",
    "    sentences = par.split('.')\n",
    "    \n",
    "    # Calculate lifespan of philosopher\n",
    "    all=string.maketrans('','')\n",
    "    nodigs=all.translate(all, string.digits)\n",
    "    \n",
    "    # Check for sentence that contains years person lived\n",
    "    for sentence in sentences:\n",
    "        lifespan = sentence.translate(all, nodigs)\n",
    "        if len(lifespan) > 2:\n",
    "            break\n",
    "            \n",
    "    # Check if there were extra numbers in the sentence\n",
    "    if len(lifespan) > 8:\n",
    "        lifespan = lifespan[:8]\n",
    "        \n",
    "    # Set Philosopher information (Make year negative if BC)\n",
    "    middle = len(lifespan) / 2\n",
    "    try:\n",
    "        phil_dict[name]['year_born'] = -1 * int(lifespan[:middle]) if birth == 'BC' else int(lifespan[:middle])\n",
    "        phil_dict[name]['year_died'] = -1 * int(lifespan[middle:]) if death == 'BC' else int(lifespan[middle:])\n",
    "        \n",
    "    # Fill in with null values if can't be read in\n",
    "    except ValueError:\n",
    "        phil_dict[name]['year_born'] = float('NaN')\n",
    "        phil_dict[name]['year_died'] = float('NaN')\n",
    "        \n",
    "    phil_dict[name]['time_period'] = time_period\n",
    "    phil_dict[name]['Western?'] = western\n",
    "    \n",
    "    return phil_dict"
   ]
  },
  {
   "cell_type": "code",
   "execution_count": 87,
   "metadata": {
    "collapsed": false
   },
   "outputs": [],
   "source": [
    "# Obtain Name, birth year, and death year for philosophers of given time period\n",
    "def ancient_time_period(time_period):\n",
    "    # Make Request to page of specific time period\n",
    "    r = get('http://www.philosophybasics.com/historical_' + time_period + '.html')\n",
    "    soup = BeautifulSoup(r.content, 'html.parser')\n",
    "    \n",
    "    # Get names of each philosopher from specified time period\n",
    "    philosophers = soup.select('a')\n",
    "    if time_period == 'presocratic':\n",
    "        min_slice, max_slice = 11, 23\n",
    "        \n",
    "    elif time_period == 'socratic':\n",
    "        min_slice, max_slice = 10, 14\n",
    "    \n",
    "    elif time_period == 'hellenistic':\n",
    "        min_slice, max_slice = 10, 15\n",
    "    \n",
    "    else: # time_period == 'roman'\n",
    "        min_slice, max_slice = 9, 14 \n",
    "    \n",
    "    philosophers = [unidecode(x.string) for x in philosophers[min_slice:max_slice]]\n",
    "    \n",
    "    # Base url for web pages\n",
    "    base_url = 'http://www.philosophybasics.com/philosophers_'\n",
    "    phil_dict = defaultdict(dict)\n",
    "    \n",
    "    # Determine url to get request from\n",
    "    if time_period == 'presocratic':\n",
    "        for name in philosophers:\n",
    "                \n",
    "            if name == 'Zeno of Elea':\n",
    "                name = 'Zeno_Elea'\n",
    "                \n",
    "            else:\n",
    "                # Split name into needed part only\n",
    "                name = name.split()[0]\n",
    "                \n",
    "            \n",
    "            url = base_url + name.lower() + '.html'\n",
    "            \n",
    "            phil_dict = add_philosopher(url, name, phil_dict, time_period)\n",
    "                \n",
    "    elif time_period == 'socratic':\n",
    "        for name in philosophers:\n",
    "            name = name.split()[0]\n",
    "                \n",
    "            url = base_url + name.lower() + '.html'\n",
    "                \n",
    "                \n",
    "            phil_dict = add_philosopher(url, name, phil_dict, time_period)\n",
    "    \n",
    "    elif time_period == 'hellenistic':\n",
    "        for name in philosophers:\n",
    "            if name == 'Zeno of Citium':\n",
    "                name = 'Zeno'\n",
    "                birth, death = 'BC', 'BC'\n",
    "                url = base_url + 'zeno_citium.html'\n",
    "                \n",
    "            elif name == 'Philo of Alexandria':\n",
    "                name = 'Philo'\n",
    "                birth, death = 'BC', 'AC'\n",
    "                url = base_url + name.lower() + '.html'\n",
    "                \n",
    "            else:\n",
    "                birth, death = 'BC', 'BC'\n",
    "                url = base_url + name.lower() + '.html'\n",
    "            \n",
    "            if name == 'Plotinus':\n",
    "                birth, death = 'AC', 'AC'\n",
    "            \n",
    "            phil_dict = add_philosopher(url, name, phil_dict, time_period, birth=birth, death=death)\n",
    "            \n",
    "    else: # time_period == 'roman'\n",
    "        for name in philosophers:\n",
    "            if name == 'Cicero, Marcus Tullius':\n",
    "                name = 'Cicero'\n",
    "                birth, death = 'BC', 'BC'\n",
    "                url = base_url + name.lower() + '.html'\n",
    "            \n",
    "            elif name == 'St. Augustine of Hippo':\n",
    "                name = 'St_Augustine'\n",
    "                birth, death = 'AD', 'AD'\n",
    "                url = base_url + 'augustine.html'\n",
    "                \n",
    "            else:\n",
    "                name = name.split(r'[, \\. ' ']')[0]\n",
    "                birth, death = 'AD', 'AD'\n",
    "                url = base_url + name.lower() + '.html'\n",
    "            \n",
    "            phil_dict = add_philosopher(url, name, phil_dict, time_period, birth=birth, death=death)\n",
    "        \n",
    "    return dict(phil_dict)"
   ]
  },
  {
   "cell_type": "code",
   "execution_count": 88,
   "metadata": {
    "collapsed": false
   },
   "outputs": [],
   "source": [
    "pre_socratic = ancient_time_period('presocratic')"
   ]
  },
  {
   "cell_type": "code",
   "execution_count": 89,
   "metadata": {
    "collapsed": false
   },
   "outputs": [
    {
     "name": "stdout",
     "output_type": "stream",
     "text": [
      "{'year_died': -450, 'year_born': -515, 'time_period': 'presocratic', 'Western?': True}\n",
      "\n",
      "['Parmenides', 'Empedocles', 'Pythagoras', 'Gorgias', 'Thales', 'Zeno_Elea', 'Anaxagoras', 'Anaximenes', 'Anaximander', 'Heraclitus', 'Protagoras', 'Democritus']\n"
     ]
    }
   ],
   "source": [
    "print pre_socratic['Parmenides']\n",
    "print '\\n', pre_socratic.keys()"
   ]
  },
  {
   "cell_type": "code",
   "execution_count": 90,
   "metadata": {
    "collapsed": false
   },
   "outputs": [],
   "source": [
    "socratic = ancient_time_period('socratic')"
   ]
  },
  {
   "cell_type": "code",
   "execution_count": 91,
   "metadata": {
    "collapsed": false
   },
   "outputs": [
    {
     "name": "stdout",
     "output_type": "stream",
     "text": [
      "{'year_died': -399, 'year_born': -469, 'time_period': 'socratic', 'Western?': True}\n",
      "\n",
      "['Socrates', 'Plato', 'Diogenes', 'Aristotle']\n"
     ]
    }
   ],
   "source": [
    "print socratic['Socrates']\n",
    "print '\\n', socratic.keys()"
   ]
  },
  {
   "cell_type": "code",
   "execution_count": 92,
   "metadata": {
    "collapsed": false
   },
   "outputs": [],
   "source": [
    "hellenistic = ancient_time_period('hellenistic')"
   ]
  },
  {
   "cell_type": "code",
   "execution_count": 93,
   "metadata": {
    "collapsed": false
   },
   "outputs": [
    {
     "name": "stdout",
     "output_type": "stream",
     "text": [
      "{'year_died': -270, 'year_born': -360, 'time_period': 'hellenistic', 'Western?': True}\n",
      "\n",
      "['Pyrrho', 'Plotinus', 'Epicurus', 'Zeno', 'Philo']\n"
     ]
    }
   ],
   "source": [
    "print hellenistic['Pyrrho']\n",
    "print '\\n', hellenistic.keys()"
   ]
  },
  {
   "cell_type": "code",
   "execution_count": 94,
   "metadata": {
    "collapsed": false
   },
   "outputs": [],
   "source": [
    "roman = ancient_time_period('roman')"
   ]
  },
  {
   "cell_type": "code",
   "execution_count": 95,
   "metadata": {
    "collapsed": false
   },
   "outputs": [
    {
     "name": "stdout",
     "output_type": "stream",
     "text": [
      "{'year_died': 135, 'year_born': 55, 'time_period': 'roman', 'Western?': True}\n",
      "\n",
      "['Marcus Aurelius', 'Cicero', 'Boethius', 'St_Augustine', 'Epictetus']\n"
     ]
    }
   ],
   "source": [
    "print roman['Epictetus']\n",
    "print '\\n', roman.keys()"
   ]
  },
  {
   "cell_type": "code",
   "execution_count": 96,
   "metadata": {
    "collapsed": false
   },
   "outputs": [],
   "source": [
    "def ancient_philosophers():\n",
    "    pre_socratic = ancient_time_period('presocratic')\n",
    "    socratic = ancient_time_period('socratic')\n",
    "    hellenistic = ancient_time_period('hellenistic')\n",
    "    roman = ancient_time_period('roman')\n",
    "    \n",
    "    ancient = pre_socratic\n",
    "    ancient.update(socratic)\n",
    "    ancient.update(hellenistic)\n",
    "    ancient.update(roman)\n",
    "    \n",
    "    return ancient"
   ]
  },
  {
   "cell_type": "code",
   "execution_count": 97,
   "metadata": {
    "collapsed": false
   },
   "outputs": [],
   "source": [
    "ancient = ancient_philosophers()"
   ]
  },
  {
   "cell_type": "code",
   "execution_count": 98,
   "metadata": {
    "collapsed": false
   },
   "outputs": [
    {
     "name": "stdout",
     "output_type": "stream",
     "text": [
      "{'year_died': -322, 'year_born': -384, 'time_period': 'socratic', 'Western?': True}\n",
      "\n",
      "['Empedocles', 'Boethius', 'Diogenes', 'Philo', 'Thales', 'Cicero', 'Epictetus', 'Anaxagoras', 'Socrates', 'Marcus Aurelius', 'Anaximander', 'Heraclitus', 'Plotinus', 'Protagoras', 'St_Augustine', 'Parmenides', 'Pythagoras', 'Zeno', 'Gorgias', 'Plato', 'Zeno_Elea', 'Democritus', 'Pyrrho', 'Anaximenes', 'Aristotle', 'Epicurus']\n"
     ]
    }
   ],
   "source": [
    "print ancient['Aristotle']\n",
    "print '\\n', ancient.keys()"
   ]
  },
  {
   "cell_type": "code",
   "execution_count": 99,
   "metadata": {
    "collapsed": false
   },
   "outputs": [],
   "source": [
    "def medieval_time_period(time_period):\n",
    "    # Make Request to page of specific time period\n",
    "    r = get('http://www.philosophybasics.com/historical_' + time_period + '.html')\n",
    "    soup = BeautifulSoup(r.content, 'html.parser')\n",
    "    \n",
    "    # Get names of each philosopher from specified time period\n",
    "    philosophers = soup.select('a')\n",
    "    \n",
    "    if time_period == 'medieval':\n",
    "        min_slice, max_slice = 8, 18\n",
    "\n",
    "    else: # time_period == 'renaissance'\n",
    "        min_slice, max_slice = 12, 16\n",
    "        \n",
    "    philosophers = [unidecode(x.string) for x in philosophers[min_slice:max_slice]]\n",
    "    \n",
    "    base_url = 'http://www.philosophybasics.com/philosophers_'\n",
    "    phil_dict = defaultdict(dict)\n",
    "    \n",
    "    if time_period == 'medieval':\n",
    "        \n",
    "        for name in philosophers:\n",
    "            \n",
    "            if name == 'Bacon, Roger':\n",
    "                name = 'Roger_Bacon'\n",
    "                url = base_url + 'bacon_roger.html'\n",
    "            \n",
    "            else:\n",
    "                name = name.split(r'[, ' ']')[0]\n",
    "                url = base_url + name.lower() + '.html'\n",
    "                \n",
    "            birth, death = 'AD', 'AD'\n",
    "            \n",
    "            phil_dict = add_philosopher(url, name, phil_dict, time_period, birth=birth, death=death)\n",
    "        \n",
    "    else: # time_period == 'Renaissance'\n",
    "        \n",
    "        for name in philosophers:\n",
    "            \n",
    "            if name == 'Bacon, Sir Francis':\n",
    "                name = 'Sir_Francis_Bacon'\n",
    "                url = base_url + 'bacon_francis.html'\n",
    "            \n",
    "            else:\n",
    "                name = name.split(',')[0]\n",
    "                url = base_url + name.lower() + '.html'\n",
    "            \n",
    "            birth, death = 'AD', 'AD'\n",
    "            \n",
    "            phil_dict = add_philosopher(url, name, phil_dict, time_period, birth=birth, death=death)\n",
    "    \n",
    "    return dict(phil_dict)"
   ]
  },
  {
   "cell_type": "code",
   "execution_count": 100,
   "metadata": {
    "collapsed": false
   },
   "outputs": [],
   "source": [
    "medieval_time = medieval_time_period('medieval')"
   ]
  },
  {
   "cell_type": "code",
   "execution_count": 101,
   "metadata": {
    "collapsed": false
   },
   "outputs": [
    {
     "name": "stdout",
     "output_type": "stream",
     "text": [
      "{'year_died': 1294, 'year_born': 1214, 'time_period': 'medieval', 'Western?': True}\n",
      "\n",
      "['Aquinas, St. Thomas', 'Roger_Bacon', 'Avicenna (Ibn Sina)', 'Scotus, John Duns', 'Abelard, Peter', 'Anselm, St.', 'Averroes (Ibn Rushd)', 'Ockham (Occam), William of', 'Albertus Magnus', 'Maimonides']\n"
     ]
    }
   ],
   "source": [
    "print medieval_time['Roger_Bacon']\n",
    "print '\\n', medieval_time.keys()"
   ]
  },
  {
   "cell_type": "code",
   "execution_count": 102,
   "metadata": {
    "collapsed": false
   },
   "outputs": [],
   "source": [
    "renaissance = medieval_time_period('renaissance')"
   ]
  },
  {
   "cell_type": "code",
   "execution_count": 103,
   "metadata": {
    "collapsed": false
   },
   "outputs": [
    {
     "name": "stdout",
     "output_type": "stream",
     "text": [
      "{'year_died': 1527, 'year_born': 1469, 'time_period': 'renaissance', 'Western?': True}\n",
      "\n",
      "['Erasmus', 'Machiavelli', 'Sir_Francis_Bacon', 'More']\n"
     ]
    }
   ],
   "source": [
    "print renaissance['Machiavelli']\n",
    "print '\\n', renaissance.keys()"
   ]
  },
  {
   "cell_type": "code",
   "execution_count": 104,
   "metadata": {
    "collapsed": false
   },
   "outputs": [],
   "source": [
    "def medieval_philosophers():\n",
    "    medieval = medieval_time_period('medieval')\n",
    "    renaissance = medieval_time_period('renaissance')\n",
    "    \n",
    "    medieval = medieval\n",
    "    medieval.update(renaissance)\n",
    "    \n",
    "    return medieval"
   ]
  },
  {
   "cell_type": "code",
   "execution_count": 105,
   "metadata": {
    "collapsed": false
   },
   "outputs": [],
   "source": [
    "medieval = medieval_philosophers()"
   ]
  },
  {
   "cell_type": "code",
   "execution_count": 106,
   "metadata": {
    "collapsed": false
   },
   "outputs": [
    {
     "name": "stdout",
     "output_type": "stream",
     "text": [
      "{'year_died': 1536, 'year_born': 1466, 'time_period': 'renaissance', 'Western?': True}\n",
      "\n",
      "['Aquinas, St. Thomas', 'Sir_Francis_Bacon', 'Roger_Bacon', 'Avicenna (Ibn Sina)', 'Scotus, John Duns', 'Machiavelli', 'Abelard, Peter', 'Erasmus', 'Anselm, St.', 'Averroes (Ibn Rushd)', 'Ockham (Occam), William of', 'Albertus Magnus', 'Maimonides', 'More']\n"
     ]
    }
   ],
   "source": [
    "print medieval['Erasmus']\n",
    "print '\\n', medieval.keys()"
   ]
  },
  {
   "cell_type": "code",
   "execution_count": 107,
   "metadata": {
    "collapsed": true
   },
   "outputs": [],
   "source": [
    "def modern_time_period(time_period):\n",
    "    # Make Request to page of specific time period\n",
    "    r = get('http://www.philosophybasics.com/historical_' + time_period + '.html')\n",
    "    soup = BeautifulSoup(r.content, 'html.parser')\n",
    "    \n",
    "    # Get names of each philosopher from specified time period\n",
    "    philosophers = soup.select('a')\n",
    "    \n",
    "    if time_period == 'reason' or time_period == 'enlightenment':\n",
    "        min_slice, max_slice = 9, 16\n",
    "\n",
    "    else: # time_period == 'modern'\n",
    "        min_slice, max_slice = 8, 36\n",
    "        \n",
    "    philosophers = [unidecode(x.string) for x in philosophers[min_slice:max_slice]]\n",
    "    \n",
    "    base_url = 'http://www.philosophybasics.com/philosophers_'\n",
    "    phil_dict = defaultdict(dict)\n",
    "    \n",
    "    if time_period == 'reason':\n",
    "        for name in philosophers:\n",
    "            \n",
    "            name = name.split(',')[0]\n",
    "            \n",
    "            url = base_url + name.lower() + '.html'\n",
    "            birth, death = 'AD', 'AD'\n",
    "            \n",
    "            phil_dict = add_philosopher(url, name, phil_dict, time_period, birth=birth, death=death)\n",
    "    \n",
    "    elif time_period == 'enlightenment':\n",
    "        for  name in philosophers:\n",
    "            \n",
    "            name = name.split(',')[0]\n",
    "            \n",
    "            url = base_url + name.lower() + '.html'\n",
    "            birth, death = 'AD', 'AD'\n",
    "            \n",
    "            phil_dict = add_philosopher(url, name, phil_dict, time_period, birth=birth, death=death)\n",
    "            \n",
    "    else: # time_period == 'modern'\n",
    "        for name in philosophers:\n",
    "            \n",
    "            if name == 'Friedrich Schelling':\n",
    "                name = 'Schelling'\n",
    "            \n",
    "            else:\n",
    "                name = name.split(',')[0]\n",
    "            \n",
    "            url = base_url + name.lower() + '.html'\n",
    "            birth, death = 'AD', 'AD'\n",
    "            \n",
    "            phil_dict = add_philosopher(url, name, phil_dict, time_period, birth=birth, death=death)\n",
    "            \n",
    "    return dict(phil_dict)"
   ]
  },
  {
   "cell_type": "code",
   "execution_count": 108,
   "metadata": {
    "collapsed": false
   },
   "outputs": [],
   "source": [
    "reason = modern_time_period('reason')"
   ]
  },
  {
   "cell_type": "code",
   "execution_count": 109,
   "metadata": {
    "collapsed": false
   },
   "outputs": [
    {
     "name": "stdout",
     "output_type": "stream",
     "text": [
      "{'year_died': 1704, 'year_born': 1632, 'time_period': 'reason', 'Western?': True}\n",
      "\n",
      "['Pascal', 'Descartes', 'Hobbes', 'Locke', 'Leibniz', 'Spinoza', 'Malebranche']\n"
     ]
    }
   ],
   "source": [
    "print reason['Locke']\n",
    "print '\\n', reason.keys()"
   ]
  },
  {
   "cell_type": "code",
   "execution_count": 110,
   "metadata": {
    "collapsed": false
   },
   "outputs": [],
   "source": [
    "enlightenment = modern_time_period('enlightenment')"
   ]
  },
  {
   "cell_type": "code",
   "execution_count": 111,
   "metadata": {
    "collapsed": false
   },
   "outputs": [
    {
     "name": "stdout",
     "output_type": "stream",
     "text": [
      "{'year_died': 1790, 'year_born': 1723, 'time_period': 'enlightenment', 'Western?': True}\n",
      "\n",
      "['Berkeley', 'Voltaire (Francois Marie Arouet)', 'Rousseau', 'Smith', 'Kant', 'Burke', 'Hume']\n"
     ]
    }
   ],
   "source": [
    "print enlightenment['Smith']\n",
    "print '\\n', enlightenment.keys()"
   ]
  },
  {
   "cell_type": "code",
   "execution_count": 112,
   "metadata": {
    "collapsed": false
   },
   "outputs": [],
   "source": [
    "modern_time = modern_time_period('modern')"
   ]
  },
  {
   "cell_type": "code",
   "execution_count": 113,
   "metadata": {
    "collapsed": false
   },
   "outputs": [
    {
     "name": "stdout",
     "output_type": "stream",
     "text": [
      "{'year_died': 1900, 'year_born': 1844, 'time_period': 'modern', 'Western?': True}\n",
      "\n",
      "['Whitehead', 'Schopenhauer', 'Kierkegaard', 'Russell', 'Heidegger', 'James', 'Ayer', 'Nietzsche', 'Wittgenstein', 'Derrida', 'Emerson', 'Hegel', 'Sartre', 'Frege', 'Comte', 'Marx', 'Mill', 'Schelling', 'Ryle', 'Moore', 'Fichte', 'Bentham', 'Foucault', 'Husserl', 'Peirce', 'Dewey', 'Quine', 'Thoreau']\n"
     ]
    }
   ],
   "source": [
    "print modern_time['Nietzsche']\n",
    "print '\\n', modern_time.keys()"
   ]
  },
  {
   "cell_type": "code",
   "execution_count": 114,
   "metadata": {
    "collapsed": true
   },
   "outputs": [],
   "source": [
    "def modern_philosophers():\n",
    "    reason = modern_time_period('reason')\n",
    "    enlightenment = modern_time_period('enlightenment')\n",
    "    modern = modern_time_period('modern')\n",
    "    \n",
    "    modern_phil = reason\n",
    "    modern_phil.update(enlightenment)\n",
    "    modern_phil.update(modern)\n",
    "    \n",
    "    return modern_phil"
   ]
  },
  {
   "cell_type": "code",
   "execution_count": 115,
   "metadata": {
    "collapsed": true
   },
   "outputs": [],
   "source": [
    "modern = modern_philosophers()"
   ]
  },
  {
   "cell_type": "code",
   "execution_count": 116,
   "metadata": {
    "collapsed": false
   },
   "outputs": [
    {
     "name": "stdout",
     "output_type": "stream",
     "text": [
      "{'year_died': 1804, 'year_born': 1724, 'time_period': 'enlightenment', 'Western?': True}\n",
      "\n",
      "['Whitehead', 'Schopenhauer', 'Russell', 'Heidegger', 'Thoreau', 'Sartre', 'Smith', 'Derrida', 'Ayer', 'Frege', 'Marx', 'Burke', 'Hume', 'Ryle', 'Fichte', 'Foucault', 'Husserl', 'Berkeley', 'Rousseau', 'Dewey', 'Nietzsche', 'James', 'Voltaire (Francois Marie Arouet)', 'Wittgenstein', 'Schelling', 'Emerson', 'Hegel', 'Kierkegaard', 'Peirce', 'Comte', 'Mill', 'Descartes', 'Moore', 'Locke', 'Leibniz', 'Bentham', 'Spinoza', 'Pascal', 'Malebranche', 'Hobbes', 'Kant', 'Quine']\n"
     ]
    }
   ],
   "source": [
    "print modern['Kant']\n",
    "print '\\n', modern.keys()"
   ]
  },
  {
   "cell_type": "code",
   "execution_count": 117,
   "metadata": {
    "collapsed": true
   },
   "outputs": [],
   "source": [
    "def western_philosophers():\n",
    "    ancient = ancient_philosophers()\n",
    "    medieval = medieval_philosophers()\n",
    "    modern = modern_philosophers()\n",
    "    \n",
    "    western = ancient\n",
    "    western.update(medieval)\n",
    "    western.update(modern)\n",
    "    \n",
    "    return western"
   ]
  },
  {
   "cell_type": "code",
   "execution_count": 118,
   "metadata": {
    "collapsed": false
   },
   "outputs": [],
   "source": [
    "western = western_philosophers()"
   ]
  },
  {
   "cell_type": "code",
   "execution_count": 119,
   "metadata": {
    "collapsed": false
   },
   "outputs": [
    {
     "name": "stdout",
     "output_type": "stream",
     "text": [
      "['Aquinas, St. Thomas', 'Russell', 'Heidegger', 'Zeno_Elea', 'Smith', 'Frege', 'Erasmus', 'Foucault', 'Rousseau', 'Comte', 'Pythagoras', 'Roger_Bacon', 'Plato', 'Abelard, Peter', 'Berkeley', 'Ockham (Occam), William of', 'Epicurus', 'Husserl', 'Empedocles', 'James', 'Voltaire (Francois Marie Arouet)', 'Wittgenstein', 'Socrates', 'Anaximander', 'Hegel', 'Kierkegaard', 'Maimonides', 'Parmenides', 'Malebranche', 'Moore', 'Locke', 'Bentham', 'Gorgias', 'Pyrrho', 'Pascal', 'Anaximenes', 'Hobbes', 'Anselm, St.', 'Mill', 'Albertus Magnus', 'Whitehead', 'Schopenhauer', 'Diogenes', 'Scotus, John Duns', 'Anaxagoras', 'Derrida', 'Heraclitus', 'Ayer', 'Marx', 'Burke', 'More', 'Ryle', 'Fichte', 'Epictetus', 'Emerson', 'Democritus', 'Boethius', 'Thoreau', 'Hume', 'Dewey', 'Nietzsche', 'Aristotle', 'Philo', 'Thales', 'Cicero', 'Schelling', 'Machiavelli', 'Sartre', 'Plotinus', 'Protagoras', 'St_Augustine', 'Kant', 'Descartes', 'Sir_Francis_Bacon', 'Zeno', 'Avicenna (Ibn Sina)', 'Leibniz', 'Spinoza', 'Marcus Aurelius', 'Averroes (Ibn Rushd)', 'Peirce', 'Quine']\n"
     ]
    }
   ],
   "source": [
    "print western.keys()"
   ]
  },
  {
   "cell_type": "code",
   "execution_count": null,
   "metadata": {
    "collapsed": true
   },
   "outputs": [],
   "source": []
  }
 ],
 "metadata": {
  "anaconda-cloud": {},
  "kernelspec": {
   "display_name": "Python [Root]",
   "language": "python",
   "name": "Python [Root]"
  },
  "language_info": {
   "codemirror_mode": {
    "name": "ipython",
    "version": 2
   },
   "file_extension": ".py",
   "mimetype": "text/x-python",
   "name": "python",
   "nbconvert_exporter": "python",
   "pygments_lexer": "ipython2",
   "version": "2.7.12"
  }
 },
 "nbformat": 4,
 "nbformat_minor": 0
}
