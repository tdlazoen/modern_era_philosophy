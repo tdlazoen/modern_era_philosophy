{
 "cells": [
  {
   "cell_type": "code",
   "execution_count": 1,
   "metadata": {
    "collapsed": true
   },
   "outputs": [],
   "source": [
    "import numpy as np\n",
    "import pandas as pd\n",
    "import requests\n",
    "from bs4 import BeautifulSoup\n",
    "from unidecode import unidecode\n",
    "from collections import defaultdict\n",
    "from code.dataframes import Philosophers, Documents\n",
    "import re"
   ]
  },
  {
   "cell_type": "code",
   "execution_count": 43,
   "metadata": {
    "collapsed": true
   },
   "outputs": [],
   "source": [
    "url = 'http://famous-philosophers.com/'\n",
    "r = requests.get(url)\n",
    "soup = BeautifulSoup(r.content, 'html.parser')"
   ]
  },
  {
   "cell_type": "code",
   "execution_count": 68,
   "metadata": {
    "collapsed": false
   },
   "outputs": [
    {
     "data": {
      "text/plain": [
       "[('Karl Marx', 1818),\n",
       " ('Voltaire', 1694),\n",
       " ('Socrates', -469),\n",
       " ('Plato', -428),\n",
       " ('John Locke', 1632),\n",
       " ('Simone de Beauvoir', 1908),\n",
       " ('Jean-Jacques Rousseau', 1712),\n",
       " ('Adam Smith', 1723),\n",
       " ('Aristotle', -384),\n",
       " ('Francis Bacon', 1561),\n",
       " ('Gottfried Wilhelm Leibniz', 1646),\n",
       " ('Rene Descartes', 1596),\n",
       " ('Immanuel Kant', 1724),\n",
       " ('Friedrich Nietzsche', 1844),\n",
       " ('Albert Camus', 1913),\n",
       " ('C. S. Lewis', 1898),\n",
       " ('Hannah Arendt', 1906),\n",
       " ('Thomas Hobbes', 1588),\n",
       " ('Bertrand Russell', 1872),\n",
       " ('Jean-Paul Sartre', 1905),\n",
       " ('Blaise Pascal', 1623),\n",
       " ('Michel Foucault', 1926),\n",
       " ('Albert Schweitzer', 1875),\n",
       " ('David Hume', 1711),\n",
       " ('Origen', 185),\n",
       " ('Thomas Paine', 1737),\n",
       " ('Henry David Thoreau', 1817),\n",
       " ('John Dewey', 1859),\n",
       " ('John Stuart Mill', 1806),\n",
       " ('William James', 1842),\n",
       " ('Erich Fromm', 1900),\n",
       " ('Niccolo Machiavelli', 1469),\n",
       " ('John Calvin', 1509),\n",
       " ('Soren Kierkegaard', 1813),\n",
       " ('Leo Tolstoy', 1828),\n",
       " ('Parmenides', -515),\n",
       " ('Mozi', -470),\n",
       " ('St. Thomas Aquinas', 1225),\n",
       " ('Mary Wollstonecraft', 1759),\n",
       " ('Auguste Comte', 1798),\n",
       " ('Avicenna', 980),\n",
       " ('Emma Goldman', 1869),\n",
       " ('Epicurus', -341),\n",
       " ('Saint Augustine of Hippo', 354),\n",
       " ('Ludwig Wittgenstein', 1889)]"
      ]
     },
     "execution_count": 68,
     "metadata": {},
     "output_type": "execute_result"
    }
   ],
   "source": [
    "names = [unidecode(x.get_text().strip()) for x in soup.select('td a')]\n",
    "years = [filter(str.isdigit, re.split(r'[()]', x)[1]) for x in names]\n",
    "births = [int(x[:len(x)/2]) for x in years]\n",
    "deaths = [int(x[len(x)/2:]) for x in years]\n",
    "for i in xrange(len(names)):\n",
    "    if 'BC' in names[i]:\n",
    "        births[i] *= -1\n",
    "        deaths[i] *= -1\n",
    "names = [re.split(r'[()]', x)[0].strip() for x in names]\n",
    "idx = names.index('Confucius')\n",
    "names.pop(idx)\n",
    "births.pop(idx)\n",
    "deaths.pop(idx)\n",
    "idx1 = names.index('Gottfried Leibniz')\n",
    "idx2 = names.index('Thomas Aquinas')\n",
    "names[idx1] = 'Gottfried Wilhelm Leibniz'\n",
    "names[idx2] = 'St. Thomas Aquinas'\n",
    "zip(names, births)"
   ]
  },
  {
   "cell_type": "code",
   "execution_count": 103,
   "metadata": {
    "collapsed": true
   },
   "outputs": [],
   "source": [
    "url = 'https://en.wikipedia.org/wiki/17th-century_philosophy'\n",
    "r = requests.get(url)\n",
    "soup = BeautifulSoup(r.content, 'html.parser')"
   ]
  },
  {
   "cell_type": "code",
   "execution_count": 104,
   "metadata": {
    "collapsed": false
   },
   "outputs": [],
   "source": [
    "names_years = [unidecode(x.get_text().strip()) for x in soup.select('li')[34:54]]\n",
    "names_years.remove('Mir Damad (d. 1631)')\n",
    "names = [re.split(r'[()]', x)[0].strip() for x in names_years]\n",
    "years = [filter(str.isdigit, re.split(r'[()]', x)[1].strip()) for x in names_years]\n",
    "births = [int(x[:len(x)/2]) for x in years]\n",
    "deaths = [int(x[len(x)/2:]) for x in years]\n",
    "idx = names.index('Thomas Browne')\n",
    "births[idx] = 1605\n",
    "deaths[idx] = 1682"
   ]
  },
  {
   "cell_type": "code",
   "execution_count": 106,
   "metadata": {
    "collapsed": false
   },
   "outputs": [
    {
     "data": {
      "text/plain": [
       "[('Francisco Suarez', (1548, 1617)),\n",
       " ('Francis Bacon', (1561, 1626)),\n",
       " ('Galileo Galilei', (1564, 1642)),\n",
       " ('Mulla Sadra', (1571, 1640)),\n",
       " ('Hugo Grotius', (1583, 1645)),\n",
       " ('Thomas Hobbes', (1588, 1679)),\n",
       " ('Pierre Gassendi', (1592, 1655)),\n",
       " ('Rene Descartes', (1596, 1650)),\n",
       " ('Thomas Browne', (1605, 1682)),\n",
       " ('John Milton', (1608, 1674)),\n",
       " ('Blaise Pascal', (1623, 1662)),\n",
       " ('John Locke', (1632, 1704)),\n",
       " ('Baruch Spinoza', (1632, 1677)),\n",
       " ('Nicolas Malebranche', (1638, 1715)),\n",
       " ('Isaac Newton', (1642, 1727)),\n",
       " ('Gottfried Leibniz', (1646, 1716)),\n",
       " ('Pierre Bayle', (1647, 1706)),\n",
       " ('Damaris Cudworth Masham', (1659, 1708)),\n",
       " ('Mary Astell', (1666, 1731))]"
      ]
     },
     "execution_count": 106,
     "metadata": {},
     "output_type": "execute_result"
    }
   ],
   "source": [
    "zip(names, zip(births, deaths))"
   ]
  },
  {
   "cell_type": "code",
   "execution_count": 107,
   "metadata": {
    "collapsed": true
   },
   "outputs": [],
   "source": [
    "url = 'https://en.wikipedia.org/wiki/Renaissance_philosophy'\n",
    "r = requests.get(url)\n",
    "soup = BeautifulSoup(r.content, 'html.parser')"
   ]
  },
  {
   "cell_type": "code",
   "execution_count": 117,
   "metadata": {
    "collapsed": false,
    "scrolled": false
   },
   "outputs": [],
   "source": [
    "names_years = [unidecode(x.get_text().strip()) for x in soup.select('li')[68:90]]\n",
    "names = [re.split(r'[()]', x)[0].strip() for x in names_years]\n",
    "years = [filter(str.isdigit, re.split(r'[()]', x)[1].strip()) for x in names_years]\n",
    "births = [int(x[:len(x)/2]) for x in years]\n",
    "deaths = [int(x[len(x)/2:]) for x in years]"
   ]
  },
  {
   "cell_type": "code",
   "execution_count": 118,
   "metadata": {
    "collapsed": true
   },
   "outputs": [
    {
     "data": {
      "text/plain": [
       "[('Coluccio Salutati', (1331, 1406)),\n",
       " ('Gemistus Pletho', (1355, 1452)),\n",
       " ('Leonardo Bruni', (1370, 1444)),\n",
       " ('Nicholas of Cusa', (1401, 1464)),\n",
       " ('Lorenzo Valla', (1407, 1457)),\n",
       " ('Leon Battista Alberti', (1404, 1472)),\n",
       " ('Marsilio Ficino', (1433, 1499)),\n",
       " ('Giovanni Pico della Mirandola', (1463, 1494)),\n",
       " ('Pietro Pomponazzi', (1462, 1524)),\n",
       " ('Niccolo Machiavelli', (1469, 1527)),\n",
       " ('Thomas More', (1478, 1535)),\n",
       " ('Erasmus of Rotterdam', (1466, 1536)),\n",
       " ('Francesco Guicciardini', (1483, 1540)),\n",
       " ('Charles de Bovelles', (1479, 1553)),\n",
       " ('Martin Luther', (1483, 1546)),\n",
       " ('Bernardino Telesio', (1509, 1588)),\n",
       " ('Jean Bodin', (1529, 1596)),\n",
       " ('Giordano Bruno', (1548, 1600)),\n",
       " ('Michel de Montaigne', (1533, 1592)),\n",
       " ('Giulio Cesare Vanini', (1585, 1619)),\n",
       " ('Francis Bacon', (1561, 1626)),\n",
       " ('Tommaso Campanella', (1568, 1639))]"
      ]
     },
     "execution_count": 118,
     "metadata": {},
     "output_type": "execute_result"
    }
   ],
   "source": [
    "zip(names, zip(births, deaths))"
   ]
  },
  {
   "cell_type": "code",
   "execution_count": 120,
   "metadata": {
    "collapsed": false
   },
   "outputs": [],
   "source": [
    "url = 'http://theculturetrip.com/europe/united-kingdom/articles/top-10-living-philosophers/'\n",
    "r = requests.get(url)\n",
    "soup = BeautifulSoup(r.content, 'html.parser')"
   ]
  },
  {
   "cell_type": "code",
   "execution_count": 128,
   "metadata": {
    "collapsed": false
   },
   "outputs": [],
   "source": [
    "name_years = [unidecode(x.get_text()) for x in soup.select('h3 strong')]\n",
    "names = [re.split(r'[()]', x)[0].strip() for x in name_years]\n",
    "births = [int(filter(str.isdigit, re.split(r'[()]', x)[1])) for x in name_years]"
   ]
  },
  {
   "cell_type": "code",
   "execution_count": 127,
   "metadata": {
    "collapsed": true
   },
   "outputs": [
    {
     "data": {
      "text/plain": [
       "[('Martha Nussbaum', 1947),\n",
       " ('Cornel West', 1952),\n",
       " ('Gayatri Spivak', 1942),\n",
       " ('Slavoj Zizek', 1949),\n",
       " ('Judith Butler', 1956),\n",
       " ('Gu Su', 1955),\n",
       " ('Thomas Nagel', 1937),\n",
       " ('John McDowell', 1942),\n",
       " ('John McDowell', 1942),\n",
       " ('David Chalmers', 1966),\n",
       " ('Saul Kripke', 1940)]"
      ]
     },
     "execution_count": 127,
     "metadata": {},
     "output_type": "execute_result"
    }
   ],
   "source": [
    "zip(names, births)"
   ]
  },
  {
   "cell_type": "code",
   "execution_count": 53,
   "metadata": {
    "collapsed": false
   },
   "outputs": [],
   "source": [
    "url = 'https://en.wikipedia.org/wiki/Hellenistic_philosophy'\n",
    "r = requests.get(url)\n",
    "soup = BeautifulSoup(r.content, 'html.parser')"
   ]
  },
  {
   "cell_type": "code",
   "execution_count": 64,
   "metadata": {
    "collapsed": false
   },
   "outputs": [
    {
     "name": "stdout",
     "output_type": "stream",
     "text": [
      "47\n",
      "47\n",
      "47\n"
     ]
    }
   ],
   "source": [
    "names_years = [unidecode(x.get_text().strip()) for x in soup.select('li')[17:71]]\n",
    "k = 0\n",
    "for i in xrange(len(names_years)):\n",
    "    if 'century' in names_years[i-k] or 'c.' in names_years[i-k]:\n",
    "        names_years.remove(names_years[i-k])\n",
    "        k += 1\n",
    "        \n",
    "names = [re.split(r'[()]', x)[0].strip() for x in names_years]\n",
    "years = [filter(str.isdigit, re.split(r'[()]', x)[1].strip()) for x in names_years]\n",
    "births = [int(x[:len(x)/2]) for x in years]\n",
    "deaths = [int(x[len(x)/2:]) for x in years]\n",
    "\n",
    "for i in xrange(len(names_years)):\n",
    "    if 'BCE' in names_years[i]:\n",
    "        births[i] *= -1\n",
    "        deaths[i] *= -1\n",
    "        \n",
    "idx1 = names.index('Philo of Alexandria')\n",
    "births[idx1] = -30\n",
    "deaths[idx1] = 45\n",
    "idx2 = names.index('Seneca the Younger')\n",
    "births[idx2] = -4\n",
    "deaths[idx2] = 65\n",
    "idx3 = names.index('Cicero')\n",
    "names[idx3] = 'Marcus Tullius Cicero'\n",
    "idx4 = names.index('Augustine of Hippo')\n",
    "names[idx4] = 'St. Augustine of Hippo'\n",
    "print len(names)\n",
    "print len(births)\n",
    "print len(deaths)"
   ]
  },
  {
   "cell_type": "code",
   "execution_count": 65,
   "metadata": {
    "collapsed": false
   },
   "outputs": [
    {
     "data": {
      "text/plain": [
       "[('Pythagoras of Croton', (-570, -495)),\n",
       " ('Protagoras', (-490, -420)),\n",
       " ('Gorgias', (-485, -380)),\n",
       " ('Antiphon', (-480, -411)),\n",
       " ('Antisthenes', (-445, -365)),\n",
       " ('Diogenes of Sinope', (-412, -323)),\n",
       " ('Crates of Thebes', (-365, -285)),\n",
       " ('Demetrius', (10, 80)),\n",
       " ('Aristippus of Cyrene', (-435, -360)),\n",
       " ('Speusippus', (-407, -339)),\n",
       " ('Xenocrates', (-396, -314)),\n",
       " ('Arcesilaus', (-316, -232)),\n",
       " ('Carneades', (-214, -129)),\n",
       " ('Antiochus of Ascalon', (-13, -68)),\n",
       " ('Plutarch', (46, 120)),\n",
       " ('Aristotle', (-384, -322)),\n",
       " ('Theophrastus', (-371, -287)),\n",
       " ('Strato of Lampsacus', (-335, -269)),\n",
       " ('Pyrrho', (-365, -275)),\n",
       " ('Timon', (-320, -230)),\n",
       " ('Epicurus', (-341, -270)),\n",
       " ('Metrodorus', (-331, -278)),\n",
       " ('Philodemus', (-11, -40)),\n",
       " ('Lucretius', (-99, -55)),\n",
       " ('Zeno of Citium', (-333, -263)),\n",
       " ('Cleanthes', (-331, -232)),\n",
       " ('Chrysippus', (-280, -207)),\n",
       " ('Panaetius', (-185, -110)),\n",
       " ('Posidonius', (-13, -551)),\n",
       " ('Seneca', (-4, -65)),\n",
       " ('Epictetus', (55, 135)),\n",
       " ('Marcus Aurelius', (121, 180)),\n",
       " ('Varro Reatinus', (-11, -627)),\n",
       " ('Marcus Tullius Cicero', (-10, -643)),\n",
       " ('Seneca the Younger', (-4, 65)),\n",
       " ('Philo of Alexandria', (-30, 45)),\n",
       " ('Josephus', (37, 100)),\n",
       " ('Nigidius Figulus', (-98, -45)),\n",
       " ('Apollonius of Tyana', (40, 120)),\n",
       " ('Clement of Alexandria', (150, 215)),\n",
       " ('Origen', (185, 254)),\n",
       " ('Augustine of Hippo', (354, 430)),\n",
       " ('Aelia Eudocia', (401, 460)),\n",
       " ('Plotinus', (205, 270)),\n",
       " ('Porphyry', (233, 309)),\n",
       " ('Iamblichus of Chalcis', (245, 325)),\n",
       " ('Proclus', (412, 485))]"
      ]
     },
     "execution_count": 65,
     "metadata": {},
     "output_type": "execute_result"
    }
   ],
   "source": [
    "zip(names, zip(births, deaths))"
   ]
  },
  {
   "cell_type": "code",
   "execution_count": null,
   "metadata": {
    "collapsed": true
   },
   "outputs": [],
   "source": []
  }
 ],
 "metadata": {
  "anaconda-cloud": {},
  "kernelspec": {
   "display_name": "Python [Root]",
   "language": "python",
   "name": "Python [Root]"
  },
  "language_info": {
   "codemirror_mode": {
    "name": "ipython",
    "version": 2
   },
   "file_extension": ".py",
   "mimetype": "text/x-python",
   "name": "python",
   "nbconvert_exporter": "python",
   "pygments_lexer": "ipython2",
   "version": "2.7.12"
  }
 },
 "nbformat": 4,
 "nbformat_minor": 0
}
