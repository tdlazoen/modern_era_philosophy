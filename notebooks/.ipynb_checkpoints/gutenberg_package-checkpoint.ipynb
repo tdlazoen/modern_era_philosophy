{
 "cells": [
  {
   "cell_type": "markdown",
   "metadata": {},
   "source": [
    "### This Notebook Uses the Gutenberg Module in Python to Obtain Full-Text Documents From Project Gutenberg"
   ]
  },
  {
   "cell_type": "code",
   "execution_count": 34,
   "metadata": {
    "collapsed": false
   },
   "outputs": [],
   "source": [
    "import time\n",
    "import requests\n",
    "from bs4 import BeautifulSoup\n",
    "from unidecode import unidecode\n",
    "import re\n",
    "import urllib\n",
    "from string import punctuation\n",
    "import sys\n",
    "import os\n",
    "sys.path.append(os.path.abspath('../code'))\n",
    "from dataframes import Philosophers, Documents\n",
    "from gutenberg.acquire import load_etext\n",
    "from gutenberg.cleanup import strip_headers"
   ]
  },
  {
   "cell_type": "code",
   "execution_count": 58,
   "metadata": {
    "collapsed": true
   },
   "outputs": [],
   "source": [
    "phils, docs = Philosophers(filepath='../data/philosophers.csv'), Documents(filepath='../data/documents.csv')"
   ]
  },
  {
   "cell_type": "markdown",
   "metadata": {},
   "source": [
    "### Using Functions Created in gutenberg_failed_scrape.py to obtain document info (document, title, year made, link)"
   ]
  },
  {
   "cell_type": "code",
   "execution_count": 12,
   "metadata": {
    "collapsed": true
   },
   "outputs": [],
   "source": [
    "def get_document_info(tags):\n",
    "    # Initialize document title variables\n",
    "    doc_titles = []\n",
    "    doc_mask = [] # Used for creating authors list later\n",
    "    tpt_part = 1\n",
    "\n",
    "    # Initialize link variables\n",
    "    cleaned_links = []\n",
    "\n",
    "    # Run through each title and link in the list\n",
    "    for i, entry in enumerate(tags[1:]):\n",
    "        try:\n",
    "            # Get text associated with entry (title of document)\n",
    "            x = unidecode(entry.string)\n",
    "            x = re.split(r'[()]', x)[0]\n",
    "\n",
    "            # Get link associated with entry\n",
    "            link = 'https:' + unidecode(entry['href']).strip('/')\n",
    "\n",
    "            # Used for inconsistencies\n",
    "            if x == 'vol. 1' and i == 48:\n",
    "                doc_titles.append('A System Of Logic, Ratiocinative And Inductive, 3rd ed. ' + x.strip())\n",
    "\n",
    "                # Add link information for the document\n",
    "                cleaned_links.append(link)\n",
    "\n",
    "            elif x == 'vol. 2' or i == 49:\n",
    "                doc_titles.append('A System Of Logic, Ratiocinative And Inductive, 7th ed. ' + x.strip())\n",
    "\n",
    "                # Add link information for the document\n",
    "                cleaned_links.append(link)\n",
    "\n",
    "            elif x == '8th ed.':\n",
    "                doc_titles.append('A System Of Logic, Ratiocinative And Inductive ' + x.strip())\n",
    "\n",
    "                # Add link information for the document\n",
    "                cleaned_links.append(link)\n",
    "\n",
    "            elif i in range(105, 109):\n",
    "                doc_title = 'Theologico-Political Treatise -- ' + 'part ' + str(tpt_part)\n",
    "                doc_titles.append(doc_title)\n",
    "                tpt_part += 1\n",
    "\n",
    "                # Add link information for the document\n",
    "                cleaned_links.append(link)\n",
    "\n",
    "            elif x == 'Butcher trans.' or x == 'audio' or x == 'audiobook' or x[:4] == 'part':\n",
    "                continue\n",
    "\n",
    "            else:\n",
    "                # Append title to the list of document titles\n",
    "                doc_titles.append(x.strip())\n",
    "                doc_mask.append(x.strip())\n",
    "\n",
    "                # Add link information for the document\n",
    "                cleaned_links.append(link)\n",
    "\n",
    "        # Check for possible links that aren't for philosophical documents\n",
    "        except AttributeError:\n",
    "            continue\n",
    "\n",
    "    return doc_titles, doc_mask, cleaned_links"
   ]
  },
  {
   "cell_type": "code",
   "execution_count": 13,
   "metadata": {
    "collapsed": true
   },
   "outputs": [],
   "source": [
    "def gutenberg_info():\n",
    "    '''\n",
    "    Creates and returns work titles with corresponding links and authors\n",
    "    '''\n",
    "    # Base url for retrieving information\n",
    "    url = 'https://www.gutenberg.org/wiki/Philosophy_(Bookshelf)'\n",
    "    time.sleep(5)\n",
    "    r = requests.get(url)\n",
    "    soup = BeautifulSoup(r.content, 'html.parser')\n",
    "\n",
    "    # Obtain titles of documents and links to each one\n",
    "    titles_links = soup.select('a.extiw')\n",
    "\n",
    "    doc_titles, doc_mask, links = get_document_info(titles_links)\n",
    "\n",
    "    # Drop idx of item in order to prevent doubles\n",
    "    drop_idx = []\n",
    "    drop_idx.append(doc_titles.index('A System Of Logic, Ratiocinative And Inductive, 3rd ed. vol. 1'))\n",
    "\n",
    "    # Get the names associated with each document\n",
    "    names = soup.select('li')\n",
    "\n",
    "    # Get the cleaned names list\n",
    "    authors_and_docs = [unidecode(x.get_text()).strip() for x in names[15:126]]\n",
    "    authors_and_docs = [re.split(r'[()]', name)[0].strip() for i, name in enumerate(authors_and_docs) if i not in drop_idx]\n",
    "    authors_and_docs.remove('Benedictus de Spinoza Theologico-Political Treatise -- Part 1')\n",
    "\n",
    "    # Loop through list of author names (with books attached) and get only author names\n",
    "    authors = []\n",
    "    for i in range(len(authors_and_docs)):\n",
    "        name = authors_and_docs[i].replace(doc_mask[i], '').strip()\n",
    "        authors.append(name)\n",
    "\n",
    "    # Insert authors for books where need be (i.e. multiple volumes or parts)\n",
    "    for i in range(len(doc_titles)):\n",
    "        # Multiple edition/volumes of below work\n",
    "        if doc_titles[i][:46] == 'A System Of Logic, Ratiocinative And Inductive':\n",
    "            authors.insert(i, 'John Stuart Mill')\n",
    "\n",
    "        # 4-part Theologico-Political Treatise\n",
    "        elif '--' in doc_titles[i]:\n",
    "            authors.insert(i, 'Benedictus de Spinoza')\n",
    "\n",
    "    # Account for duplicate documents\n",
    "    for doc in doc_titles:\n",
    "        if doc_titles.count(doc) >= 2:\n",
    "            idx = doc_titles.index(doc)\n",
    "            authors.pop(idx)\n",
    "            doc_titles.pop(idx)\n",
    "            links.pop(idx)\n",
    "\n",
    "    return authors, doc_titles, links"
   ]
  },
  {
   "cell_type": "code",
   "execution_count": 14,
   "metadata": {
    "collapsed": false,
    "scrolled": true
   },
   "outputs": [
    {
     "name": "stderr",
     "output_type": "stream",
     "text": [
      "INFO:requests.packages.urllib3.connectionpool:Starting new HTTPS connection (1): www.gutenberg.org\n"
     ]
    }
   ],
   "source": [
    "authors, doc_titles, links = gutenberg_info()"
   ]
  },
  {
   "cell_type": "code",
   "execution_count": 56,
   "metadata": {
    "collapsed": false
   },
   "outputs": [
    {
     "name": "stdout",
     "output_type": "stream",
     "text": [
      "('Emile Faguet', ('Initiation into Philosophy', 9304))\n",
      "('George S. Fullerton', ('An Introduction to Philosophy', 16406))\n",
      "('Ralph Barton Perry', ('The Approach to Philosophy', 25110))\n",
      "('John Marshall', ('A Short History of Greek Philosophy', 20500))\n",
      "('St. George William Joseph Stock', ('Guide to Stoicism', 7514))\n",
      "('Mary Mills Patrick', ('Sextus Empiricus and Greek Scepticism', 17556))\n",
      "('Richard Falckenberg', ('History of Modern Philosophy From Nicolas of Cusa to the Present Time', 11100))\n",
      "('George Santayana', ('Some Turns of Thought in Modern Philosophy: Five Essays', 16712))\n",
      "('John Alexander Gunn', ('Modern French Philosophy: a Study of the Development Since Comte', 5246))\n",
      "('Anicius Manlius Severinus Boethius', ('The Theological Tractates and The Consolation of Philosophy', 13316))\n",
      "('Friedrich Nietzsche', ('Also sprach Zarathustra', 7205))\n",
      "('Friedrich Nietzsche', ('Thus Spake Zarathustra', 1998))\n",
      "('Abel J. Jones', ('Rudolph Eucken: a philosophy of life', 14357))\n",
      "('David Starr Jordan', ('The Philosophy of Despair', 4754))\n",
      "('Aristotle', ('The Categories', 2412))\n",
      "('George John Romanes', ('Mind and Motion and Monism', 22283))\n",
      "('Peter Coffey', ('Ontology or the Theory of Being', 35722))\n",
      "('Plato', ('Theaetetus', 1726))\n",
      "('Rene Descartes', ('Discours de la methode', 13846))\n",
      "('Rene Descartes', (\"Discourse on the Method of Rightly Conducting One's Reason and of Seeking Truth in the Sciences\", 59))\n",
      "('Rene Descartes', ('The Selections from the Principles of Philosophy', 4391))\n",
      "('George Berkeley', ('A Treatise Concerning the Principles of Human Knowledge', 4723))\n",
      "('George Berkeley', ('Three Dialogues Between Hylas and Philonous', 4724))\n",
      "('David Hume', ('An Enquiry Concerning Human Understanding', 9662))\n",
      "('David Hume', ('A Treatise of Human Nature', 4705))\n",
      "('Benedictus de Spinoza', ('Improvement of the Understanding', 1016))\n",
      "('Immanuel Kant', ('The Critique of Pure Reason', 4280))\n",
      "('Immanuel Kant', ('Kritik der reinen Vernunft', 6342))\n",
      "('Immanuel Kant', ('Kritik der reinen Vernunft Zweite hin und wieder verbesserte Auflage', 6343))\n",
      "('John Stuart Mill', ('Auguste Comte and Positivism', 16833))\n",
      "('Bertrand Russell', ('The Problems of Philosophy', 5827))\n",
      "('Bertrand Russell', ('Our Knowledge of the External World as a Field for Scientific Method in Philosophy', 37090))\n",
      "('Alexander Philip', ('Essays Towards a Theory of Knowledge', 23422))\n",
      "('William James', ('A Pluralistic Universe: Hibbert Lectures at Manchester College on the Present Situation in Philosophy', 11984))\n",
      "('William James', ('Essays in Radical Empiricism', 32547))\n",
      "('Bertrand Russell', ('The Analysis of Mind', 2529))\n",
      "('Ludwig Wittgenstein', ('Tractatus Logico-Philosophicus', 5740))\n",
      "('John Stuart Mill', ('A System Of Logic, Ratiocinative And Inductive, 3rd ed. vol. 1', 26495))\n",
      "('John Stuart Mill', ('A System Of Logic, Ratiocinative And Inductive, 7th ed. vol. 1', 35420))\n",
      "('John Stuart Mill', ('A System Of Logic, Ratiocinative And Inductive, 7th ed. vol. 2', 35421))\n",
      "('John Stuart Mill', ('A System Of Logic, Ratiocinative And Inductive 8th ed.', 27942))\n",
      "('W. Stebbing', (\"Analysis of Mr. Mill's System of Logic\", 30866))\n",
      "('Lewis Carroll', ('Symbolic Logic', 28696))\n",
      "('Lewis Carroll', ('The Game of Logic', 4763))\n",
      "('William Minto', ('Logic, Inductive and Deductive', 31796))\n",
      "('St. George William Joseph Stock', ('Deductive Logic', 6560))\n",
      "('Carveth Read', ('Logic: Deductive and Inductive', 18440))\n",
      "('Plato', ('Ion', 1635))\n",
      "('Aristotle', ('Poetics', 6763))\n",
      "('M.V. Couisin', ('The True, The Beautiful and The Good', 36208))\n",
      "('Friedrich Schiller', ('Aesthetical Essays of Friedrich Schiller', 6798))\n",
      "('Henri Bergson', ('Laughter: An Essay on the Meaning of the Comic', 4352))\n",
      "('Friedrich Nietzsche', ('Die Geburt der Tragodie', 7206))\n",
      "('Friedrich Nietzsche', ('The Case Of Wagner, Nietzsche Contra Wagner, and Selected Aphorisms', 25012))\n",
      "('Friedrich Nietzsche', ('Homer and Classical Philology', 18188))\n",
      "('Dewitt H. Parker', ('The Principles of Aesthetics', 6366))\n",
      "('David Hume', ('An Enquiry Concerning the Principles of Morals', 4320))\n",
      "('Benedictus de Spinoza', ('Ethics', 3800))\n",
      "('John Abercrombie', ('The Philosophy of the Moral Feelings', 22364))\n",
      "('Friedrich Nietzsche', ('Beyond Good and Evil', 4363))\n",
      "('John Stuart Mill', ('Utilitarianism', 11224))\n",
      "('Leslie Stephen', ('The English Utilitarians, Volume I', 27597))\n",
      "('Plato', ('Apology', 1656))\n",
      "('Plato', ('The Republic', 1497))\n",
      "('Aristotle', ('Politics', 6762))\n",
      "('Niccolo Machiavelli', ('The Prince', 1232))\n",
      "('John Locke', ('Second Treatise of Government', 7370))\n",
      "('Friedrich Engels and Karl Marx', ('The Communist Manifesto', 61))\n",
      "('Karl Marx', ('Selected Essays', 21565))\n",
      "('John Stuart Mill', ('On Liberty', 34901))\n",
      "('John Stuart Mill', ('Considerations on Representative Government', 5669))\n",
      "('John Stuart Mill', ('Essays on some unsettled Questions of Political Economy', 12004))\n",
      "('Bertrand Russell', ('Proposed Roads to Freedom', 690))\n",
      "('Bertrand Russell', ('Political Ideals', 4776))\n",
      "('Roscoe Pound', ('An Introduction to the Philosophy of Law', 32168))\n",
      "('Michel de Montaigne', ('Literary and Philosophical Essays: French, German and Italian', 5637))\n",
      "('John Dewey', ('Democracy and Education: an introduction to the philosophy of education', 852))\n",
      "('John Dewey', ('Moral Principles in Education', 25172))\n",
      "('Plato', ('Euthyphro', 1642))\n",
      "('David Hume', ('Dialogues Concerning Natural Religion', 4583))\n",
      "('Benedictus de Spinoza', ('Theologico-Political Treatise -- part 1', 989))\n",
      "('Benedictus de Spinoza', ('Theologico-Political Treatise -- part 2', 990))\n",
      "('Benedictus de Spinoza', ('Theologico-Political Treatise -- part 3', 991))\n",
      "('Benedictus de Spinoza', ('Theologico-Political Treatise -- part 4', 992))\n",
      "('Bertrand Russell', ('Mysticism and Logic and Other Essays', 25447))\n",
      "('Hastings Rashdall', ('Philosophy and Religion: Six Lectures Delivered at Cambridge', 21995))\n",
      "('Johann Christoph Friedrich von Schiller', ('Philosophical Letters of Frederich Schiller', 6799))\n",
      "('Friedrich Nietzsche', ('The Antichrist', 19322))\n",
      "('S.M. Dubnow', ('Jewish History: an essay in the philosophy of history', 7836))\n",
      "('G.E. Partridge', ('The Psychology of Nations: A Contribution to the Philosophy of History', 20814))\n",
      "('Surendranath Dasgupta', ('A History of Indian Philosophy, Volume 1', 12956))\n",
      "('Kaiten Nukariya', ('The Religion of the Samurai: A Study of Zen Philosophy and Discipline in China and Japan', 5173))\n",
      "('Thomas Taylor', ('Introduction to the Philosophy and Writings of Plato', 10214))\n",
      "('R.W. Church', ('English Men of Letters: Bacon', 13888))\n",
      "('Johann Gottlieb Fichte', ('Achtundvierzig Briefe von Johann Gottlieb Fichte und seinen Verwandten by Fichte', 29530))\n",
      "('John Stuart Mill', ('Autobiography', 10378))\n",
      "('George Grote', (\"Review of the Work of Mr John Stuart Mill Entitled, 'Examination of Sir William Hamilton's Philosophy.'\", 12002))\n",
      "('John Morley', (\"Critical Miscellanies: The Death of Mr. Mill & Mr. Mill's Autobiography\", 20887))\n",
      "('John Morley', ('English Men of Letters: Burke', 12922))\n",
      "('W. Tudor Jones', (\"An Interpretation of Rudolf Eucken's Philosophy\", 16835))\n",
      "('John Alexander Gunn', ('Bergson and His Philosophy', 5717))\n",
      "('Edouard Louis Emmanuel Julien', ('A New Philosophy: Henri Bergson', 1347))\n",
      "('John Morley', ('Critical Miscellanies: August Comte', 29033))\n",
      "103\n",
      "103\n",
      "103\n",
      "103\n"
     ]
    }
   ],
   "source": [
    "ids = [int(re.sub('\\D', '', x)) for x in links]\n",
    "for x in zip(authors, zip(doc_titles, ids)):\n",
    "    print(x)\n",
    "print(len(doc_titles))\n",
    "print(len(authors))\n",
    "print(len(ids))\n",
    "print(len(links))"
   ]
  },
  {
   "cell_type": "code",
   "execution_count": 45,
   "metadata": {
    "collapsed": false
   },
   "outputs": [],
   "source": [
    "text = strip_headers(load_etext(ids[0])).strip()"
   ]
  },
  {
   "cell_type": "markdown",
   "metadata": {},
   "source": [
    "### Get the text for each document and add to Documents Dataframe (if they are in the philosophers dataframe)"
   ]
  },
  {
   "cell_type": "code",
   "execution_count": 60,
   "metadata": {
    "collapsed": false,
    "scrolled": false
   },
   "outputs": [
    {
     "name": "stdout",
     "output_type": "stream",
     "text": [
      "\n",
      "That Author isn't one of the philosophers!\n",
      "\n",
      "That Author isn't one of the philosophers!\n",
      "\n",
      "That Author isn't one of the philosophers!\n",
      "\n",
      "That Author isn't one of the philosophers!\n",
      "\n",
      "That Author isn't one of the philosophers!\n",
      "\n",
      "That Author isn't one of the philosophers!\n",
      "\n",
      "That Author isn't one of the philosophers!\n",
      "\n",
      "That Author isn't one of the philosophers!\n",
      "\n",
      "That Author isn't one of the philosophers!\n",
      "\n",
      "That Author isn't one of the philosophers!\n",
      "\n",
      "Getting text for document also sprach zarathustra by friedrich nietzsche\n",
      "Adding document\n",
      "Document also sprach zarathustra already exists!\n",
      "\n",
      "Getting text for document thus spake zarathustra by friedrich nietzsche\n",
      "Adding document\n",
      "Document thus spake zarathustra already exists!\n",
      "\n",
      "That Author isn't one of the philosophers!\n",
      "\n",
      "That Author isn't one of the philosophers!\n",
      "\n",
      "Getting text for document the categories by aristotle\n",
      "Adding document\n",
      "Document the categories already exists!\n",
      "\n",
      "That Author isn't one of the philosophers!\n",
      "\n",
      "That Author isn't one of the philosophers!\n",
      "\n",
      "Getting text for document theaetetus by plato\n",
      "Adding document\n",
      "Document theaetetus already exists!\n",
      "\n",
      "Getting text for document discours de la methode by rene descartes\n",
      "Adding document\n",
      "Document discours de la methode already exists!\n",
      "\n",
      "Getting text for document discourse on the method of rightly conducting one's reason and of seeking truth in the sciences by rene descartes\n",
      "Adding document\n",
      "Document discourse on the method of rightly conducting one's reason and of seeking truth in the sciences already exists!\n",
      "\n",
      "Getting text for document the selections from the principles of philosophy by rene descartes\n",
      "Adding document\n",
      "Document the selections from the principles of philosophy already exists!\n",
      "\n",
      "Getting text for document a treatise concerning the principles of human knowledge by george berkeley\n",
      "Adding document\n",
      "Document a treatise concerning the principles of human knowledge already exists!\n",
      "\n",
      "Getting text for document three dialogues between hylas and philonous by george berkeley\n",
      "Adding document\n",
      "Document three dialogues between hylas and philonous already exists!\n",
      "\n",
      "Getting text for document an enquiry concerning human understanding by david hume\n",
      "Adding document\n",
      "Document an enquiry concerning human understanding already exists!\n",
      "\n",
      "Getting text for document a treatise of human nature by david hume\n",
      "Adding document\n",
      "Document a treatise of human nature already exists!\n",
      "\n",
      "That Author isn't one of the philosophers!\n",
      "\n",
      "Getting text for document the critique of pure reason by immanuel kant\n",
      "Adding document\n",
      "Document the critique of pure reason already exists!\n",
      "\n",
      "Getting text for document kritik der reinen vernunft by immanuel kant\n",
      "Adding document\n",
      "Document kritik der reinen vernunft already exists!\n",
      "\n",
      "Getting text for document kritik der reinen vernunft zweite hin und wieder verbesserte auflage by immanuel kant\n",
      "Adding document\n",
      "Document kritik der reinen vernunft zweite hin und wieder verbesserte auflage already exists!\n",
      "\n",
      "Getting text for document auguste comte and positivism by john stuart mill\n",
      "Adding document\n",
      "Document auguste comte and positivism already exists!\n",
      "\n",
      "Getting text for document the problems of philosophy by bertrand russell\n",
      "Adding document\n",
      "Document the problems of philosophy already exists!\n",
      "\n",
      "Getting text for document our knowledge of the external world as a field for scientific method in philosophy by bertrand russell\n",
      "Adding document\n",
      "Document our knowledge of the external world as a field for scientific method in philosophy already exists!\n",
      "\n",
      "That Author isn't one of the philosophers!\n",
      "\n",
      "Getting text for document a pluralistic universe: hibbert lectures at manchester college on the present situation in philosophy by william james\n",
      "Adding document\n",
      "Document a pluralistic universe: hibbert lectures at manchester college on the present situation in philosophy already exists!\n",
      "\n",
      "Getting text for document essays in radical empiricism by william james\n",
      "Adding document\n",
      "Document essays in radical empiricism already exists!\n",
      "\n",
      "Getting text for document the analysis of mind by bertrand russell\n"
     ]
    },
    {
     "name": "stderr",
     "output_type": "stream",
     "text": [
      "INFO:requests.packages.urllib3.connectionpool:Starting new HTTP connection (1): www.gutenberg.lib.md.us\n",
      "INFO:requests.packages.urllib3.connectionpool:Starting new HTTP connection (1): www.gutenberg.lib.md.us\n"
     ]
    },
    {
     "name": "stdout",
     "output_type": "stream",
     "text": [
      "Adding document\n",
      "Document the analysis of mind already exists!\n",
      "\n",
      "Getting text for document tractatus logico-philosophicus by ludwig wittgenstein\n"
     ]
    },
    {
     "name": "stderr",
     "output_type": "stream",
     "text": [
      "INFO:requests.packages.urllib3.connectionpool:Starting new HTTP connection (1): www.gutenberg.lib.md.us\n",
      "INFO:requests.packages.urllib3.connectionpool:Starting new HTTP connection (1): www.gutenberg.lib.md.us\n",
      "INFO:requests.packages.urllib3.connectionpool:Starting new HTTP connection (1): www.gutenberg.lib.md.us\n"
     ]
    },
    {
     "name": "stdout",
     "output_type": "stream",
     "text": [
      "Download URI for 5740 not supported\n",
      "\n",
      "Getting text for document a system of logic, ratiocinative and inductive, 3rd ed. vol. 1 by john stuart mill\n"
     ]
    },
    {
     "name": "stderr",
     "output_type": "stream",
     "text": [
      "INFO:requests.packages.urllib3.connectionpool:Starting new HTTP connection (1): www.gutenberg.lib.md.us\n"
     ]
    },
    {
     "name": "stdout",
     "output_type": "stream",
     "text": [
      "Adding document\n",
      "\n",
      "Getting text for document a system of logic, ratiocinative and inductive, 7th ed. vol. 1 by john stuart mill\n"
     ]
    },
    {
     "name": "stderr",
     "output_type": "stream",
     "text": [
      "INFO:requests.packages.urllib3.connectionpool:Starting new HTTP connection (1): www.gutenberg.lib.md.us\n",
      "INFO:requests.packages.urllib3.connectionpool:Starting new HTTP connection (1): www.gutenberg.lib.md.us\n"
     ]
    },
    {
     "name": "stdout",
     "output_type": "stream",
     "text": [
      "Adding document\n",
      "\n",
      "Getting text for document a system of logic, ratiocinative and inductive, 7th ed. vol. 2 by john stuart mill\n"
     ]
    },
    {
     "name": "stderr",
     "output_type": "stream",
     "text": [
      "INFO:requests.packages.urllib3.connectionpool:Starting new HTTP connection (1): www.gutenberg.lib.md.us\n",
      "INFO:requests.packages.urllib3.connectionpool:Starting new HTTP connection (1): www.gutenberg.lib.md.us\n"
     ]
    },
    {
     "name": "stdout",
     "output_type": "stream",
     "text": [
      "Adding document\n",
      "\n",
      "Getting text for document a system of logic, ratiocinative and inductive 8th ed. by john stuart mill\n"
     ]
    },
    {
     "name": "stderr",
     "output_type": "stream",
     "text": [
      "INFO:requests.packages.urllib3.connectionpool:Starting new HTTP connection (1): www.gutenberg.lib.md.us\n"
     ]
    },
    {
     "name": "stdout",
     "output_type": "stream",
     "text": [
      "Adding document\n"
     ]
    },
    {
     "name": "stderr",
     "output_type": "stream",
     "text": [
      "INFO:requests.packages.urllib3.connectionpool:Starting new HTTP connection (1): www.gutenberg.lib.md.us\n",
      "INFO:requests.packages.urllib3.connectionpool:Starting new HTTP connection (1): www.gutenberg.lib.md.us\n"
     ]
    },
    {
     "name": "stdout",
     "output_type": "stream",
     "text": [
      "\n",
      "That Author isn't one of the philosophers!\n",
      "\n",
      "That Author isn't one of the philosophers!\n",
      "\n",
      "That Author isn't one of the philosophers!\n",
      "\n",
      "That Author isn't one of the philosophers!\n",
      "\n",
      "That Author isn't one of the philosophers!\n",
      "\n",
      "That Author isn't one of the philosophers!\n",
      "\n",
      "Getting text for document ion by plato\n"
     ]
    },
    {
     "name": "stderr",
     "output_type": "stream",
     "text": [
      "INFO:requests.packages.urllib3.connectionpool:Starting new HTTP connection (1): www.gutenberg.lib.md.us\n",
      "INFO:requests.packages.urllib3.connectionpool:Starting new HTTP connection (1): www.gutenberg.lib.md.us\n"
     ]
    },
    {
     "name": "stdout",
     "output_type": "stream",
     "text": [
      "Adding document\n",
      "Document ion already exists!\n",
      "\n",
      "Getting text for document poetics by aristotle\n"
     ]
    },
    {
     "name": "stderr",
     "output_type": "stream",
     "text": [
      "INFO:requests.packages.urllib3.connectionpool:Starting new HTTP connection (1): www.gutenberg.lib.md.us\n",
      "INFO:requests.packages.urllib3.connectionpool:Starting new HTTP connection (1): www.gutenberg.lib.md.us\n"
     ]
    },
    {
     "name": "stdout",
     "output_type": "stream",
     "text": [
      "Adding document\n",
      "\n",
      "That Author isn't one of the philosophers!\n",
      "\n",
      "That Author isn't one of the philosophers!\n",
      "\n",
      "That Author isn't one of the philosophers!\n",
      "\n",
      "Getting text for document die geburt der tragodie by friedrich nietzsche\n"
     ]
    },
    {
     "name": "stderr",
     "output_type": "stream",
     "text": [
      "INFO:requests.packages.urllib3.connectionpool:Starting new HTTP connection (1): www.gutenberg.lib.md.us\n",
      "INFO:requests.packages.urllib3.connectionpool:Starting new HTTP connection (1): www.gutenberg.lib.md.us\n",
      "INFO:requests.packages.urllib3.connectionpool:Starting new HTTP connection (1): www.gutenberg.lib.md.us\n"
     ]
    },
    {
     "name": "stdout",
     "output_type": "stream",
     "text": [
      "Adding document\n",
      "\n",
      "Getting text for document the case of wagner, nietzsche contra wagner, and selected aphorisms by friedrich nietzsche\n"
     ]
    },
    {
     "name": "stderr",
     "output_type": "stream",
     "text": [
      "INFO:requests.packages.urllib3.connectionpool:Starting new HTTP connection (1): www.gutenberg.lib.md.us\n",
      "INFO:requests.packages.urllib3.connectionpool:Starting new HTTP connection (1): www.gutenberg.lib.md.us\n"
     ]
    },
    {
     "name": "stdout",
     "output_type": "stream",
     "text": [
      "Adding document\n",
      "\n",
      "Getting text for document homer and classical philology by friedrich nietzsche\n"
     ]
    },
    {
     "name": "stderr",
     "output_type": "stream",
     "text": [
      "INFO:requests.packages.urllib3.connectionpool:Starting new HTTP connection (1): www.gutenberg.lib.md.us\n",
      "INFO:requests.packages.urllib3.connectionpool:Starting new HTTP connection (1): www.gutenberg.lib.md.us\n"
     ]
    },
    {
     "name": "stdout",
     "output_type": "stream",
     "text": [
      "Adding document\n",
      "\n",
      "That Author isn't one of the philosophers!\n",
      "\n",
      "Getting text for document an enquiry concerning the principles of morals by david hume\n"
     ]
    },
    {
     "name": "stderr",
     "output_type": "stream",
     "text": [
      "INFO:requests.packages.urllib3.connectionpool:Starting new HTTP connection (1): www.gutenberg.lib.md.us\n",
      "INFO:requests.packages.urllib3.connectionpool:Starting new HTTP connection (1): www.gutenberg.lib.md.us\n"
     ]
    },
    {
     "name": "stdout",
     "output_type": "stream",
     "text": [
      "Adding document\n",
      "Document an enquiry concerning the principles of morals already exists!\n",
      "\n",
      "That Author isn't one of the philosophers!\n",
      "\n",
      "That Author isn't one of the philosophers!\n",
      "\n",
      "Getting text for document beyond good and evil by friedrich nietzsche\n"
     ]
    },
    {
     "name": "stderr",
     "output_type": "stream",
     "text": [
      "INFO:requests.packages.urllib3.connectionpool:Starting new HTTP connection (1): www.gutenberg.lib.md.us\n",
      "INFO:requests.packages.urllib3.connectionpool:Starting new HTTP connection (1): www.gutenberg.lib.md.us\n"
     ]
    },
    {
     "name": "stdout",
     "output_type": "stream",
     "text": [
      "Adding document\n",
      "\n",
      "Getting text for document utilitarianism by john stuart mill\n"
     ]
    },
    {
     "name": "stderr",
     "output_type": "stream",
     "text": [
      "INFO:requests.packages.urllib3.connectionpool:Starting new HTTP connection (1): www.gutenberg.lib.md.us\n",
      "INFO:requests.packages.urllib3.connectionpool:Starting new HTTP connection (1): www.gutenberg.lib.md.us\n"
     ]
    },
    {
     "name": "stdout",
     "output_type": "stream",
     "text": [
      "Adding document\n",
      "Document utilitarianism already exists!\n",
      "\n",
      "That Author isn't one of the philosophers!\n",
      "\n",
      "Getting text for document apology by plato\n"
     ]
    },
    {
     "name": "stderr",
     "output_type": "stream",
     "text": [
      "INFO:requests.packages.urllib3.connectionpool:Starting new HTTP connection (1): www.gutenberg.lib.md.us\n",
      "INFO:requests.packages.urllib3.connectionpool:Starting new HTTP connection (1): www.gutenberg.lib.md.us\n"
     ]
    },
    {
     "name": "stdout",
     "output_type": "stream",
     "text": [
      "Adding document\n",
      "Document apology already exists!\n",
      "\n",
      "Getting text for document the republic by plato\n"
     ]
    },
    {
     "name": "stderr",
     "output_type": "stream",
     "text": [
      "INFO:requests.packages.urllib3.connectionpool:Starting new HTTP connection (1): www.gutenberg.lib.md.us\n"
     ]
    },
    {
     "name": "stdout",
     "output_type": "stream",
     "text": [
      "Adding document\n",
      "\n",
      "Getting text for document politics by aristotle\n"
     ]
    },
    {
     "name": "stderr",
     "output_type": "stream",
     "text": [
      "INFO:requests.packages.urllib3.connectionpool:Starting new HTTP connection (1): www.gutenberg.lib.md.us\n",
      "INFO:requests.packages.urllib3.connectionpool:Starting new HTTP connection (1): www.gutenberg.lib.md.us\n",
      "INFO:requests.packages.urllib3.connectionpool:Starting new HTTP connection (1): www.gutenberg.lib.md.us\n"
     ]
    },
    {
     "name": "stdout",
     "output_type": "stream",
     "text": [
      "Adding document\n",
      "\n",
      "Getting text for document the prince by niccolo machiavelli\n"
     ]
    },
    {
     "name": "stderr",
     "output_type": "stream",
     "text": [
      "INFO:requests.packages.urllib3.connectionpool:Starting new HTTP connection (1): www.gutenberg.lib.md.us\n",
      "INFO:requests.packages.urllib3.connectionpool:Starting new HTTP connection (1): www.gutenberg.lib.md.us\n"
     ]
    },
    {
     "name": "stdout",
     "output_type": "stream",
     "text": [
      "Adding document\n",
      "Document the prince already exists!\n",
      "\n",
      "Getting text for document second treatise of government by john locke\n"
     ]
    },
    {
     "name": "stderr",
     "output_type": "stream",
     "text": [
      "INFO:requests.packages.urllib3.connectionpool:Starting new HTTP connection (1): www.gutenberg.lib.md.us\n",
      "INFO:requests.packages.urllib3.connectionpool:Starting new HTTP connection (1): www.gutenberg.lib.md.us\n"
     ]
    },
    {
     "name": "stdout",
     "output_type": "stream",
     "text": [
      "Adding document\n",
      "Document second treatise of government already exists!\n",
      "\n",
      "That Author isn't one of the philosophers!\n",
      "\n",
      "Getting text for document selected essays by karl marx\n"
     ]
    },
    {
     "name": "stderr",
     "output_type": "stream",
     "text": [
      "INFO:requests.packages.urllib3.connectionpool:Starting new HTTP connection (1): www.gutenberg.lib.md.us\n",
      "INFO:requests.packages.urllib3.connectionpool:Starting new HTTP connection (1): www.gutenberg.lib.md.us\n"
     ]
    },
    {
     "name": "stdout",
     "output_type": "stream",
     "text": [
      "Adding document\n",
      "\n",
      "Getting text for document on liberty by john stuart mill\n"
     ]
    },
    {
     "name": "stderr",
     "output_type": "stream",
     "text": [
      "INFO:requests.packages.urllib3.connectionpool:Starting new HTTP connection (1): www.gutenberg.lib.md.us\n",
      "INFO:requests.packages.urllib3.connectionpool:Starting new HTTP connection (1): www.gutenberg.lib.md.us\n"
     ]
    },
    {
     "name": "stdout",
     "output_type": "stream",
     "text": [
      "Adding document\n",
      "Document on liberty already exists!\n",
      "\n",
      "Getting text for document considerations on representative government by john stuart mill\n"
     ]
    },
    {
     "name": "stderr",
     "output_type": "stream",
     "text": [
      "INFO:requests.packages.urllib3.connectionpool:Starting new HTTP connection (1): www.gutenberg.lib.md.us\n",
      "INFO:requests.packages.urllib3.connectionpool:Starting new HTTP connection (1): www.gutenberg.lib.md.us\n"
     ]
    },
    {
     "name": "stdout",
     "output_type": "stream",
     "text": [
      "Adding document\n",
      "\n",
      "Getting text for document essays on some unsettled questions of political economy by john stuart mill\n"
     ]
    },
    {
     "name": "stderr",
     "output_type": "stream",
     "text": [
      "INFO:requests.packages.urllib3.connectionpool:Starting new HTTP connection (1): www.gutenberg.lib.md.us\n",
      "INFO:requests.packages.urllib3.connectionpool:Starting new HTTP connection (1): www.gutenberg.lib.md.us\n"
     ]
    },
    {
     "name": "stdout",
     "output_type": "stream",
     "text": [
      "Adding document\n",
      "\n",
      "Getting text for document proposed roads to freedom by bertrand russell\n"
     ]
    },
    {
     "name": "stderr",
     "output_type": "stream",
     "text": [
      "INFO:requests.packages.urllib3.connectionpool:Starting new HTTP connection (1): www.gutenberg.lib.md.us\n",
      "INFO:requests.packages.urllib3.connectionpool:Starting new HTTP connection (1): www.gutenberg.lib.md.us\n"
     ]
    },
    {
     "name": "stdout",
     "output_type": "stream",
     "text": [
      "Adding document\n",
      "\n",
      "Getting text for document political ideals by bertrand russell\n"
     ]
    },
    {
     "name": "stderr",
     "output_type": "stream",
     "text": [
      "INFO:requests.packages.urllib3.connectionpool:Starting new HTTP connection (1): www.gutenberg.lib.md.us\n",
      "INFO:requests.packages.urllib3.connectionpool:Starting new HTTP connection (1): www.gutenberg.lib.md.us\n"
     ]
    },
    {
     "name": "stdout",
     "output_type": "stream",
     "text": [
      "Adding document\n",
      "\n",
      "That Author isn't one of the philosophers!\n",
      "\n",
      "Getting text for document literary and philosophical essays: french, german and italian by michel de montaigne\n"
     ]
    },
    {
     "name": "stderr",
     "output_type": "stream",
     "text": [
      "INFO:requests.packages.urllib3.connectionpool:Starting new HTTP connection (1): www.gutenberg.lib.md.us\n"
     ]
    },
    {
     "name": "stdout",
     "output_type": "stream",
     "text": [
      "Adding document\n",
      "\n",
      "Getting text for document democracy and education: an introduction to the philosophy of education by john dewey\n"
     ]
    },
    {
     "name": "stderr",
     "output_type": "stream",
     "text": [
      "INFO:requests.packages.urllib3.connectionpool:Starting new HTTP connection (1): www.gutenberg.lib.md.us\n",
      "INFO:requests.packages.urllib3.connectionpool:Starting new HTTP connection (1): www.gutenberg.lib.md.us\n",
      "INFO:requests.packages.urllib3.connectionpool:Starting new HTTP connection (1): www.gutenberg.lib.md.us\n"
     ]
    },
    {
     "name": "stdout",
     "output_type": "stream",
     "text": [
      "Adding document\n",
      "\n",
      "Getting text for document moral principles in education by john dewey\n"
     ]
    },
    {
     "name": "stderr",
     "output_type": "stream",
     "text": [
      "INFO:requests.packages.urllib3.connectionpool:Starting new HTTP connection (1): www.gutenberg.lib.md.us\n",
      "INFO:requests.packages.urllib3.connectionpool:Starting new HTTP connection (1): www.gutenberg.lib.md.us\n"
     ]
    },
    {
     "name": "stdout",
     "output_type": "stream",
     "text": [
      "Adding document\n",
      "\n",
      "Getting text for document euthyphro by plato\n"
     ]
    },
    {
     "name": "stderr",
     "output_type": "stream",
     "text": [
      "INFO:requests.packages.urllib3.connectionpool:Starting new HTTP connection (1): www.gutenberg.lib.md.us\n",
      "INFO:requests.packages.urllib3.connectionpool:Starting new HTTP connection (1): www.gutenberg.lib.md.us\n"
     ]
    },
    {
     "name": "stdout",
     "output_type": "stream",
     "text": [
      "Adding document\n",
      "Document euthyphro already exists!\n",
      "\n",
      "Getting text for document dialogues concerning natural religion by david hume\n"
     ]
    },
    {
     "name": "stderr",
     "output_type": "stream",
     "text": [
      "INFO:requests.packages.urllib3.connectionpool:Starting new HTTP connection (1): www.gutenberg.lib.md.us\n",
      "INFO:requests.packages.urllib3.connectionpool:Starting new HTTP connection (1): www.gutenberg.lib.md.us\n"
     ]
    },
    {
     "name": "stdout",
     "output_type": "stream",
     "text": [
      "Adding document\n",
      "Document dialogues concerning natural religion already exists!\n",
      "\n",
      "That Author isn't one of the philosophers!\n",
      "\n",
      "That Author isn't one of the philosophers!\n",
      "\n",
      "That Author isn't one of the philosophers!\n",
      "\n",
      "That Author isn't one of the philosophers!\n",
      "\n",
      "Getting text for document mysticism and logic and other essays by bertrand russell\n"
     ]
    },
    {
     "name": "stderr",
     "output_type": "stream",
     "text": [
      "INFO:requests.packages.urllib3.connectionpool:Starting new HTTP connection (1): www.gutenberg.lib.md.us\n",
      "INFO:requests.packages.urllib3.connectionpool:Starting new HTTP connection (1): www.gutenberg.lib.md.us\n"
     ]
    },
    {
     "name": "stdout",
     "output_type": "stream",
     "text": [
      "Adding document\n",
      "\n",
      "That Author isn't one of the philosophers!\n",
      "\n",
      "That Author isn't one of the philosophers!\n",
      "\n",
      "Getting text for document the antichrist by friedrich nietzsche\n"
     ]
    },
    {
     "name": "stderr",
     "output_type": "stream",
     "text": [
      "INFO:requests.packages.urllib3.connectionpool:Starting new HTTP connection (1): www.gutenberg.lib.md.us\n",
      "INFO:requests.packages.urllib3.connectionpool:Starting new HTTP connection (1): www.gutenberg.lib.md.us\n",
      "INFO:requests.packages.urllib3.connectionpool:Starting new HTTP connection (1): www.gutenberg.lib.md.us\n"
     ]
    },
    {
     "name": "stdout",
     "output_type": "stream",
     "text": [
      "Adding document\n",
      "\n",
      "That Author isn't one of the philosophers!\n",
      "\n",
      "That Author isn't one of the philosophers!\n",
      "\n",
      "That Author isn't one of the philosophers!\n",
      "\n",
      "That Author isn't one of the philosophers!\n",
      "\n",
      "That Author isn't one of the philosophers!\n",
      "\n",
      "That Author isn't one of the philosophers!\n",
      "\n",
      "Getting text for document achtundvierzig briefe von johann gottlieb fichte und seinen verwandten by fichte by johann gottlieb fichte\n"
     ]
    },
    {
     "name": "stderr",
     "output_type": "stream",
     "text": [
      "INFO:requests.packages.urllib3.connectionpool:Starting new HTTP connection (1): www.gutenberg.lib.md.us\n",
      "INFO:requests.packages.urllib3.connectionpool:Starting new HTTP connection (1): www.gutenberg.lib.md.us\n"
     ]
    },
    {
     "name": "stdout",
     "output_type": "stream",
     "text": [
      "Adding document\n",
      "\n",
      "Getting text for document autobiography by john stuart mill\n"
     ]
    },
    {
     "name": "stderr",
     "output_type": "stream",
     "text": [
      "INFO:requests.packages.urllib3.connectionpool:Starting new HTTP connection (1): www.gutenberg.lib.md.us\n"
     ]
    },
    {
     "name": "stdout",
     "output_type": "stream",
     "text": [
      "Adding document\n",
      "\n",
      "That Author isn't one of the philosophers!\n",
      "\n",
      "That Author isn't one of the philosophers!\n",
      "\n",
      "That Author isn't one of the philosophers!\n",
      "\n",
      "That Author isn't one of the philosophers!\n",
      "\n",
      "That Author isn't one of the philosophers!\n",
      "\n",
      "That Author isn't one of the philosophers!\n",
      "\n",
      "That Author isn't one of the philosophers!\n"
     ]
    }
   ],
   "source": [
    "for i in range(len(ids)):\n",
    "    author = authors[i].lower().strip()\n",
    "    title = doc_titles[i].lower().strip()\n",
    "    url = links[i].lower().strip()\n",
    "    year = 0\n",
    "    \n",
    "    if author in phils.df.name.values:\n",
    "        try:\n",
    "            print('\\nGetting text for document {} by {}'.format(title, author))\n",
    "            text = strip_headers(load_etext(ids[i])).strip()\n",
    "            beg_end = text.find('PREFACE')\n",
    "            end_start = text.find('INDEX OF NAMES')\n",
    "            text = text[beg_end:] + text[:end_start]\n",
    "\n",
    "            print('Adding document')\n",
    "            docs.add_document(author, title, year, text, url)\n",
    "        except ValueError:\n",
    "            print('Download URI for {} not supported'.format(ids[i]))\n",
    "    else:\n",
    "        print('\\nThat Author isn\\'t one of the philosophers!')"
   ]
  },
  {
   "cell_type": "code",
   "execution_count": 65,
   "metadata": {
    "collapsed": false
   },
   "outputs": [],
   "source": [
    "docs.save_df()"
   ]
  },
  {
   "cell_type": "code",
   "execution_count": null,
   "metadata": {
    "collapsed": true
   },
   "outputs": [],
   "source": []
  }
 ],
 "metadata": {
  "anaconda-cloud": {},
  "kernelspec": {
   "display_name": "Python [conda env:gb_env]",
   "language": "python",
   "name": "conda-env-gb_env-py"
  },
  "language_info": {
   "codemirror_mode": {
    "name": "ipython",
    "version": 3
   },
   "file_extension": ".py",
   "mimetype": "text/x-python",
   "name": "python",
   "nbconvert_exporter": "python",
   "pygments_lexer": "ipython3",
   "version": "3.5.2"
  }
 },
 "nbformat": 4,
 "nbformat_minor": 1
}
