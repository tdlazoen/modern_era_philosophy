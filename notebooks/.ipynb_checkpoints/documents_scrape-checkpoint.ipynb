{
 "cells": [
  {
   "cell_type": "code",
   "execution_count": 1,
   "metadata": {
    "collapsed": true
   },
   "outputs": [],
   "source": [
    "import requests\n",
    "from bs4 import BeautifulSoup\n",
    "from unidecode import unidecode\n",
    "from default_ordered_dict import DefaultOrderedDict\n",
    "from itertools import izip\n",
    "from string import punctuation\n",
    "import urllib\n",
    "import os\n",
    "import re\n",
    "import time"
   ]
  },
  {
   "cell_type": "code",
   "execution_count": 2,
   "metadata": {
    "collapsed": true
   },
   "outputs": [],
   "source": [
    "url = 'http://www.philosophy-index.com/texts.php'\n",
    "time.sleep(1)\n",
    "r = requests.get(url)\n",
    "soup = BeautifulSoup(r.content, 'html.parser')"
   ]
  },
  {
   "cell_type": "code",
   "execution_count": 10,
   "metadata": {
    "collapsed": false
   },
   "outputs": [
    {
     "data": {
      "text/plain": [
       "['Aristotle',\n",
       " 'St. Augustine',\n",
       " 'Francis Bacon',\n",
       " 'George Berkeley',\n",
       " 'Albert Camus',\n",
       " \"Baron D'Holbach\",\n",
       " 'Rene Descartes',\n",
       " 'Thomas Hobbes',\n",
       " 'David Hume',\n",
       " 'William James',\n",
       " 'Franz Kafka',\n",
       " 'Immanuel Kant',\n",
       " 'Lao Tzu',\n",
       " 'John Locke',\n",
       " 'Karl Marx',\n",
       " 'John Stuart Mill',\n",
       " 'St. Thomas More',\n",
       " 'Friedrich Nietzsche',\n",
       " 'Plato',\n",
       " 'Jean-Jacques Rousseau',\n",
       " 'Bertrand Russell',\n",
       " 'Baruch Spinoza',\n",
       " 'Henry David Thoreau',\n",
       " 'Ludwig Wittgenstein']"
      ]
     },
     "execution_count": 10,
     "metadata": {},
     "output_type": "execute_result"
    }
   ],
   "source": [
    "[unidecode(x.get_text()) for x in soup.select('h2')][:-4]"
   ]
  },
  {
   "cell_type": "code",
   "execution_count": null,
   "metadata": {
    "collapsed": true
   },
   "outputs": [],
   "source": []
  }
 ],
 "metadata": {
  "anaconda-cloud": {},
  "kernelspec": {
   "display_name": "Python [Root]",
   "language": "python",
   "name": "Python [Root]"
  },
  "language_info": {
   "codemirror_mode": {
    "name": "ipython",
    "version": 2
   },
   "file_extension": ".py",
   "mimetype": "text/x-python",
   "name": "python",
   "nbconvert_exporter": "python",
   "pygments_lexer": "ipython2",
   "version": "2.7.12"
  }
 },
 "nbformat": 4,
 "nbformat_minor": 0
}
